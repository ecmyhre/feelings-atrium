{
 "cells": [
  {
   "cell_type": "code",
   "execution_count": 1,
   "metadata": {},
   "outputs": [
    {
     "name": "stdout",
     "output_type": "stream",
     "text": [
      "<twitter.api.Twitter object at 0x00000178F9BC2E10>\n"
     ]
    }
   ],
   "source": [
    "import twitter\n",
    "\n",
    "CONSUMER_KEY = ''\n",
    "CONSUMER_SECRET = ''\n",
    "OAUTH_TOKEN = ''\n",
    "OAUTH_TOKEN_SECRET = ''\n",
    "\n",
    "auth = twitter.oauth.OAuth(OAUTH_TOKEN, OAUTH_TOKEN_SECRET,\n",
    "                           CONSUMER_KEY, CONSUMER_SECRET)\n",
    "\n",
    "twitter_api = twitter.Twitter(auth=auth)\n",
    "\n",
    "print(twitter_api)"
   ]
  },
  {
   "cell_type": "markdown",
   "metadata": {},
   "source": [
    "# Retrieving trends"
   ]
  },
  {
   "cell_type": "code",
   "execution_count": 2,
   "metadata": {},
   "outputs": [
    {
     "name": "stdout",
     "output_type": "stream",
     "text": [
      "[{'trends': [{'name': '#MeCaigoEnVivo', 'url': 'http://twitter.com/search?q=%23MeCaigoEnVivo', 'promoted_content': None, 'query': '%23MeCaigoEnVivo', 'tweet_volume': 14979}, {'name': '#ReleaseTheContract', 'url': 'http://twitter.com/search?q=%23ReleaseTheContract', 'promoted_content': None, 'query': '%23ReleaseTheContract', 'tweet_volume': 28011}, {'name': '#AllInTheFamily', 'url': 'http://twitter.com/search?q=%23AllInTheFamily', 'promoted_content': None, 'query': '%23AllInTheFamily', 'tweet_volume': 17726}, {'name': '#TheJeffersons', 'url': 'http://twitter.com/search?q=%23TheJeffersons', 'promoted_content': None, 'query': '%23TheJeffersons', 'tweet_volume': 15181}, {'name': '#ElectionResults2019', 'url': 'http://twitter.com/search?q=%23ElectionResults2019', 'promoted_content': None, 'query': '%23ElectionResults2019', 'tweet_volume': 58852}, {'name': 'Marco Ruben', 'url': 'http://twitter.com/search?q=%22Marco+Ruben%22', 'promoted_content': None, 'query': '%22Marco+Ruben%22', 'tweet_volume': None}, {'name': 'Marla Gibbs', 'url': 'http://twitter.com/search?q=%22Marla+Gibbs%22', 'promoted_content': None, 'query': '%22Marla+Gibbs%22', 'tweet_volume': None}, {'name': 'COAF', 'url': 'http://twitter.com/search?q=COAF', 'promoted_content': None, 'query': 'COAF', 'tweet_volume': 80638}, {'name': 'Morumbi', 'url': 'http://twitter.com/search?q=Morumbi', 'promoted_content': None, 'query': 'Morumbi', 'tweet_volume': None}, {'name': 'Casco', 'url': 'http://twitter.com/search?q=Casco', 'promoted_content': None, 'query': 'Casco', 'tweet_volume': None}, {'name': 'Roldán', 'url': 'http://twitter.com/search?q=Rold%C3%A1n', 'promoted_content': None, 'query': 'Rold%C3%A1n', 'tweet_volume': None}, {'name': 'Paranaense', 'url': 'http://twitter.com/search?q=Paranaense', 'promoted_content': None, 'query': 'Paranaense', 'tweet_volume': 11188}, {'name': 'キスの日', 'url': 'http://twitter.com/search?q=%E3%82%AD%E3%82%B9%E3%81%AE%E6%97%A5', 'promoted_content': None, 'query': '%E3%82%AD%E3%82%B9%E3%81%AE%E6%97%A5', 'tweet_volume': 59131}, {'name': 'Vamos River', 'url': 'http://twitter.com/search?q=%22Vamos+River%22', 'promoted_content': None, 'query': '%22Vamos+River%22', 'tweet_volume': None}, {'name': 'Rajai Davis', 'url': 'http://twitter.com/search?q=%22Rajai+Davis%22', 'promoted_content': None, 'query': '%22Rajai+Davis%22', 'tweet_volume': None}, {'name': 'All in the Family', 'url': 'http://twitter.com/search?q=%22All+in+the+Family%22', 'promoted_content': None, 'query': '%22All+in+the+Family%22', 'tweet_volume': None}, {'name': 'Joplin', 'url': 'http://twitter.com/search?q=Joplin', 'promoted_content': None, 'query': 'Joplin', 'tweet_volume': None}, {'name': 'José Aldo', 'url': 'http://twitter.com/search?q=%22Jos%C3%A9+Aldo%22', 'promoted_content': None, 'query': '%22Jos%C3%A9+Aldo%22', 'tweet_volume': None}, {'name': 'Jamie Foxx', 'url': 'http://twitter.com/search?q=%22Jamie+Foxx%22', 'promoted_content': None, 'query': '%22Jamie+Foxx%22', 'tweet_volume': None}, {'name': 'George Jefferson', 'url': 'http://twitter.com/search?q=%22George+Jefferson%22', 'promoted_content': None, 'query': '%22George+Jefferson%22', 'tweet_volume': None}, {'name': 'Juventude', 'url': 'http://twitter.com/search?q=Juventude', 'promoted_content': None, 'query': 'Juventude', 'tweet_volume': None}, {'name': 'Orioles', 'url': 'http://twitter.com/search?q=Orioles', 'promoted_content': None, 'query': 'Orioles', 'tweet_volume': 13526}, {'name': 'レモンの匂い', 'url': 'http://twitter.com/search?q=%E3%83%AC%E3%83%A2%E3%83%B3%E3%81%AE%E5%8C%82%E3%81%84', 'promoted_content': None, 'query': '%E3%83%AC%E3%83%A2%E3%83%B3%E3%81%AE%E5%8C%82%E3%81%84', 'tweet_volume': None}, {'name': '#LiveInFrontOfAStudioAudience', 'url': 'http://twitter.com/search?q=%23LiveInFrontOfAStudioAudience', 'promoted_content': None, 'query': '%23LiveInFrontOfAStudioAudience', 'tweet_volume': 18686}, {'name': '#عيديه_افنان_من_كارديال', 'url': 'http://twitter.com/search?q=%23%D8%B9%D9%8A%D8%AF%D9%8A%D9%87_%D8%A7%D9%81%D9%86%D8%A7%D9%86_%D9%85%D9%86_%D9%83%D8%A7%D8%B1%D8%AF%D9%8A%D8%A7%D9%84', 'promoted_content': None, 'query': '%23%D8%B9%D9%8A%D8%AF%D9%8A%D9%87_%D8%A7%D9%81%D9%86%D8%A7%D9%86_%D9%85%D9%86_%D9%83%D8%A7%D8%B1%D8%AF%D9%8A%D8%A7%D9%84', 'tweet_volume': 117324}, {'name': '#مرسيدس_نخبه_العود22', 'url': 'http://twitter.com/search?q=%23%D9%85%D8%B1%D8%B3%D9%8A%D8%AF%D8%B3_%D9%86%D8%AE%D8%A8%D9%87_%D8%A7%D9%84%D8%B9%D9%88%D8%AF22', 'promoted_content': None, 'query': '%23%D9%85%D8%B1%D8%B3%D9%8A%D8%AF%D8%B3_%D9%86%D8%AE%D8%A8%D9%87_%D8%A7%D9%84%D8%B9%D9%88%D8%AF22', 'tweet_volume': 204976}, {'name': '#1stVideoGameCrush', 'url': 'http://twitter.com/search?q=%231stVideoGameCrush', 'promoted_content': None, 'query': '%231stVideoGameCrush', 'tweet_volume': 44582}, {'name': '#زياد_الجهني', 'url': 'http://twitter.com/search?q=%23%D8%B2%D9%8A%D8%A7%D8%AF_%D8%A7%D9%84%D8%AC%D9%87%D9%86%D9%8A', 'promoted_content': None, 'query': '%23%D8%B2%D9%8A%D8%A7%D8%AF_%D8%A7%D9%84%D8%AC%D9%87%D9%86%D9%8A', 'tweet_volume': 30882}, {'name': '#RIVERxESPN', 'url': 'http://twitter.com/search?q=%23RIVERxESPN', 'promoted_content': None, 'query': '%23RIVERxESPN', 'tweet_volume': None}, {'name': '#TheChallenge33', 'url': 'http://twitter.com/search?q=%23TheChallenge33', 'promoted_content': None, 'query': '%23TheChallenge33', 'tweet_volume': None}, {'name': '#Verdict2019', 'url': 'http://twitter.com/search?q=%23Verdict2019', 'promoted_content': None, 'query': '%23Verdict2019', 'tweet_volume': None}, {'name': '#BrazilIsExcitedForBTS', 'url': 'http://twitter.com/search?q=%23BrazilIsExcitedForBTS', 'promoted_content': None, 'query': '%23BrazilIsExcitedForBTS', 'tweet_volume': 125286}, {'name': '#عيديات_وعطورات_مع_د_محمد_وسعد', 'url': 'http://twitter.com/search?q=%23%D8%B9%D9%8A%D8%AF%D9%8A%D8%A7%D8%AA_%D9%88%D8%B9%D8%B7%D9%88%D8%B1%D8%A7%D8%AA_%D9%85%D8%B9_%D8%AF_%D9%85%D8%AD%D9%85%D8%AF_%D9%88%D8%B3%D8%B9%D8%AF', 'promoted_content': None, 'query': '%23%D8%B9%D9%8A%D8%AF%D9%8A%D8%A7%D8%AA_%D9%88%D8%B9%D8%B7%D9%88%D8%B1%D8%A7%D8%AA_%D9%85%D8%B9_%D8%AF_%D9%85%D8%AD%D9%85%D8%AF_%D9%88%D8%B3%D8%B9%D8%AF', 'tweet_volume': 25867}, {'name': '#DetenteBenjamín', 'url': 'http://twitter.com/search?q=%23DetenteBenjam%C3%ADn', 'promoted_content': None, 'query': '%23DetenteBenjam%C3%ADn', 'tweet_volume': None}, {'name': '#JokowiMundurlah', 'url': 'http://twitter.com/search?q=%23JokowiMundurlah', 'promoted_content': None, 'query': '%23JokowiMundurlah', 'tweet_volume': 96706}, {'name': '#あなたのCLAMPはどこから', 'url': 'http://twitter.com/search?q=%23%E3%81%82%E3%81%AA%E3%81%9F%E3%81%AECLAMP%E3%81%AF%E3%81%A9%E3%81%93%E3%81%8B%E3%82%89', 'promoted_content': None, 'query': '%23%E3%81%82%E3%81%AA%E3%81%9F%E3%81%AECLAMP%E3%81%AF%E3%81%A9%E3%81%93%E3%81%8B%E3%82%89', 'tweet_volume': 33823}, {'name': '#مسابقه_طرق_الرياض18', 'url': 'http://twitter.com/search?q=%23%D9%85%D8%B3%D8%A7%D8%A8%D9%82%D9%87_%D8%B7%D8%B1%D9%82_%D8%A7%D9%84%D8%B1%D9%8A%D8%A7%D8%B618', 'promoted_content': None, 'query': '%23%D9%85%D8%B3%D8%A7%D8%A8%D9%82%D9%87_%D8%B7%D8%B1%D9%82_%D8%A7%D9%84%D8%B1%D9%8A%D8%A7%D8%B618', 'tweet_volume': None}, {'name': '#العاصوف_في_مجموعه_انسان', 'url': 'http://twitter.com/search?q=%23%D8%A7%D9%84%D8%B9%D8%A7%D8%B5%D9%88%D9%81_%D9%81%D9%8A_%D9%85%D8%AC%D9%85%D9%88%D8%B9%D9%87_%D8%A7%D9%86%D8%B3%D8%A7%D9%86', 'promoted_content': None, 'query': '%23%D8%A7%D9%84%D8%B9%D8%A7%D8%B5%D9%88%D9%81_%D9%81%D9%8A_%D9%85%D8%AC%D9%85%D9%88%D8%B9%D9%87_%D8%A7%D9%86%D8%B3%D8%A7%D9%86', 'tweet_volume': 27779}, {'name': '#WhereAreYouFrom', 'url': 'http://twitter.com/search?q=%23WhereAreYouFrom', 'promoted_content': None, 'query': '%23WhereAreYouFrom', 'tweet_volume': None}, {'name': '#ChicagoFire', 'url': 'http://twitter.com/search?q=%23ChicagoFire', 'promoted_content': None, 'query': '%23ChicagoFire', 'tweet_volume': None}, {'name': '#1stAnimeCrush', 'url': 'http://twitter.com/search?q=%231stAnimeCrush', 'promoted_content': None, 'query': '%231stAnimeCrush', 'tweet_volume': 14867}, {'name': '#مفروشات_العبداللطيف_7_ايفون', 'url': 'http://twitter.com/search?q=%23%D9%85%D9%81%D8%B1%D9%88%D8%B4%D8%A7%D8%AA_%D8%A7%D9%84%D8%B9%D8%A8%D8%AF%D8%A7%D9%84%D9%84%D8%B7%D9%8A%D9%81_7_%D8%A7%D9%8A%D9%81%D9%88%D9%86', 'promoted_content': None, 'query': '%23%D9%85%D9%81%D8%B1%D9%88%D8%B4%D8%A7%D8%AA_%D8%A7%D9%84%D8%B9%D8%A8%D8%AF%D8%A7%D9%84%D9%84%D8%B7%D9%8A%D9%81_7_%D8%A7%D9%8A%D9%81%D9%88%D9%86', 'tweet_volume': 132107}, {'name': '#مسابقه_المربع_نت١٨', 'url': 'http://twitter.com/search?q=%23%D9%85%D8%B3%D8%A7%D8%A8%D9%82%D9%87_%D8%A7%D9%84%D9%85%D8%B1%D8%A8%D8%B9_%D9%86%D8%AA%D9%A1%D9%A8', 'promoted_content': None, 'query': '%23%D9%85%D8%B3%D8%A7%D8%A8%D9%82%D9%87_%D8%A7%D9%84%D9%85%D8%B1%D8%A8%D8%B9_%D9%86%D8%AA%D9%A1%D9%A8', 'tweet_volume': None}, {'name': '#الهدايا_مع_احمد_5000_ريال', 'url': 'http://twitter.com/search?q=%23%D8%A7%D9%84%D9%87%D8%AF%D8%A7%D9%8A%D8%A7_%D9%85%D8%B9_%D8%A7%D8%AD%D9%85%D8%AF_5000_%D8%B1%D9%8A%D8%A7%D9%84', 'promoted_content': None, 'query': '%23%D8%A7%D9%84%D9%87%D8%AF%D8%A7%D9%8A%D8%A7_%D9%85%D8%B9_%D8%A7%D8%AD%D9%85%D8%AF_5000_%D8%B1%D9%8A%D8%A7%D9%84', 'tweet_volume': None}, {'name': '#GobackModi', 'url': 'http://twitter.com/search?q=%23GobackModi', 'promoted_content': None, 'query': '%23GobackModi', 'tweet_volume': None}, {'name': '#RecopaSudamericana', 'url': 'http://twitter.com/search?q=%23RecopaSudamericana', 'promoted_content': None, 'query': '%23RecopaSudamericana', 'tweet_volume': None}, {'name': '#愛してくれる人はいるのか', 'url': 'http://twitter.com/search?q=%23%E6%84%9B%E3%81%97%E3%81%A6%E3%81%8F%E3%82%8C%E3%82%8B%E4%BA%BA%E3%81%AF%E3%81%84%E3%82%8B%E3%81%AE%E3%81%8B', 'promoted_content': None, 'query': '%23%E6%84%9B%E3%81%97%E3%81%A6%E3%81%8F%E3%82%8C%E3%82%8B%E4%BA%BA%E3%81%AF%E3%81%84%E3%82%8B%E3%81%AE%E3%81%8B', 'tweet_volume': None}, {'name': '#ChicagoPD', 'url': 'http://twitter.com/search?q=%23ChicagoPD', 'promoted_content': None, 'query': '%23ChicagoPD', 'tweet_volume': None}, {'name': '#AmazingRace', 'url': 'http://twitter.com/search?q=%23AmazingRace', 'promoted_content': None, 'query': '%23AmazingRace', 'tweet_volume': None}, {'name': '#ABPresults2019', 'url': 'http://twitter.com/search?q=%23ABPresults2019', 'promoted_content': None, 'query': '%23ABPresults2019', 'tweet_volume': None}], 'as_of': '2019-05-23T02:54:11Z', 'created_at': '2019-05-23T02:47:30Z', 'locations': [{'name': 'Worldwide', 'woeid': 1}]}]\n",
      "\n",
      "[{'trends': [{'name': '#AllInTheFamily', 'url': 'http://twitter.com/search?q=%23AllInTheFamily', 'promoted_content': None, 'query': '%23AllInTheFamily', 'tweet_volume': 17726}, {'name': '#TheJeffersons', 'url': 'http://twitter.com/search?q=%23TheJeffersons', 'promoted_content': None, 'query': '%23TheJeffersons', 'tweet_volume': 15181}, {'name': '#LiveInFrontOfAStudioAudience', 'url': 'http://twitter.com/search?q=%23LiveInFrontOfAStudioAudience', 'promoted_content': None, 'query': '%23LiveInFrontOfAStudioAudience', 'tweet_volume': 18686}, {'name': '#ReleaseTheContract', 'url': 'http://twitter.com/search?q=%23ReleaseTheContract', 'promoted_content': None, 'query': '%23ReleaseTheContract', 'tweet_volume': 28011}, {'name': '#TheChallenge33', 'url': 'http://twitter.com/search?q=%23TheChallenge33', 'promoted_content': None, 'query': '%23TheChallenge33', 'tweet_volume': None}, {'name': 'Marla Gibbs', 'url': 'http://twitter.com/search?q=%22Marla+Gibbs%22', 'promoted_content': None, 'query': '%22Marla+Gibbs%22', 'tweet_volume': None}, {'name': 'Joplin', 'url': 'http://twitter.com/search?q=Joplin', 'promoted_content': None, 'query': 'Joplin', 'tweet_volume': None}, {'name': 'All in the Family', 'url': 'http://twitter.com/search?q=%22All+in+the+Family%22', 'promoted_content': None, 'query': '%22All+in+the+Family%22', 'tweet_volume': None}, {'name': 'Jamie Foxx', 'url': 'http://twitter.com/search?q=%22Jamie+Foxx%22', 'promoted_content': None, 'query': '%22Jamie+Foxx%22', 'tweet_volume': None}, {'name': 'Rajai Davis', 'url': 'http://twitter.com/search?q=%22Rajai+Davis%22', 'promoted_content': None, 'query': '%22Rajai+Davis%22', 'tweet_volume': None}, {'name': 'George Jefferson', 'url': 'http://twitter.com/search?q=%22George+Jefferson%22', 'promoted_content': None, 'query': '%22George+Jefferson%22', 'tweet_volume': None}, {'name': 'Orioles', 'url': 'http://twitter.com/search?q=Orioles', 'promoted_content': None, 'query': 'Orioles', 'tweet_volume': 13526}, {'name': 'Gleyber Torres', 'url': 'http://twitter.com/search?q=%22Gleyber+Torres%22', 'promoted_content': None, 'query': '%22Gleyber+Torres%22', 'tweet_volume': None}, {'name': 'Jennifer Hudson', 'url': 'http://twitter.com/search?q=%22Jennifer+Hudson%22', 'promoted_content': None, 'query': '%22Jennifer+Hudson%22', 'tweet_volume': None}, {'name': 'Norman Lear', 'url': 'http://twitter.com/search?q=%22Norman+Lear%22', 'promoted_content': None, 'query': '%22Norman+Lear%22', 'tweet_volume': None}, {'name': 'Marisa Tomei', 'url': 'http://twitter.com/search?q=%22Marisa+Tomei%22', 'promoted_content': None, 'query': '%22Marisa+Tomei%22', 'tweet_volume': None}, {'name': 'edith', 'url': 'http://twitter.com/search?q=edith', 'promoted_content': None, 'query': 'edith', 'tweet_volume': 37094}, {'name': 'Turbo', 'url': 'http://twitter.com/search?q=Turbo', 'promoted_content': None, 'query': 'Turbo', 'tweet_volume': 24736}, {'name': 'Golden City', 'url': 'http://twitter.com/search?q=%22Golden+City%22', 'promoted_content': None, 'query': '%22Golden+City%22', 'tweet_volume': None}, {'name': 'Juan Lagares', 'url': 'http://twitter.com/search?q=%22Juan+Lagares%22', 'promoted_content': None, 'query': '%22Juan+Lagares%22', 'tweet_volume': None}, {'name': 'Gary Thorne', 'url': 'http://twitter.com/search?q=%22Gary+Thorne%22', 'promoted_content': None, 'query': '%22Gary+Thorne%22', 'tweet_volume': None}, {'name': 'Harriet Tubman', 'url': 'http://twitter.com/search?q=%22Harriet+Tubman%22', 'promoted_content': None, 'query': '%22Harriet+Tubman%22', 'tweet_volume': 40150}, {'name': 'Charlie Tilson', 'url': 'http://twitter.com/search?q=%22Charlie+Tilson%22', 'promoted_content': None, 'query': '%22Charlie+Tilson%22', 'tweet_volume': None}, {'name': 'Archie Bunker', 'url': 'http://twitter.com/search?q=%22Archie+Bunker%22', 'promoted_content': None, 'query': '%22Archie+Bunker%22', 'tweet_volume': None}, {'name': 'Carl Junction', 'url': 'http://twitter.com/search?q=%22Carl+Junction%22', 'promoted_content': None, 'query': '%22Carl+Junction%22', 'tweet_volume': None}, {'name': 'Mother Jefferson', 'url': 'http://twitter.com/search?q=%22Mother+Jefferson%22', 'promoted_content': None, 'query': '%22Mother+Jefferson%22', 'tweet_volume': None}, {'name': 'Albert Almora', 'url': 'http://twitter.com/search?q=%22Albert+Almora%22', 'promoted_content': None, 'query': '%22Albert+Almora%22', 'tweet_volume': None}, {'name': 'Woody Harrelson', 'url': 'http://twitter.com/search?q=%22Woody+Harrelson%22', 'promoted_content': None, 'query': '%22Woody+Harrelson%22', 'tweet_volume': None}, {'name': 'kerry washington', 'url': 'http://twitter.com/search?q=%22kerry+washington%22', 'promoted_content': None, 'query': '%22kerry+washington%22', 'tweet_volume': None}, {'name': 'Sherman Hemsley', 'url': 'http://twitter.com/search?q=%22Sherman+Hemsley%22', 'promoted_content': None, 'query': '%22Sherman+Hemsley%22', 'tweet_volume': None}, {'name': 'New Apartment', 'url': 'http://twitter.com/search?q=%22New+Apartment%22', 'promoted_content': None, 'query': '%22New+Apartment%22', 'tweet_volume': None}, {'name': '#ChicagoFire', 'url': 'http://twitter.com/search?q=%23ChicagoFire', 'promoted_content': None, 'query': '%23ChicagoFire', 'tweet_volume': None}, {'name': '#ChicagoPD', 'url': 'http://twitter.com/search?q=%23ChicagoPD', 'promoted_content': None, 'query': '%23ChicagoPD', 'tweet_volume': None}, {'name': '#my600lblife', 'url': 'http://twitter.com/search?q=%23my600lblife', 'promoted_content': None, 'query': '%23my600lblife', 'tweet_volume': None}, {'name': '#AmazingRace', 'url': 'http://twitter.com/search?q=%23AmazingRace', 'promoted_content': None, 'query': '%23AmazingRace', 'tweet_volume': None}, {'name': '#1stAnimeCrush', 'url': 'http://twitter.com/search?q=%231stAnimeCrush', 'promoted_content': None, 'query': '%231stAnimeCrush', 'tweet_volume': 14867}, {'name': '#JEFFERSONS', 'url': 'http://twitter.com/search?q=%23JEFFERSONS', 'promoted_content': None, 'query': '%23JEFFERSONS', 'tweet_volume': None}, {'name': '#SaveWhiskeyCavalier', 'url': 'http://twitter.com/search?q=%23SaveWhiskeyCavalier', 'promoted_content': None, 'query': '%23SaveWhiskeyCavalier', 'tweet_volume': 13438}, {'name': '#TrumpTantrum', 'url': 'http://twitter.com/search?q=%23TrumpTantrum', 'promoted_content': None, 'query': '%23TrumpTantrum', 'tweet_volume': 24355}, {'name': '#PLLThePerfectionists', 'url': 'http://twitter.com/search?q=%23PLLThePerfectionists', 'promoted_content': None, 'query': '%23PLLThePerfectionists', 'tweet_volume': 23848}, {'name': '#ImpulsiveBuyingRegrets', 'url': 'http://twitter.com/search?q=%23ImpulsiveBuyingRegrets', 'promoted_content': None, 'query': '%23ImpulsiveBuyingRegrets', 'tweet_volume': None}, {'name': '#lastnightasaviking', 'url': 'http://twitter.com/search?q=%23lastnightasaviking', 'promoted_content': None, 'query': '%23lastnightasaviking', 'tweet_volume': None}, {'name': '#TheWeirdThingAboutMeIs', 'url': 'http://twitter.com/search?q=%23TheWeirdThingAboutMeIs', 'promoted_content': None, 'query': '%23TheWeirdThingAboutMeIs', 'tweet_volume': None}, {'name': '#WWENXT', 'url': 'http://twitter.com/search?q=%23WWENXT', 'promoted_content': None, 'query': '%23WWENXT', 'tweet_volume': None}, {'name': '#WhiskeyCavailer', 'url': 'http://twitter.com/search?q=%23WhiskeyCavailer', 'promoted_content': None, 'query': '%23WhiskeyCavailer', 'tweet_volume': None}, {'name': '#turbulentselfies', 'url': 'http://twitter.com/search?q=%23turbulentselfies', 'promoted_content': None, 'query': '%23turbulentselfies', 'tweet_volume': None}, {'name': '#SEALTeam', 'url': 'http://twitter.com/search?q=%23SEALTeam', 'promoted_content': None, 'query': '%23SEALTeam', 'tweet_volume': None}, {'name': '#ElectionResults2019', 'url': 'http://twitter.com/search?q=%23ElectionResults2019', 'promoted_content': None, 'query': '%23ElectionResults2019', 'tweet_volume': 58852}, {'name': '#OneChicago', 'url': 'http://twitter.com/search?q=%23OneChicago', 'promoted_content': None, 'query': '%23OneChicago', 'tweet_volume': None}, {'name': '#Stellaride', 'url': 'http://twitter.com/search?q=%23Stellaride', 'promoted_content': None, 'query': '%23Stellaride', 'tweet_volume': None}], 'as_of': '2019-05-23T02:54:11Z', 'created_at': '2019-05-23T02:47:30Z', 'locations': [{'name': 'United States', 'woeid': 23424977}]}]\n"
     ]
    }
   ],
   "source": [
    "WORLD_WOE_ID = 1\n",
    "US_WOE_ID = 23424977\n",
    "\n",
    "# Prefix ID with the underscore for query string parameterization.\n",
    "# Without the underscore, the twitter package appends the ID value\n",
    "# to the URL itself as a special case keyword argument.\n",
    "\n",
    "world_trends = twitter_api.trends.place(_id=WORLD_WOE_ID)\n",
    "us_trends = twitter_api.trends.place(_id=US_WOE_ID)\n",
    "\n",
    "print(world_trends)\n",
    "print()\n",
    "print(us_trends)"
   ]
  },
  {
   "cell_type": "code",
   "execution_count": 3,
   "metadata": {},
   "outputs": [
    {
     "name": "stdout",
     "output_type": "stream",
     "text": [
      "#MeCaigoEnVivo\n",
      "#ReleaseTheContract\n",
      "#AllInTheFamily\n",
      "#TheJeffersons\n",
      "#ElectionResults2019\n",
      "Marco Ruben\n",
      "Marla Gibbs\n",
      "COAF\n",
      "Morumbi\n",
      "Casco\n",
      "Roldán\n",
      "Paranaense\n",
      "キスの日\n",
      "Vamos River\n",
      "Rajai Davis\n",
      "All in the Family\n",
      "Joplin\n",
      "José Aldo\n",
      "Jamie Foxx\n",
      "George Jefferson\n",
      "Juventude\n",
      "Orioles\n",
      "レモンの匂い\n",
      "#LiveInFrontOfAStudioAudience\n",
      "#عيديه_افنان_من_كارديال\n",
      "#مرسيدس_نخبه_العود22\n",
      "#1stVideoGameCrush\n",
      "#زياد_الجهني\n",
      "#RIVERxESPN\n",
      "#TheChallenge33\n",
      "#Verdict2019\n",
      "#BrazilIsExcitedForBTS\n",
      "#عيديات_وعطورات_مع_د_محمد_وسعد\n",
      "#DetenteBenjamín\n",
      "#JokowiMundurlah\n",
      "#あなたのCLAMPはどこから\n",
      "#مسابقه_طرق_الرياض18\n",
      "#العاصوف_في_مجموعه_انسان\n",
      "#WhereAreYouFrom\n",
      "#ChicagoFire\n",
      "#1stAnimeCrush\n",
      "#مفروشات_العبداللطيف_7_ايفون\n",
      "#مسابقه_المربع_نت١٨\n",
      "#الهدايا_مع_احمد_5000_ريال\n",
      "#GobackModi\n",
      "#RecopaSudamericana\n",
      "#愛してくれる人はいるのか\n",
      "#ChicagoPD\n",
      "#AmazingRace\n",
      "#ABPresults2019\n"
     ]
    }
   ],
   "source": [
    "for trend in world_trends[0]['trends']:\n",
    "    print(trend['name'])"
   ]
  },
  {
   "cell_type": "code",
   "execution_count": 4,
   "metadata": {},
   "outputs": [
    {
     "name": "stdout",
     "output_type": "stream",
     "text": [
      "#AllInTheFamily\n",
      "#TheJeffersons\n",
      "#LiveInFrontOfAStudioAudience\n",
      "#ReleaseTheContract\n",
      "#TheChallenge33\n",
      "Marla Gibbs\n",
      "Joplin\n",
      "All in the Family\n",
      "Jamie Foxx\n",
      "Rajai Davis\n",
      "George Jefferson\n",
      "Orioles\n",
      "Gleyber Torres\n",
      "Jennifer Hudson\n",
      "Norman Lear\n",
      "Marisa Tomei\n",
      "edith\n",
      "Turbo\n",
      "Golden City\n",
      "Juan Lagares\n",
      "Gary Thorne\n",
      "Harriet Tubman\n",
      "Charlie Tilson\n",
      "Archie Bunker\n",
      "Carl Junction\n",
      "Mother Jefferson\n",
      "Albert Almora\n",
      "Woody Harrelson\n",
      "kerry washington\n",
      "Sherman Hemsley\n",
      "New Apartment\n",
      "#ChicagoFire\n",
      "#ChicagoPD\n",
      "#my600lblife\n",
      "#AmazingRace\n",
      "#1stAnimeCrush\n",
      "#JEFFERSONS\n",
      "#SaveWhiskeyCavalier\n",
      "#TrumpTantrum\n",
      "#PLLThePerfectionists\n",
      "#ImpulsiveBuyingRegrets\n",
      "#lastnightasaviking\n",
      "#TheWeirdThingAboutMeIs\n",
      "#WWENXT\n",
      "#WhiskeyCavailer\n",
      "#turbulentselfies\n",
      "#SEALTeam\n",
      "#ElectionResults2019\n",
      "#OneChicago\n",
      "#Stellaride\n"
     ]
    }
   ],
   "source": [
    "for trend in us_trends[0]['trends']:\n",
    "    print(trend['name'])"
   ]
  },
  {
   "cell_type": "code",
   "execution_count": 5,
   "metadata": {},
   "outputs": [
    {
     "name": "stdout",
     "output_type": "stream",
     "text": [
      "{'#TheJeffersons', 'Joplin', '#1stAnimeCrush', 'Orioles', 'George Jefferson', '#TheChallenge33', '#ElectionResults2019', '#AllInTheFamily', 'Rajai Davis', 'All in the Family', '#ChicagoFire', '#LiveInFrontOfAStudioAudience', '#AmazingRace', 'Jamie Foxx', '#ReleaseTheContract', '#ChicagoPD', 'Marla Gibbs'}\n"
     ]
    }
   ],
   "source": [
    "world_trends_set = set([trend['name'] \n",
    "                        for trend in world_trends[0]['trends']])\n",
    "\n",
    "us_trends_set = set([trend['name'] \n",
    "                     for trend in us_trends[0]['trends']]) \n",
    "\n",
    "common_trends = world_trends_set.intersection(us_trends_set)\n",
    "\n",
    "print(common_trends)"
   ]
  },
  {
   "cell_type": "markdown",
   "metadata": {},
   "source": [
    "# Anatomy of a Tweet"
   ]
  },
  {
   "cell_type": "code",
   "execution_count": 6,
   "metadata": {},
   "outputs": [
    {
     "name": "stdout",
     "output_type": "stream",
     "text": [
      "Length of statuses 65\n",
      "Length of statuses 140\n",
      "Length of statuses 227\n",
      "Length of statuses 327\n",
      "Length of statuses 415\n",
      "{\n",
      " \"created_at\": \"Thu May 23 02:57:00 +0000 2019\",\n",
      " \"id\": 1131393564984918016,\n",
      " \"id_str\": \"1131393564984918016\",\n",
      " \"text\": \"RT @AmazingRaceCBS: \\ud83e\\udd23\\ud83e\\udd23\\ud83e\\udd23 #AmazingRace https://t.co/8JBE6fOJie\",\n",
      " \"truncated\": false,\n",
      " \"entities\": {\n",
      "  \"hashtags\": [\n",
      "   {\n",
      "    \"text\": \"AmazingRace\",\n",
      "    \"indices\": [\n",
      "     24,\n",
      "     36\n",
      "    ]\n",
      "   }\n",
      "  ],\n",
      "  \"symbols\": [],\n",
      "  \"user_mentions\": [\n",
      "   {\n",
      "    \"screen_name\": \"AmazingRaceCBS\",\n",
      "    \"name\": \"The Amazing Race\",\n",
      "    \"id\": 68792362,\n",
      "    \"id_str\": \"68792362\",\n",
      "    \"indices\": [\n",
      "     3,\n",
      "     18\n",
      "    ]\n",
      "   }\n",
      "  ],\n",
      "  \"urls\": [],\n",
      "  \"media\": [\n",
      "   {\n",
      "    \"id\": 1131368162186817536,\n",
      "    \"id_str\": \"1131368162186817536\",\n",
      "    \"indices\": [\n",
      "     37,\n",
      "     60\n",
      "    ],\n",
      "    \"media_url\": \"http://pbs.twimg.com/tweet_video_thumb/D7NtWWlU8AA4FiR.jpg\",\n",
      "    \"media_url_https\": \"https://pbs.twimg.com/tweet_video_thumb/D7NtWWlU8AA4FiR.jpg\",\n",
      "    \"url\": \"https://t.co/8JBE6fOJie\",\n",
      "    \"display_url\": \"pic.twitter.com/8JBE6fOJie\",\n",
      "    \"expanded_url\": \"https://twitter.com/AmazingRaceCBS/status/1131369650489401344/photo/1\",\n",
      "    \"type\": \"photo\",\n",
      "    \"sizes\": {\n",
      "     \"thumb\": {\n",
      "      \"w\": 150,\n",
      "      \"h\": 150,\n",
      "      \"resize\": \"crop\"\n",
      "     },\n",
      "     \"large\": {\n",
      "      \"w\": 500,\n",
      "      \"h\": 280,\n",
      "      \"resize\": \"fit\"\n",
      "     },\n",
      "     \"medium\": {\n",
      "      \"w\": 500,\n",
      "      \"h\": 280,\n",
      "      \"resize\": \"fit\"\n",
      "     },\n",
      "     \"small\": {\n",
      "      \"w\": 500,\n",
      "      \"h\": 280,\n",
      "      \"resize\": \"fit\"\n",
      "     }\n",
      "    },\n",
      "    \"source_status_id\": 1131369650489401344,\n",
      "    \"source_status_id_str\": \"1131369650489401344\",\n",
      "    \"source_user_id\": 68792362,\n",
      "    \"source_user_id_str\": \"68792362\"\n",
      "   }\n",
      "  ]\n",
      " },\n",
      " \"extended_entities\": {\n",
      "  \"media\": [\n",
      "   {\n",
      "    \"id\": 1131368162186817536,\n",
      "    \"id_str\": \"1131368162186817536\",\n",
      "    \"indices\": [\n",
      "     37,\n",
      "     60\n",
      "    ],\n",
      "    \"media_url\": \"http://pbs.twimg.com/tweet_video_thumb/D7NtWWlU8AA4FiR.jpg\",\n",
      "    \"media_url_https\": \"https://pbs.twimg.com/tweet_video_thumb/D7NtWWlU8AA4FiR.jpg\",\n",
      "    \"url\": \"https://t.co/8JBE6fOJie\",\n",
      "    \"display_url\": \"pic.twitter.com/8JBE6fOJie\",\n",
      "    \"expanded_url\": \"https://twitter.com/AmazingRaceCBS/status/1131369650489401344/photo/1\",\n",
      "    \"type\": \"animated_gif\",\n",
      "    \"sizes\": {\n",
      "     \"thumb\": {\n",
      "      \"w\": 150,\n",
      "      \"h\": 150,\n",
      "      \"resize\": \"crop\"\n",
      "     },\n",
      "     \"large\": {\n",
      "      \"w\": 500,\n",
      "      \"h\": 280,\n",
      "      \"resize\": \"fit\"\n",
      "     },\n",
      "     \"medium\": {\n",
      "      \"w\": 500,\n",
      "      \"h\": 280,\n",
      "      \"resize\": \"fit\"\n",
      "     },\n",
      "     \"small\": {\n",
      "      \"w\": 500,\n",
      "      \"h\": 280,\n",
      "      \"resize\": \"fit\"\n",
      "     }\n",
      "    },\n",
      "    \"source_status_id\": 1131369650489401344,\n",
      "    \"source_status_id_str\": \"1131369650489401344\",\n",
      "    \"source_user_id\": 68792362,\n",
      "    \"source_user_id_str\": \"68792362\",\n",
      "    \"video_info\": {\n",
      "     \"aspect_ratio\": [\n",
      "      25,\n",
      "      14\n",
      "     ],\n",
      "     \"variants\": [\n",
      "      {\n",
      "       \"bitrate\": 0,\n",
      "       \"content_type\": \"video/mp4\",\n",
      "       \"url\": \"https://video.twimg.com/tweet_video/D7NtWWlU8AA4FiR.mp4\"\n",
      "      }\n",
      "     ]\n",
      "    }\n",
      "   }\n",
      "  ]\n",
      " },\n",
      " \"metadata\": {\n",
      "  \"iso_language_code\": \"und\",\n",
      "  \"result_type\": \"recent\"\n",
      " },\n",
      " \"source\": \"<a href=\\\"http://twitter.com/download/android\\\" rel=\\\"nofollow\\\">Twitter for Android</a>\",\n",
      " \"in_reply_to_status_id\": null,\n",
      " \"in_reply_to_status_id_str\": null,\n",
      " \"in_reply_to_user_id\": null,\n",
      " \"in_reply_to_user_id_str\": null,\n",
      " \"in_reply_to_screen_name\": null,\n",
      " \"user\": {\n",
      "  \"id\": 400946730,\n",
      "  \"id_str\": \"400946730\",\n",
      "  \"name\": \"ainembabazi pearl\",\n",
      "  \"screen_name\": \"ainepearl\",\n",
      "  \"location\": \"uganda\",\n",
      "  \"description\": \"\",\n",
      "  \"url\": null,\n",
      "  \"entities\": {\n",
      "   \"description\": {\n",
      "    \"urls\": []\n",
      "   }\n",
      "  },\n",
      "  \"protected\": false,\n",
      "  \"followers_count\": 14,\n",
      "  \"friends_count\": 157,\n",
      "  \"listed_count\": 0,\n",
      "  \"created_at\": \"Sat Oct 29 20:29:17 +0000 2011\",\n",
      "  \"favourites_count\": 420,\n",
      "  \"utc_offset\": null,\n",
      "  \"time_zone\": null,\n",
      "  \"geo_enabled\": false,\n",
      "  \"verified\": false,\n",
      "  \"statuses_count\": 213,\n",
      "  \"lang\": \"en\",\n",
      "  \"contributors_enabled\": false,\n",
      "  \"is_translator\": false,\n",
      "  \"is_translation_enabled\": false,\n",
      "  \"profile_background_color\": \"C0DEED\",\n",
      "  \"profile_background_image_url\": \"http://abs.twimg.com/images/themes/theme1/bg.png\",\n",
      "  \"profile_background_image_url_https\": \"https://abs.twimg.com/images/themes/theme1/bg.png\",\n",
      "  \"profile_background_tile\": false,\n",
      "  \"profile_image_url\": \"http://abs.twimg.com/sticky/default_profile_images/default_profile_normal.png\",\n",
      "  \"profile_image_url_https\": \"https://abs.twimg.com/sticky/default_profile_images/default_profile_normal.png\",\n",
      "  \"profile_link_color\": \"1DA1F2\",\n",
      "  \"profile_sidebar_border_color\": \"C0DEED\",\n",
      "  \"profile_sidebar_fill_color\": \"DDEEF6\",\n",
      "  \"profile_text_color\": \"333333\",\n",
      "  \"profile_use_background_image\": true,\n",
      "  \"has_extended_profile\": false,\n",
      "  \"default_profile\": true,\n",
      "  \"default_profile_image\": true,\n",
      "  \"following\": false,\n",
      "  \"follow_request_sent\": false,\n",
      "  \"notifications\": false,\n",
      "  \"translator_type\": \"none\"\n",
      " },\n",
      " \"geo\": null,\n",
      " \"coordinates\": null,\n",
      " \"place\": null,\n",
      " \"contributors\": null,\n",
      " \"retweeted_status\": {\n",
      "  \"created_at\": \"Thu May 23 01:21:59 +0000 2019\",\n",
      "  \"id\": 1131369650489401344,\n",
      "  \"id_str\": \"1131369650489401344\",\n",
      "  \"text\": \"\\ud83e\\udd23\\ud83e\\udd23\\ud83e\\udd23 #AmazingRace https://t.co/8JBE6fOJie\",\n",
      "  \"truncated\": false,\n",
      "  \"entities\": {\n",
      "   \"hashtags\": [\n",
      "    {\n",
      "     \"text\": \"AmazingRace\",\n",
      "     \"indices\": [\n",
      "      4,\n",
      "      16\n",
      "     ]\n",
      "    }\n",
      "   ],\n",
      "   \"symbols\": [],\n",
      "   \"user_mentions\": [],\n",
      "   \"urls\": [],\n",
      "   \"media\": [\n",
      "    {\n",
      "     \"id\": 1131368162186817536,\n",
      "     \"id_str\": \"1131368162186817536\",\n",
      "     \"indices\": [\n",
      "      17,\n",
      "      40\n",
      "     ],\n",
      "     \"media_url\": \"http://pbs.twimg.com/tweet_video_thumb/D7NtWWlU8AA4FiR.jpg\",\n",
      "     \"media_url_https\": \"https://pbs.twimg.com/tweet_video_thumb/D7NtWWlU8AA4FiR.jpg\",\n",
      "     \"url\": \"https://t.co/8JBE6fOJie\",\n",
      "     \"display_url\": \"pic.twitter.com/8JBE6fOJie\",\n",
      "     \"expanded_url\": \"https://twitter.com/AmazingRaceCBS/status/1131369650489401344/photo/1\",\n",
      "     \"type\": \"photo\",\n",
      "     \"sizes\": {\n",
      "      \"thumb\": {\n",
      "       \"w\": 150,\n",
      "       \"h\": 150,\n",
      "       \"resize\": \"crop\"\n",
      "      },\n",
      "      \"large\": {\n",
      "       \"w\": 500,\n",
      "       \"h\": 280,\n",
      "       \"resize\": \"fit\"\n",
      "      },\n",
      "      \"medium\": {\n",
      "       \"w\": 500,\n",
      "       \"h\": 280,\n",
      "       \"resize\": \"fit\"\n",
      "      },\n",
      "      \"small\": {\n",
      "       \"w\": 500,\n",
      "       \"h\": 280,\n",
      "       \"resize\": \"fit\"\n",
      "      }\n",
      "     }\n",
      "    }\n",
      "   ]\n",
      "  },\n",
      "  \"extended_entities\": {\n",
      "   \"media\": [\n",
      "    {\n",
      "     \"id\": 1131368162186817536,\n",
      "     \"id_str\": \"1131368162186817536\",\n",
      "     \"indices\": [\n",
      "      17,\n",
      "      40\n",
      "     ],\n",
      "     \"media_url\": \"http://pbs.twimg.com/tweet_video_thumb/D7NtWWlU8AA4FiR.jpg\",\n",
      "     \"media_url_https\": \"https://pbs.twimg.com/tweet_video_thumb/D7NtWWlU8AA4FiR.jpg\",\n",
      "     \"url\": \"https://t.co/8JBE6fOJie\",\n",
      "     \"display_url\": \"pic.twitter.com/8JBE6fOJie\",\n",
      "     \"expanded_url\": \"https://twitter.com/AmazingRaceCBS/status/1131369650489401344/photo/1\",\n",
      "     \"type\": \"animated_gif\",\n",
      "     \"sizes\": {\n",
      "      \"thumb\": {\n",
      "       \"w\": 150,\n",
      "       \"h\": 150,\n",
      "       \"resize\": \"crop\"\n",
      "      },\n",
      "      \"large\": {\n",
      "       \"w\": 500,\n",
      "       \"h\": 280,\n",
      "       \"resize\": \"fit\"\n",
      "      },\n",
      "      \"medium\": {\n",
      "       \"w\": 500,\n",
      "       \"h\": 280,\n",
      "       \"resize\": \"fit\"\n",
      "      },\n",
      "      \"small\": {\n",
      "       \"w\": 500,\n",
      "       \"h\": 280,\n",
      "       \"resize\": \"fit\"\n",
      "      }\n",
      "     },\n",
      "     \"video_info\": {\n",
      "      \"aspect_ratio\": [\n",
      "       25,\n",
      "       14\n",
      "      ],\n",
      "      \"variants\": [\n",
      "       {\n",
      "        \"bitrate\": 0,\n",
      "        \"content_type\": \"video/mp4\",\n",
      "        \"url\": \"https://video.twimg.com/tweet_video/D7NtWWlU8AA4FiR.mp4\"\n",
      "       }\n",
      "      ]\n",
      "     }\n",
      "    }\n",
      "   ]\n",
      "  },\n",
      "  \"metadata\": {\n",
      "   \"iso_language_code\": \"und\",\n",
      "   \"result_type\": \"recent\"\n",
      "  },\n",
      "  \"source\": \"<a href=\\\"http://twitter.com\\\" rel=\\\"nofollow\\\">Twitter Web Client</a>\",\n",
      "  \"in_reply_to_status_id\": null,\n",
      "  \"in_reply_to_status_id_str\": null,\n",
      "  \"in_reply_to_user_id\": null,\n",
      "  \"in_reply_to_user_id_str\": null,\n",
      "  \"in_reply_to_screen_name\": null,\n",
      "  \"user\": {\n",
      "   \"id\": 68792362,\n",
      "   \"id_str\": \"68792362\",\n",
      "   \"name\": \"The Amazing Race\",\n",
      "   \"screen_name\": \"AmazingRaceCBS\",\n",
      "   \"location\": \"\",\n",
      "   \"description\": \"Watch The #AmazingRace every Wednesday at 8/7c on @CBS and @CBSAllAccess!\",\n",
      "   \"url\": \"http://t.co/fbXOVssTeW\",\n",
      "   \"entities\": {\n",
      "    \"url\": {\n",
      "     \"urls\": [\n",
      "      {\n",
      "       \"url\": \"http://t.co/fbXOVssTeW\",\n",
      "       \"expanded_url\": \"http://cbs.com/amazingrace\",\n",
      "       \"display_url\": \"cbs.com/amazingrace\",\n",
      "       \"indices\": [\n",
      "        0,\n",
      "        22\n",
      "       ]\n",
      "      }\n",
      "     ]\n",
      "    },\n",
      "    \"description\": {\n",
      "     \"urls\": []\n",
      "    }\n",
      "   },\n",
      "   \"protected\": false,\n",
      "   \"followers_count\": 389634,\n",
      "   \"friends_count\": 94,\n",
      "   \"listed_count\": 1589,\n",
      "   \"created_at\": \"Tue Aug 25 20:01:42 +0000 2009\",\n",
      "   \"favourites_count\": 1157,\n",
      "   \"utc_offset\": null,\n",
      "   \"time_zone\": null,\n",
      "   \"geo_enabled\": false,\n",
      "   \"verified\": true,\n",
      "   \"statuses_count\": 5999,\n",
      "   \"lang\": \"en\",\n",
      "   \"contributors_enabled\": false,\n",
      "   \"is_translator\": false,\n",
      "   \"is_translation_enabled\": false,\n",
      "   \"profile_background_color\": \"161924\",\n",
      "   \"profile_background_image_url\": \"http://abs.twimg.com/images/themes/theme9/bg.gif\",\n",
      "   \"profile_background_image_url_https\": \"https://abs.twimg.com/images/themes/theme9/bg.gif\",\n",
      "   \"profile_background_tile\": false,\n",
      "   \"profile_image_url\": \"http://pbs.twimg.com/profile_images/1101657616814563328/IBIpXUyd_normal.png\",\n",
      "   \"profile_image_url_https\": \"https://pbs.twimg.com/profile_images/1101657616814563328/IBIpXUyd_normal.png\",\n",
      "   \"profile_banner_url\": \"https://pbs.twimg.com/profile_banners/68792362/1558037372\",\n",
      "   \"profile_link_color\": \"2FC2EF\",\n",
      "   \"profile_sidebar_border_color\": \"FFFFFF\",\n",
      "   \"profile_sidebar_fill_color\": \"FFFFCC\",\n",
      "   \"profile_text_color\": \"666666\",\n",
      "   \"profile_use_background_image\": true,\n",
      "   \"has_extended_profile\": false,\n",
      "   \"default_profile\": false,\n",
      "   \"default_profile_image\": false,\n",
      "   \"following\": false,\n",
      "   \"follow_request_sent\": false,\n",
      "   \"notifications\": false,\n",
      "   \"translator_type\": \"none\"\n",
      "  },\n",
      "  \"geo\": null,\n",
      "  \"coordinates\": null,\n",
      "  \"place\": null,\n",
      "  \"contributors\": null,\n",
      "  \"is_quote_status\": false,\n",
      "  \"retweet_count\": 15,\n",
      "  \"favorite_count\": 111,\n",
      "  \"favorited\": false,\n",
      "  \"retweeted\": false,\n",
      "  \"possibly_sensitive\": false,\n",
      "  \"lang\": \"und\"\n",
      " },\n",
      " \"is_quote_status\": false,\n",
      " \"retweet_count\": 15,\n",
      " \"favorite_count\": 0,\n",
      " \"favorited\": false,\n",
      " \"retweeted\": false,\n",
      " \"possibly_sensitive\": false,\n",
      " \"lang\": \"und\"\n",
      "}\n"
     ]
    }
   ],
   "source": [
    "import json\n",
    "\n",
    "\n",
    "q = '#AmazingRace' \n",
    "\n",
    "count = 100\n",
    "\n",
    "# Import unquote to prevent url encoding errors in next_results\n",
    "from urllib.parse import unquote\n",
    "\n",
    "# See https://dev.twitter.com/rest/reference/get/search/tweets\n",
    "\n",
    "search_results = twitter_api.search.tweets(q=q, count=count)\n",
    "\n",
    "statuses = search_results['statuses']\n",
    "\n",
    "\n",
    "# Iterate through 5 more batches of results by following the cursor\n",
    "for _ in range(5):\n",
    "    print('Length of statuses', len(statuses))\n",
    "    try:\n",
    "        next_results = search_results['search_metadata']['next_results']\n",
    "    except KeyError as e: # No more results when next_results doesn't exist\n",
    "        break\n",
    "        \n",
    "    # Create a dictionary from next_results, which has the following form:\n",
    "    # ?max_id=847960489447628799&q=%23RIPSelena&count=100&include_entities=1\n",
    "    kwargs = dict([ kv.split('=') for kv in unquote(next_results[1:]).split(\"&\") ])\n",
    "    \n",
    "    search_results = twitter_api.search.tweets(**kwargs)\n",
    "    statuses += search_results['statuses']\n",
    "\n",
    "# Show one sample search result by slicing the list...\n",
    "print(json.dumps(statuses[0], indent=1))"
   ]
  },
  {
   "cell_type": "code",
   "execution_count": 7,
   "metadata": {},
   "outputs": [
    {
     "name": "stdout",
     "output_type": "stream",
     "text": [
      "\n",
      "RT @AmazingRaceCBS: 🤣🤣🤣 #AmazingRace https://t.co/8JBE6fOJie\n",
      "Favorites:  0\n",
      "Retweets:  15\n",
      "\n",
      "RT @MattOMalley: Two weeks from tonight: Join @BretLaBelle &amp; me at Kellehers (1410 Centre St., Rosl.) for an @AmazingRaceCBS viewing party…\n",
      "Favorites:  0\n",
      "Retweets:  3\n",
      "\n",
      "The one nice thing about the head-to-head is that nobody has to be alone when they get eliminated. (I mean, that’s… https://t.co/sKtK8EU3iI\n",
      "Favorites:  1\n",
      "Retweets:  0\n",
      "\n",
      "RT @AmazingRaceCBS: Fun Detours, thrilling challenges, and intense head-to-head battles. Prepare for two exciting episodes of #AmazingRace…\n",
      "Favorites:  0\n",
      "Retweets:  35\n",
      "\n",
      "RT @AmazingRaceCBS: $1 million is still up for grabs, and the remaining teams are giving it their all. The #AmazingRace returns tonight at…\n",
      "Favorites:  0\n",
      "Retweets:  18\n",
      "\n",
      "RT @Alexafan23: @RachelEReilly @CBSTweet @RachelEReilly @ElissaReillyS #AmazingRace #TAR31 https://t.co/DNEFp1dWx9\n",
      "Favorites:  0\n",
      "Retweets:  1\n",
      "\n",
      "RT @AmazingRaceCBS: Dance break. #AmazingRace https://t.co/5ROwhISjQG\n",
      "Favorites:  0\n",
      "Retweets:  12\n",
      "\n",
      "Wow, these head-to-head portraits flatter nobody. #AmazingRace\n",
      "Favorites:  0\n",
      "Retweets:  0\n",
      "\n",
      "RT @PhilKeoghan: #BurjKhalifa not only the world's tallest building; tallest freestanding structure; highest number of stories; highest out…\n",
      "Favorites:  0\n",
      "Retweets:  6\n",
      "\n",
      "Making gay people travel to Uganda is not cool, #amazingrace\n",
      "Favorites:  0\n",
      "Retweets:  0\n"
     ]
    }
   ],
   "source": [
    "for i in range(10):\n",
    "    print()\n",
    "    print(statuses[i]['text'])\n",
    "    print('Favorites: ', statuses[i]['favorite_count'])\n",
    "    print('Retweets: ', statuses[i]['retweet_count'])"
   ]
  },
  {
   "cell_type": "markdown",
   "metadata": {},
   "source": [
    "# Extracting text, screen names, and hashtags from tweets¶\n"
   ]
  },
  {
   "cell_type": "code",
   "execution_count": 8,
   "metadata": {},
   "outputs": [
    {
     "name": "stdout",
     "output_type": "stream",
     "text": [
      "[\n",
      " \"RT @AmazingRaceCBS: \\ud83e\\udd23\\ud83e\\udd23\\ud83e\\udd23 #AmazingRace https://t.co/8JBE6fOJie\",\n",
      " \"RT @MattOMalley: Two weeks from tonight: Join @BretLaBelle &amp; me at Kellehers (1410 Centre St., Rosl.) for an @AmazingRaceCBS viewing party\\u2026\",\n",
      " \"The one nice thing about the head-to-head is that nobody has to be alone when they get eliminated. (I mean, that\\u2019s\\u2026 https://t.co/sKtK8EU3iI\",\n",
      " \"RT @AmazingRaceCBS: Fun Detours, thrilling challenges, and intense head-to-head battles. Prepare for two exciting episodes of #AmazingRace\\u2026\",\n",
      " \"RT @AmazingRaceCBS: $1 million is still up for grabs, and the remaining teams are giving it their all. The #AmazingRace returns tonight at\\u2026\"\n",
      "]\n",
      "[\n",
      " \"AmazingRaceCBS\",\n",
      " \"MattOMalley\",\n",
      " \"BretLaBelle\",\n",
      " \"AmazingRaceCBS\",\n",
      " \"AmazingRaceCBS\"\n",
      "]\n",
      "[\n",
      " \"AmazingRace\",\n",
      " \"AmazingRace\",\n",
      " \"AmazingRace\",\n",
      " \"AmazingRace\",\n",
      " \"TAR31\"\n",
      "]\n",
      "[\n",
      " \"RT\",\n",
      " \"@AmazingRaceCBS:\",\n",
      " \"\\ud83e\\udd23\\ud83e\\udd23\\ud83e\\udd23\",\n",
      " \"#AmazingRace\",\n",
      " \"https://t.co/8JBE6fOJie\"\n",
      "]\n"
     ]
    }
   ],
   "source": [
    "status_texts = [ status['text'] \n",
    "                 for status in statuses ]\n",
    "\n",
    "screen_names = [ user_mention['screen_name'] \n",
    "                 for status in statuses\n",
    "                     for user_mention in status['entities']['user_mentions'] ]\n",
    "\n",
    "hashtags = [ hashtag['text'] \n",
    "             for status in statuses\n",
    "                 for hashtag in status['entities']['hashtags'] ]\n",
    "\n",
    "# Compute a collection of all words from all tweets\n",
    "words = [ w \n",
    "          for t in status_texts \n",
    "              for w in t.split() ]\n",
    "\n",
    "# Explore the first 5 items for each...\n",
    "\n",
    "print(json.dumps(status_texts[0:5], indent=1))\n",
    "print(json.dumps(screen_names[0:5], indent=1) )\n",
    "print(json.dumps(hashtags[0:5], indent=1))\n",
    "print(json.dumps(words[0:5], indent=1))"
   ]
  },
  {
   "cell_type": "markdown",
   "metadata": {},
   "source": [
    "# Create a basic frequency distribution from the words in tweets"
   ]
  },
  {
   "cell_type": "code",
   "execution_count": 9,
   "metadata": {},
   "outputs": [
    {
     "name": "stdout",
     "output_type": "stream",
     "text": [
      "[('#AmazingRace', 382), ('the', 191), ('to', 161), ('and', 155), ('RT', 152), ('a', 146), ('is', 105), ('I', 89), ('on', 85), ('of', 76)]\n",
      "\n",
      "[('tyleroakley', 57), ('AmazingRaceCBS', 51), ('PhilKeoghan', 29), ('koreykuhl', 22), ('RachelEReilly', 13), ('JanellePierzina', 10), ('britney_haynes', 10), ('BretLaBelle', 9), ('BB_timc', 7), ('HaymakerHattie', 6)]\n",
      "\n",
      "[('AmazingRace', 421), ('amazingrace', 19), ('TAR31', 14), ('TeamTylerandKorey', 13), ('TAR', 9), ('Survivor', 7), ('RacersRecap', 7), ('TeamTylerAndKorey', 6), ('BigBrother', 6), ('Head2Head', 5)]\n",
      "\n"
     ]
    }
   ],
   "source": [
    "from collections import Counter\n",
    "\n",
    "for item in [words, screen_names, hashtags]:\n",
    "    c = Counter(item)\n",
    "    print(c.most_common()[:10]) # top 10\n",
    "    print()"
   ]
  },
  {
   "cell_type": "markdown",
   "metadata": {},
   "source": [
    "# Using prettytable to display tuples in a nice tabular format\n"
   ]
  },
  {
   "cell_type": "code",
   "execution_count": 11,
   "metadata": {},
   "outputs": [
    {
     "data": {
      "text/plain": [
       "[None, None, None, None, None, None, None, None, None, None]"
      ]
     },
     "execution_count": 11,
     "metadata": {},
     "output_type": "execute_result"
    },
    {
     "name": "stdout",
     "output_type": "stream",
     "text": [
      "+--------------+-------+\n",
      "| Word         | Count |\n",
      "+--------------+-------+\n",
      "| #AmazingRace |   382 |\n",
      "| the          |   191 |\n",
      "| to           |   161 |\n",
      "| and          |   155 |\n",
      "| RT           |   152 |\n",
      "| a            |   146 |\n",
      "| is           |   105 |\n",
      "| I            |    89 |\n",
      "| on           |    85 |\n",
      "| of           |    76 |\n",
      "+--------------+-------+\n"
     ]
    },
    {
     "data": {
      "text/plain": [
       "[None, None, None, None, None, None, None, None, None, None]"
      ]
     },
     "execution_count": 11,
     "metadata": {},
     "output_type": "execute_result"
    },
    {
     "name": "stdout",
     "output_type": "stream",
     "text": [
      "+-----------------+-------+\n",
      "| Screen Name     | Count |\n",
      "+-----------------+-------+\n",
      "| tyleroakley     |    57 |\n",
      "| AmazingRaceCBS  |    51 |\n",
      "| PhilKeoghan     |    29 |\n",
      "| koreykuhl       |    22 |\n",
      "| RachelEReilly   |    13 |\n",
      "| JanellePierzina |    10 |\n",
      "| britney_haynes  |    10 |\n",
      "| BretLaBelle     |     9 |\n",
      "| BB_timc         |     7 |\n",
      "| HaymakerHattie  |     6 |\n",
      "+-----------------+-------+\n"
     ]
    },
    {
     "data": {
      "text/plain": [
       "[None, None, None, None, None, None, None, None, None, None]"
      ]
     },
     "execution_count": 11,
     "metadata": {},
     "output_type": "execute_result"
    },
    {
     "name": "stdout",
     "output_type": "stream",
     "text": [
      "+-------------------+-------+\n",
      "| Hashtag           | Count |\n",
      "+-------------------+-------+\n",
      "| AmazingRace       |   421 |\n",
      "| amazingrace       |    19 |\n",
      "| TAR31             |    14 |\n",
      "| TeamTylerandKorey |    13 |\n",
      "| TAR               |     9 |\n",
      "| Survivor          |     7 |\n",
      "| RacersRecap       |     7 |\n",
      "| TeamTylerAndKorey |     6 |\n",
      "| BigBrother        |     6 |\n",
      "| Head2Head         |     5 |\n",
      "+-------------------+-------+\n"
     ]
    }
   ],
   "source": [
    "from prettytable import PrettyTable\n",
    "\n",
    "for label, data in (('Word', words), \n",
    "                    ('Screen Name', screen_names), \n",
    "                    ('Hashtag', hashtags)):\n",
    "    pt = PrettyTable(field_names=[label, 'Count']) \n",
    "    c = Counter(data)\n",
    "    [ pt.add_row(kv) for kv in c.most_common()[:10] ]\n",
    "    pt.align[label], pt.align['Count'] = 'l', 'r' # Set column alignment\n",
    "    print(pt)"
   ]
  },
  {
   "cell_type": "markdown",
   "metadata": {},
   "source": [
    "# Calculating lexical diversity for tweets"
   ]
  },
  {
   "cell_type": "code",
   "execution_count": 12,
   "metadata": {},
   "outputs": [
    {
     "name": "stdout",
     "output_type": "stream",
     "text": [
      "0.29327708219923787\n",
      "0.28106508875739644\n",
      "0.11525974025974026\n",
      "14.43614931237721\n"
     ]
    }
   ],
   "source": [
    "\n",
    "# A function for computing lexical diversity\n",
    "def lexical_diversity(tokens):\n",
    "    return len(set(tokens))/len(tokens) \n",
    "\n",
    "# A function for computing the average number of words per tweet\n",
    "def average_words(statuses):\n",
    "    total_words = sum([ len(s.split()) for s in statuses ]) \n",
    "    return total_words/len(statuses)\n",
    "\n",
    "print(lexical_diversity(words))\n",
    "print(lexical_diversity(screen_names))\n",
    "print(lexical_diversity(hashtags))\n",
    "print(average_words(status_texts))"
   ]
  },
  {
   "cell_type": "markdown",
   "metadata": {},
   "source": [
    "# Find most popular retweets"
   ]
  },
  {
   "cell_type": "code",
   "execution_count": 13,
   "metadata": {},
   "outputs": [
    {
     "data": {
      "text/plain": [
       "[None, None, None, None, None]"
      ]
     },
     "execution_count": 13,
     "metadata": {},
     "output_type": "execute_result"
    },
    {
     "name": "stdout",
     "output_type": "stream",
     "text": [
      "+-------+-------------+---------------------+----------------------------------------------------+\n",
      "| Count | Screen Name | Tweet ID            | Text                                               |\n",
      "+-------+-------------+---------------------+----------------------------------------------------+\n",
      "| 149   | tyleroakley | 1131349357075111936 | RT @tyleroakley: tonight on #AmazingRace, queer    |\n",
      "|       |             |                     | contestants were sent to locations where being     |\n",
      "|       |             |                     | queer is a crime. being there with protectio…      |\n",
      "| 149   | tyleroakley | 1131349357075111936 | RT @tyleroakley: tonight on #AmazingRace, queer    |\n",
      "|       |             |                     | contestants were sent to locations where being     |\n",
      "|       |             |                     | queer is a crime. being there with protectio…      |\n",
      "| 149   | tyleroakley | 1131349357075111936 | RT @tyleroakley: tonight on #AmazingRace, queer    |\n",
      "|       |             |                     | contestants were sent to locations where being     |\n",
      "|       |             |                     | queer is a crime. being there with protectio…      |\n",
      "| 149   | tyleroakley | 1131349357075111936 | RT @tyleroakley: tonight on #AmazingRace, queer    |\n",
      "|       |             |                     | contestants were sent to locations where being     |\n",
      "|       |             |                     | queer is a crime. being there with protectio…      |\n",
      "| 149   | tyleroakley | 1131349357075111936 | RT @tyleroakley: tonight on #AmazingRace, queer    |\n",
      "|       |             |                     | contestants were sent to locations where being     |\n",
      "|       |             |                     | queer is a crime. being there with protectio…      |\n",
      "+-------+-------------+---------------------+----------------------------------------------------+\n"
     ]
    }
   ],
   "source": [
    "retweets = [\n",
    "            # Store out a tuple of these three values ...\n",
    "            (status['retweet_count'], \n",
    "             status['retweeted_status']['user']['screen_name'],\n",
    "             status['retweeted_status']['id'],\n",
    "             status['text']) \n",
    "            \n",
    "            # ... for each status ...\n",
    "            for status in statuses \n",
    "            \n",
    "            # ... so long as the status meets this condition.\n",
    "                if 'retweeted_status' in status.keys()\n",
    "           ]\n",
    "\n",
    "# Slice off the first 5 from the sorted results and display each item in the tuple\n",
    "\n",
    "pt = PrettyTable(field_names=['Count', 'Screen Name', 'Tweet ID', 'Text'])\n",
    "[ pt.add_row(row) for row in sorted(retweets, reverse=True)[:5] ]\n",
    "pt.max_width['Text'] = 50\n",
    "pt.align= 'l'\n",
    "print(pt)"
   ]
  },
  {
   "cell_type": "markdown",
   "metadata": {},
   "source": [
    "# Looking up users who have retweeted a status"
   ]
  },
  {
   "cell_type": "code",
   "execution_count": 28,
   "metadata": {},
   "outputs": [
    {
     "name": "stdout",
     "output_type": "stream",
     "text": [
      "['itstylernicole', 'mattjuniper', 'DarkSkyDestiny', 'BBvsSurvivor', 'd_m_elms', 'Pamela_Jocelyn', 'snitchseeker731', 'LeoRule4ever', 'elana_danielle', 'MyLifeAs_Ashley', 'kyrababy27', '86TB', 'M_A_Schilling', 'AshleeRenayy', 'JAMartin912', 'OGBigSprite', 'Cc87962961']\n"
     ]
    }
   ],
   "source": [
    "# Get the original tweet id for a tweet from its retweeted_status node \n",
    "# and insert it here\n",
    "\n",
    "_retweets = twitter_api.statuses.retweets(id=1131349357075111936)\n",
    "print([r['user']['screen_name'] for r in _retweets])"
   ]
  },
  {
   "cell_type": "markdown",
   "metadata": {},
   "source": [
    "# Plotting frequencies of words"
   ]
  },
  {
   "cell_type": "code",
   "execution_count": 29,
   "metadata": {},
   "outputs": [
    {
     "data": {
      "text/plain": [
       "[<matplotlib.lines.Line2D at 0x178ff0c5668>]"
      ]
     },
     "execution_count": 29,
     "metadata": {},
     "output_type": "execute_result"
    },
    {
     "data": {
      "text/plain": [
       "Text(0,0.5,'Freq')"
      ]
     },
     "execution_count": 29,
     "metadata": {},
     "output_type": "execute_result"
    },
    {
     "data": {
      "text/plain": [
       "Text(0.5,0,'Word Rank')"
      ]
     },
     "execution_count": 29,
     "metadata": {},
     "output_type": "execute_result"
    },
    {
     "data": {
      "image/png": "[encoded data removed]",
      "text/plain": [
       "<Figure size 432x288 with 1 Axes>"
      ]
     },
     "metadata": {},
     "output_type": "display_data"
    }
   ],
   "source": [
    "\n",
    "import matplotlib.pyplot as plt\n",
    "%matplotlib inline\n",
    "word_counts = sorted(Counter(words).values(), reverse=True)\n",
    "\n",
    "plt.loglog(word_counts)\n",
    "plt.ylabel(\"Freq\")\n",
    "plt.xlabel(\"Word Rank\")"
   ]
  },
  {
   "cell_type": "markdown",
   "metadata": {},
   "source": [
    "# Generating histograms of words, screen names, and hashtags"
   ]
  },
  {
   "cell_type": "code",
   "execution_count": 30,
   "metadata": {},
   "outputs": [
    {
     "data": {
      "text/plain": [
       "(array([2.136e+03, 1.000e+01, 3.000e+00, 2.000e+00, 3.000e+00, 0.000e+00,\n",
       "        0.000e+00, 0.000e+00, 0.000e+00, 1.000e+00]),\n",
       " array([  1. ,  39.1,  77.2, 115.3, 153.4, 191.5, 229.6, 267.7, 305.8,\n",
       "        343.9, 382. ]),\n",
       " <a list of 10 Patch objects>)"
      ]
     },
     "execution_count": 30,
     "metadata": {},
     "output_type": "execute_result"
    },
    {
     "data": {
      "text/plain": [
       "Text(0.5,1,'Words')"
      ]
     },
     "execution_count": 30,
     "metadata": {},
     "output_type": "execute_result"
    },
    {
     "data": {
      "text/plain": [
       "Text(0,0.5,'Number of items in bin')"
      ]
     },
     "execution_count": 30,
     "metadata": {},
     "output_type": "execute_result"
    },
    {
     "data": {
      "text/plain": [
       "Text(0.5,0,'Bins (number of times an item appeared)')"
      ]
     },
     "execution_count": 30,
     "metadata": {},
     "output_type": "execute_result"
    },
    {
     "data": {
      "text/plain": [
       "<Figure size 432x288 with 0 Axes>"
      ]
     },
     "execution_count": 30,
     "metadata": {},
     "output_type": "execute_result"
    },
    {
     "data": {
      "text/plain": [
       "(array([86.,  4.,  1.,  1.,  0.,  1.,  0.,  0.,  1.,  1.]),\n",
       " array([ 1. ,  6.6, 12.2, 17.8, 23.4, 29. , 34.6, 40.2, 45.8, 51.4, 57. ]),\n",
       " <a list of 10 Patch objects>)"
      ]
     },
     "execution_count": 30,
     "metadata": {},
     "output_type": "execute_result"
    },
    {
     "data": {
      "text/plain": [
       "Text(0.5,1,'Screen Names')"
      ]
     },
     "execution_count": 30,
     "metadata": {},
     "output_type": "execute_result"
    },
    {
     "data": {
      "text/plain": [
       "Text(0,0.5,'Number of items in bin')"
      ]
     },
     "execution_count": 30,
     "metadata": {},
     "output_type": "execute_result"
    },
    {
     "data": {
      "text/plain": [
       "Text(0.5,0,'Bins (number of times an item appeared)')"
      ]
     },
     "execution_count": 30,
     "metadata": {},
     "output_type": "execute_result"
    },
    {
     "data": {
      "text/plain": [
       "<Figure size 432x288 with 0 Axes>"
      ]
     },
     "execution_count": 30,
     "metadata": {},
     "output_type": "execute_result"
    },
    {
     "data": {
      "text/plain": [
       "(array([70.,  0.,  0.,  0.,  0.,  0.,  0.,  0.,  0.,  1.]),\n",
       " array([  1.,  43.,  85., 127., 169., 211., 253., 295., 337., 379., 421.]),\n",
       " <a list of 10 Patch objects>)"
      ]
     },
     "execution_count": 30,
     "metadata": {},
     "output_type": "execute_result"
    },
    {
     "data": {
      "text/plain": [
       "Text(0.5,1,'Hashtags')"
      ]
     },
     "execution_count": 30,
     "metadata": {},
     "output_type": "execute_result"
    },
    {
     "data": {
      "text/plain": [
       "Text(0,0.5,'Number of items in bin')"
      ]
     },
     "execution_count": 30,
     "metadata": {},
     "output_type": "execute_result"
    },
    {
     "data": {
      "text/plain": [
       "Text(0.5,0,'Bins (number of times an item appeared)')"
      ]
     },
     "execution_count": 30,
     "metadata": {},
     "output_type": "execute_result"
    },
    {
     "data": {
      "text/plain": [
       "<Figure size 432x288 with 0 Axes>"
      ]
     },
     "execution_count": 30,
     "metadata": {},
     "output_type": "execute_result"
    },
    {
     "data": {
      "image/png": "[encoded data removed]",
      "text/plain": [
       "<Figure size 432x288 with 1 Axes>"
      ]
     },
     "metadata": {},
     "output_type": "display_data"
    },
    {
     "data": {
      "image/png": "[encoded data removed]",
      "text/plain": [
       "<Figure size 432x288 with 1 Axes>"
      ]
     },
     "metadata": {},
     "output_type": "display_data"
    },
    {
     "data": {
      "image/png": "[encoded data removed]",
      "text/plain": [
       "<Figure size 432x288 with 1 Axes>"
      ]
     },
     "metadata": {},
     "output_type": "display_data"
    },
    {
     "data": {
      "text/plain": [
       "<Figure size 432x288 with 0 Axes>"
      ]
     },
     "metadata": {},
     "output_type": "display_data"
    }
   ],
   "source": [
    "for label, data in (('Words', words), \n",
    "                    ('Screen Names', screen_names), \n",
    "                    ('Hashtags', hashtags)):\n",
    "\n",
    "    # Build a frequency map for each set of data\n",
    "    # and plot the values\n",
    "    c = Counter(data)\n",
    "    plt.hist(list(c.values()))\n",
    "    \n",
    "    # Add a title and y-label ...\n",
    "    plt.title(label)\n",
    "    plt.ylabel(\"Number of items in bin\")\n",
    "    plt.xlabel(\"Bins (number of times an item appeared)\")\n",
    "    \n",
    "    # ... and display as a new figure\n",
    "    plt.figure()"
   ]
  },
  {
   "cell_type": "markdown",
   "metadata": {},
   "source": [
    "# Generating a histogram of retweet counts"
   ]
  },
  {
   "cell_type": "code",
   "execution_count": 16,
   "metadata": {},
   "outputs": [
    {
     "data": {
      "text/plain": [
       "(array([114.,   8.,   2.,   0.,   0.,   0.,   0.,   0.,   0.,  27.]),\n",
       " array([  1. ,  15.8,  30.6,  45.4,  60.2,  75. ,  89.8, 104.6, 119.4,\n",
       "        134.2, 149. ]),\n",
       " <a list of 10 Patch objects>)"
      ]
     },
     "execution_count": 16,
     "metadata": {},
     "output_type": "execute_result"
    },
    {
     "data": {
      "text/plain": [
       "Text(0.5,1,'Retweets')"
      ]
     },
     "execution_count": 16,
     "metadata": {},
     "output_type": "execute_result"
    },
    {
     "data": {
      "text/plain": [
       "Text(0.5,0,'Bins (number of times retweeted)')"
      ]
     },
     "execution_count": 16,
     "metadata": {},
     "output_type": "execute_result"
    },
    {
     "data": {
      "text/plain": [
       "Text(0,0.5,'Number of tweets in bin')"
      ]
     },
     "execution_count": 16,
     "metadata": {},
     "output_type": "execute_result"
    },
    {
     "data": {
      "image/png": "[encoded data removed]",
      "text/plain": [
       "<Figure size 432x288 with 1 Axes>"
      ]
     },
     "metadata": {},
     "output_type": "display_data"
    }
   ],
   "source": [
    "# Using underscores while unpacking values in\n",
    "# a tuple is idiomatic for discarding them\n",
    "\n",
    "counts = [count for count, _, _, _ in retweets]\n",
    "\n",
    "plt.hist(counts)\n",
    "plt.title('Retweets')\n",
    "plt.xlabel('Bins (number of times retweeted)')\n",
    "plt.ylabel('Number of tweets in bin')"
   ]
  },
  {
   "cell_type": "markdown",
   "metadata": {},
   "source": [
    "# Sentiment"
   ]
  },
  {
   "cell_type": "code",
   "execution_count": 17,
   "metadata": {},
   "outputs": [
    {
     "name": "stdout",
     "output_type": "stream",
     "text": [
      "[nltk_data] Downloading package vader_lexicon to\n",
      "[nltk_data]     C:\\Users\\emyhr\\AppData\\Roaming\\nltk_data...\n"
     ]
    },
    {
     "data": {
      "text/plain": [
       "True"
      ]
     },
     "execution_count": 17,
     "metadata": {},
     "output_type": "execute_result"
    },
    {
     "name": "stderr",
     "output_type": "stream",
     "text": [
      "C:\\Users\\emyhr\\Anaconda3\\lib\\site-packages\\nltk\\twitter\\__init__.py:20: UserWarning: The twython library has not been installed. Some functionality from the twitter package will not be available.\n",
      "  warnings.warn(\"The twython library has not been installed. \"\n"
     ]
    }
   ],
   "source": [
    "# pip install nltk\n",
    "import nltk\n",
    "nltk.download('vader_lexicon')\n",
    "\n",
    "import numpy as np\n",
    "from nltk.sentiment.vader import SentimentIntensityAnalyzer"
   ]
  },
  {
   "cell_type": "code",
   "execution_count": 18,
   "metadata": {},
   "outputs": [],
   "source": [
    "twitter_stream = twitter.TwitterStream(auth=auth)\n",
    "iterator = twitter_stream.statuses.sample()"
   ]
  },
  {
   "cell_type": "code",
   "execution_count": 19,
   "metadata": {},
   "outputs": [],
   "source": [
    "\n",
    "tweets = []\n",
    "for tweet in iterator:\n",
    "    try:\n",
    "        if tweet['lang'] == 'en':\n",
    "            tweets.append(tweet)\n",
    "    except:\n",
    "        pass\n",
    "    if len(tweets) == 100:\n",
    "        break"
   ]
  },
  {
   "cell_type": "code",
   "execution_count": 20,
   "metadata": {},
   "outputs": [],
   "source": [
    "analyzer = SentimentIntensityAnalyzer()\n"
   ]
  },
  {
   "cell_type": "code",
   "execution_count": 21,
   "metadata": {},
   "outputs": [
    {
     "data": {
      "text/plain": [
       "{'neg': 0.0, 'neu': 1.0, 'pos': 0.0, 'compound': 0.0}"
      ]
     },
     "execution_count": 21,
     "metadata": {},
     "output_type": "execute_result"
    }
   ],
   "source": [
    "analyzer.polarity_scores('Hello')\n"
   ]
  },
  {
   "cell_type": "code",
   "execution_count": 23,
   "metadata": {},
   "outputs": [],
   "source": [
    "scores = np.zeros(len(tweets))\n",
    "\n",
    "for i, t in enumerate(tweets):\n",
    "    # Extract the text portion of the tweet\n",
    "    text = t['text']\n",
    "    \n",
    "    # Measure the polarity of the tweet\n",
    "    polarity = analyzer.polarity_scores(text)\n",
    "    \n",
    "    # Store the normalized, weighted composite score\n",
    "    scores[i] = polarity['compound']"
   ]
  },
  {
   "cell_type": "code",
   "execution_count": 24,
   "metadata": {},
   "outputs": [],
   "source": [
    "most_positive = np.argmax(scores)\n",
    "most_negative = np.argmin(scores)"
   ]
  },
  {
   "cell_type": "code",
   "execution_count": 25,
   "metadata": {},
   "outputs": [
    {
     "name": "stdout",
     "output_type": "stream",
     "text": [
      " 0.891 : \"@kingkanono I’m all for freeing the nip and living your life. Honestly I laughed , like someone needs to teach thes… https://t.co/gecnC4u3Xz\"\n"
     ]
    }
   ],
   "source": [
    "print('{0:6.3f} : \"{1}\"'.format(scores[most_positive], tweets[most_positive]['text']))"
   ]
  },
  {
   "cell_type": "code",
   "execution_count": 26,
   "metadata": {},
   "outputs": [
    {
     "name": "stdout",
     "output_type": "stream",
     "text": [
      "-0.932 : \"RT @MrMouthPiece_: hold up.... sirius black’s death was sad asf BUT professor snape’s death was worse in my opinion https://t.co/qKBZf2BNuc\"\n"
     ]
    }
   ],
   "source": [
    "print('{0:6.3f} : \"{1}\"'.format(scores[most_negative], tweets[most_negative]['text']))"
   ]
  },
  {
   "cell_type": "markdown",
   "metadata": {},
   "source": [
    "# Creating a social graph from twitter\n",
    "Lets try and create a social graph from a community on twitter. The idea is to use a hashtag from that would be commonly used by a Twitter community and not by others, such as a chat hashtag for a Twitter chat being held at a specific time."
   ]
  },
  {
   "cell_type": "markdown",
   "metadata": {},
   "source": [
    "# Tweepy"
   ]
  },
  {
   "cell_type": "markdown",
   "metadata": {},
   "source": [
    "Search for literally anything. Here, I searched for more about #AmazingRace and limited the results to the 4000 most recent tweets"
   ]
  },
  {
   "cell_type": "code",
   "execution_count": null,
   "metadata": {},
   "outputs": [],
   "source": [
    "import tweepy\n",
    "import csv \n",
    "import pandas as pd\n",
    "import time\n",
    "import sys"
   ]
  },
  {
   "cell_type": "code",
   "execution_count": 46,
   "metadata": {},
   "outputs": [],
   "source": [
    "#Twitter API credentials\n",
    "consumer_key = \"\"\n",
    "consumer_secret = \"\"\n",
    "access_key = \"-\"\n",
    "access_secret = \"\""
   ]
  },
  {
   "cell_type": "code",
   "execution_count": 47,
   "metadata": {},
   "outputs": [],
   "source": [
    "OAUTH_KEYS = {'consumer_key':consumer_key, \n",
    "              'consumer_secret':consumer_secret,\n",
    "              'access_token_key':access_key,\n",
    "              'access_token_secret':access_secret}\n",
    "\n",
    "auth = tweepy.OAuthHandler(OAUTH_KEYS['consumer_key'], OAUTH_KEYS['consumer_secret'])\n",
    "\n",
    "api = tweepy.API(auth, wait_on_rate_limit=True, wait_on_rate_limit_notify=True)"
   ]
  },
  {
   "cell_type": "markdown",
   "metadata": {},
   "source": [
    "## Searching twitter"
   ]
  },
  {
   "cell_type": "code",
   "execution_count": 48,
   "metadata": {},
   "outputs": [],
   "source": [
    "search = tweepy.Cursor(api.search, q='#amazingrace').items(400)\n"
   ]
  },
  {
   "cell_type": "code",
   "execution_count": 49,
   "metadata": {},
   "outputs": [],
   "source": [
    "# Create lists for each field desired from the tweets.\n",
    "sn = []\n",
    "text = []\n",
    "timestamp =[]\n",
    "for tweet in search:\n",
    "    #print tweet.user.screen_name, tweet.created_at, tweet.text\n",
    "    timestamp.append(tweet.created_at)\n",
    "    sn.append(tweet.user.screen_name)\n",
    "    text.append(tweet.text)"
   ]
  },
  {
   "cell_type": "code",
   "execution_count": 50,
   "metadata": {},
   "outputs": [],
   "source": [
    "# Convert lists to dataframe\n",
    "df = pd.DataFrame()\n",
    "df['timestamp'] = timestamp\n",
    "df['sn'] = sn\n",
    "df['text'] = text"
   ]
  },
  {
   "cell_type": "code",
   "execution_count": 51,
   "metadata": {},
   "outputs": [],
   "source": [
    "# Prepare date filtering. Adding an EST time column since chat hosted by people in that time zone.\n",
    "df['timestamp'] = pd.to_datetime(df['timestamp'])\n",
    "df['EST'] = df['timestamp'] - pd.Timedelta(hours=5) #Convert to EST"
   ]
  },
  {
   "cell_type": "code",
   "execution_count": 52,
   "metadata": {},
   "outputs": [],
   "source": [
    "df['EST'] = pd.to_datetime(df['EST'])"
   ]
  },
  {
   "cell_type": "code",
   "execution_count": 53,
   "metadata": {},
   "outputs": [],
   "source": [
    "# Subset for the dates required. Can select a specific date or time to examine.\n",
    "import time\n",
    "df = df[(pd.to_datetime(\"2019-05-22 00:00:00\", format='%Y-%m-%d %H:%M:%S') < df['EST']) & (df['EST'] < pd.to_datetime(\"2019-05-22 23:00:00\", format='%Y-%m-%d %H:%M:%S'))]"
   ]
  },
  {
   "cell_type": "code",
   "execution_count": 54,
   "metadata": {},
   "outputs": [],
   "source": [
    "# Write out Tweets in case they are needed later.\n",
    "df.to_csv('amazingrace_400.csv',index = False,encoding='utf-8')"
   ]
  },
  {
   "cell_type": "code",
   "execution_count": 55,
   "metadata": {},
   "outputs": [],
   "source": [
    "# Create a list of the unique usernames in order to see which users we need to retrieve friends for.\n",
    "allNames = list(df['sn'].unique())"
   ]
  },
  {
   "cell_type": "markdown",
   "metadata": {},
   "source": [
    "Now having a list of all of the users we would like to include in our community, we can retrive additional necessary information such as who their are following in order to build our social graph.\n",
    "\n"
   ]
  },
  {
   "cell_type": "code",
   "execution_count": 56,
   "metadata": {},
   "outputs": [],
   "source": [
    "# Initialize dataframe of users that will hold the edge relationships\n",
    "dfUsers = pd.DataFrame()\n",
    "dfUsers['userFromName'] =[]\n",
    "dfUsers['userFromId'] =[]\n",
    "dfUsers['userToId'] = []\n",
    "count = 0"
   ]
  },
  {
   "cell_type": "code",
   "execution_count": 58,
   "metadata": {},
   "outputs": [
    {
     "name": "stdout",
     "output_type": "stream",
     "text": [
      "Twitter call 11.6% complete."
     ]
    },
    {
     "name": "stderr",
     "output_type": "stream",
     "text": [
      "Rate limit reached. Sleeping for: 48\n"
     ]
    },
    {
     "name": "stdout",
     "output_type": "stream",
     "text": [
      "Twitter call 13.2% complete."
     ]
    },
    {
     "ename": "TweepError",
     "evalue": "Not authorized.",
     "output_type": "error",
     "traceback": [
      "\u001b[1;31m---------------------------------------------------------------------------\u001b[0m",
      "\u001b[1;31mTweepError\u001b[0m                                Traceback (most recent call last)",
      "\u001b[1;32m<ipython-input-58-72e56564811b>\u001b[0m in \u001b[0;36m<module>\u001b[1;34m()\u001b[0m\n\u001b[0;32m      7\u001b[0m     \u001b[1;31m# Build list of friends\u001b[0m\u001b[1;33m\u001b[0m\u001b[1;33m\u001b[0m\u001b[0m\n\u001b[0;32m      8\u001b[0m     \u001b[0mcurrentFriends\u001b[0m \u001b[1;33m=\u001b[0m \u001b[1;33m[\u001b[0m\u001b[1;33m]\u001b[0m\u001b[1;33m\u001b[0m\u001b[0m\n\u001b[1;32m----> 9\u001b[1;33m     \u001b[1;32mfor\u001b[0m \u001b[0mpage\u001b[0m \u001b[1;32min\u001b[0m \u001b[0mtweepy\u001b[0m\u001b[1;33m.\u001b[0m\u001b[0mCursor\u001b[0m\u001b[1;33m(\u001b[0m\u001b[0mapi\u001b[0m\u001b[1;33m.\u001b[0m\u001b[0mfriends_ids\u001b[0m\u001b[1;33m,\u001b[0m \u001b[0mscreen_name\u001b[0m\u001b[1;33m=\u001b[0m\u001b[0mname\u001b[0m\u001b[1;33m)\u001b[0m\u001b[1;33m.\u001b[0m\u001b[0mpages\u001b[0m\u001b[1;33m(\u001b[0m\u001b[1;33m)\u001b[0m\u001b[1;33m:\u001b[0m\u001b[1;33m\u001b[0m\u001b[0m\n\u001b[0m\u001b[0;32m     10\u001b[0m         \u001b[0mcurrentFriends\u001b[0m\u001b[1;33m.\u001b[0m\u001b[0mextend\u001b[0m\u001b[1;33m(\u001b[0m\u001b[0mpage\u001b[0m\u001b[1;33m)\u001b[0m\u001b[1;33m\u001b[0m\u001b[0m\n\u001b[0;32m     11\u001b[0m     \u001b[0mcurrentId\u001b[0m \u001b[1;33m=\u001b[0m \u001b[0mapi\u001b[0m\u001b[1;33m.\u001b[0m\u001b[0mget_user\u001b[0m\u001b[1;33m(\u001b[0m\u001b[0mscreen_name\u001b[0m\u001b[1;33m=\u001b[0m\u001b[0mname\u001b[0m\u001b[1;33m)\u001b[0m\u001b[1;33m.\u001b[0m\u001b[0mid\u001b[0m\u001b[1;33m\u001b[0m\u001b[0m\n",
      "\u001b[1;32m~\\Anaconda3\\lib\\site-packages\\tweepy\\cursor.py\u001b[0m in \u001b[0;36m__next__\u001b[1;34m(self)\u001b[0m\n\u001b[0;32m     47\u001b[0m \u001b[1;33m\u001b[0m\u001b[0m\n\u001b[0;32m     48\u001b[0m     \u001b[1;32mdef\u001b[0m \u001b[0m__next__\u001b[0m\u001b[1;33m(\u001b[0m\u001b[0mself\u001b[0m\u001b[1;33m)\u001b[0m\u001b[1;33m:\u001b[0m\u001b[1;33m\u001b[0m\u001b[0m\n\u001b[1;32m---> 49\u001b[1;33m         \u001b[1;32mreturn\u001b[0m \u001b[0mself\u001b[0m\u001b[1;33m.\u001b[0m\u001b[0mnext\u001b[0m\u001b[1;33m(\u001b[0m\u001b[1;33m)\u001b[0m\u001b[1;33m\u001b[0m\u001b[0m\n\u001b[0m\u001b[0;32m     50\u001b[0m \u001b[1;33m\u001b[0m\u001b[0m\n\u001b[0;32m     51\u001b[0m     \u001b[1;32mdef\u001b[0m \u001b[0mnext\u001b[0m\u001b[1;33m(\u001b[0m\u001b[0mself\u001b[0m\u001b[1;33m)\u001b[0m\u001b[1;33m:\u001b[0m\u001b[1;33m\u001b[0m\u001b[0m\n",
      "\u001b[1;32m~\\Anaconda3\\lib\\site-packages\\tweepy\\cursor.py\u001b[0m in \u001b[0;36mnext\u001b[1;34m(self)\u001b[0m\n\u001b[0;32m     73\u001b[0m         data, cursors = self.method(cursor=self.next_cursor,\n\u001b[0;32m     74\u001b[0m                                     \u001b[1;33m*\u001b[0m\u001b[0mself\u001b[0m\u001b[1;33m.\u001b[0m\u001b[0margs\u001b[0m\u001b[1;33m,\u001b[0m\u001b[1;33m\u001b[0m\u001b[0m\n\u001b[1;32m---> 75\u001b[1;33m                                     **self.kargs)\n\u001b[0m\u001b[0;32m     76\u001b[0m         \u001b[0mself\u001b[0m\u001b[1;33m.\u001b[0m\u001b[0mprev_cursor\u001b[0m\u001b[1;33m,\u001b[0m \u001b[0mself\u001b[0m\u001b[1;33m.\u001b[0m\u001b[0mnext_cursor\u001b[0m \u001b[1;33m=\u001b[0m \u001b[0mcursors\u001b[0m\u001b[1;33m\u001b[0m\u001b[0m\n\u001b[0;32m     77\u001b[0m         \u001b[1;32mif\u001b[0m \u001b[0mlen\u001b[0m\u001b[1;33m(\u001b[0m\u001b[0mdata\u001b[0m\u001b[1;33m)\u001b[0m \u001b[1;33m==\u001b[0m \u001b[1;36m0\u001b[0m\u001b[1;33m:\u001b[0m\u001b[1;33m\u001b[0m\u001b[0m\n",
      "\u001b[1;32m~\\Anaconda3\\lib\\site-packages\\tweepy\\binder.py\u001b[0m in \u001b[0;36m_call\u001b[1;34m(*args, **kwargs)\u001b[0m\n\u001b[0;32m    248\u001b[0m             \u001b[1;32mreturn\u001b[0m \u001b[0mmethod\u001b[0m\u001b[1;33m\u001b[0m\u001b[0m\n\u001b[0;32m    249\u001b[0m         \u001b[1;32melse\u001b[0m\u001b[1;33m:\u001b[0m\u001b[1;33m\u001b[0m\u001b[0m\n\u001b[1;32m--> 250\u001b[1;33m             \u001b[1;32mreturn\u001b[0m \u001b[0mmethod\u001b[0m\u001b[1;33m.\u001b[0m\u001b[0mexecute\u001b[0m\u001b[1;33m(\u001b[0m\u001b[1;33m)\u001b[0m\u001b[1;33m\u001b[0m\u001b[0m\n\u001b[0m\u001b[0;32m    251\u001b[0m \u001b[1;33m\u001b[0m\u001b[0m\n\u001b[0;32m    252\u001b[0m     \u001b[1;31m# Set pagination mode\u001b[0m\u001b[1;33m\u001b[0m\u001b[1;33m\u001b[0m\u001b[0m\n",
      "\u001b[1;32m~\\Anaconda3\\lib\\site-packages\\tweepy\\binder.py\u001b[0m in \u001b[0;36mexecute\u001b[1;34m(self)\u001b[0m\n\u001b[0;32m    232\u001b[0m                     \u001b[1;32mraise\u001b[0m \u001b[0mRateLimitError\u001b[0m\u001b[1;33m(\u001b[0m\u001b[0merror_msg\u001b[0m\u001b[1;33m,\u001b[0m \u001b[0mresp\u001b[0m\u001b[1;33m)\u001b[0m\u001b[1;33m\u001b[0m\u001b[0m\n\u001b[0;32m    233\u001b[0m                 \u001b[1;32melse\u001b[0m\u001b[1;33m:\u001b[0m\u001b[1;33m\u001b[0m\u001b[0m\n\u001b[1;32m--> 234\u001b[1;33m                     \u001b[1;32mraise\u001b[0m \u001b[0mTweepError\u001b[0m\u001b[1;33m(\u001b[0m\u001b[0merror_msg\u001b[0m\u001b[1;33m,\u001b[0m \u001b[0mresp\u001b[0m\u001b[1;33m,\u001b[0m \u001b[0mapi_code\u001b[0m\u001b[1;33m=\u001b[0m\u001b[0mapi_error_code\u001b[0m\u001b[1;33m)\u001b[0m\u001b[1;33m\u001b[0m\u001b[0m\n\u001b[0m\u001b[0;32m    235\u001b[0m \u001b[1;33m\u001b[0m\u001b[0m\n\u001b[0;32m    236\u001b[0m             \u001b[1;31m# Parse the response payload\u001b[0m\u001b[1;33m\u001b[0m\u001b[1;33m\u001b[0m\u001b[0m\n",
      "\u001b[1;31mTweepError\u001b[0m: Not authorized."
     ]
    }
   ],
   "source": [
    "\n",
    "nameCount = len(allNames)\n",
    "# The choice to retrieve friends (who the user is following) rather than followers is intentional.\n",
    "# Either would work. However, many Twitter users follow fewer users than are following them, especially the most popular accounts. \n",
    "# This reduces the number of very large calls to Twitter API, which seemed to cause problems.\n",
    "for name in allNames:\n",
    "    # Build list of friends    \n",
    "    currentFriends = []\n",
    "    for page in tweepy.Cursor(api.friends_ids, screen_name=name).pages():\n",
    "        currentFriends.extend(page)\n",
    "    currentId = api.get_user(screen_name=name).id\n",
    "    currentId = [currentId] * len(currentFriends)\n",
    "    currentName = [name] * len(currentFriends)   \n",
    "    dfTemp = pd.DataFrame()\n",
    "    dfTemp['userFromName'] = currentName\n",
    "    dfTemp['userFromId'] = currentId\n",
    "    dfTemp['userToId'] = currentFriends\n",
    "    dfUsers = pd.concat([dfUsers,dfTemp])\n",
    "    time.sleep(70) # avoids hitting Twitter rate limit\n",
    "    # Progress bar to track approximate progress\n",
    "    count +=1\n",
    "    per = round(count*100.0/nameCount,1)\n",
    "    sys.stdout.write(\"\\rTwitter call %s%% complete.\" % per)\n",
    "    sys.stdout.flush()"
   ]
  },
  {
   "cell_type": "code",
   "execution_count": null,
   "metadata": {},
   "outputs": [],
   "source": [
    "# Again, to limit the number of calls to Twitter API, just do lookups on followers that connect to those in our user group.\n",
    "# We are not interested in \"friends\" that are not part of this community.\n",
    "fromId = dfUsers['userFromId'].unique()\n",
    "dfChat = dfUsers[dfUsers['userToId'].apply(lambda x: x in fromId)]"
   ]
  },
  {
   "cell_type": "code",
   "execution_count": null,
   "metadata": {},
   "outputs": [],
   "source": [
    "# No more Twitter API lookups are necessary. Create a lookup table that we will use to get the verify the userToName\n",
    "dfLookup = dfChat[['userFromName','userFromId']]\n",
    "dfLookup = dfLookup.drop_duplicates()\n",
    "dfLookup.columns = ['userToName','userToId']\n",
    "dfCommunity = dfUsers.merge(dfLookup, on='userToId')"
   ]
  },
  {
   "cell_type": "code",
   "execution_count": null,
   "metadata": {},
   "outputs": [],
   "source": [
    "dfCommunity.to_csv('dfCommunity.csv',index = False,encoding='utf-8')"
   ]
  },
  {
   "cell_type": "code",
   "execution_count": null,
   "metadata": {},
   "outputs": [],
   "source": []
  },
  {
   "cell_type": "markdown",
   "metadata": {},
   "source": [
    "We've gathered the Tweets, usernames, and friends of a community that participated in a Twitter chat. Let's visualize the network,"
   ]
  },
  {
   "cell_type": "code",
   "execution_count": null,
   "metadata": {},
   "outputs": [],
   "source": []
  },
  {
   "cell_type": "code",
   "execution_count": null,
   "metadata": {},
   "outputs": [],
   "source": []
  }
 ],
 "metadata": {
  "kernelspec": {
   "display_name": "Python 3",
   "language": "python",
   "name": "python3"
  },
  "language_info": {
   "codemirror_mode": {
    "name": "ipython",
    "version": 3
   },
   "file_extension": ".py",
   "mimetype": "text/x-python",
   "name": "python",
   "nbconvert_exporter": "python",
   "pygments_lexer": "ipython3",
   "version": "3.6.5"
  }
 },
 "nbformat": 4,
 "nbformat_minor": 2
}
