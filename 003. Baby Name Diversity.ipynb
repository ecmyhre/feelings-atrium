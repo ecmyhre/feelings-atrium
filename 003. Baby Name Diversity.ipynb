{
 "cells": [
  {
   "cell_type": "code",
   "execution_count": 1,
   "metadata": {},
   "outputs": [
    {
     "data": {
      "text/plain": [
       "'0.23.0'"
      ]
     },
     "execution_count": 1,
     "metadata": {},
     "output_type": "execute_result"
    }
   ],
   "source": [
    "%matplotlib inline\n",
    "import matplotlib.pyplot as plt\n",
    "import numpy as np\n",
    "import pandas as pd\n",
    "\n",
    "# turn of data table rendering\n",
    "pd.set_option('display.notebook_repr_html', False)\n",
    "plt.style.use('ggplot')\n",
    "pd.__version__"
   ]
  },
  {
   "cell_type": "markdown",
   "metadata": {},
   "source": [
    "# Datums\n",
    "The data set contains the top 100 baby names in the US from 1880-2008"
   ]
  },
  {
   "cell_type": "code",
   "execution_count": 2,
   "metadata": {},
   "outputs": [],
   "source": [
    "babynames = pd.read_csv('data/baby-names2.csv')"
   ]
  },
  {
   "cell_type": "code",
   "execution_count": 3,
   "metadata": {},
   "outputs": [
    {
     "data": {
      "text/plain": [
       "        year      name      prop   sex soundex\n",
       "0       1880      John  0.081541   boy    J500\n",
       "1       1880   William  0.080511   boy    W450\n",
       "2       1880     James  0.050057   boy    J520\n",
       "3       1880   Charles  0.045167   boy    C642\n",
       "4       1880    George  0.043292   boy    G620\n",
       "5       1880     Frank  0.027380   boy    F652\n",
       "6       1880    Joseph  0.022229   boy    J210\n",
       "7       1880    Thomas  0.021401   boy    T520\n",
       "8       1880     Henry  0.020641   boy    H560\n",
       "9       1880    Robert  0.020404   boy    R163\n",
       "10      1880    Edward  0.019965   boy    E363\n",
       "11      1880     Harry  0.018175   boy    H600\n",
       "12      1880    Walter  0.014822   boy    W436\n",
       "13      1880    Arthur  0.013504   boy    A636\n",
       "14      1880      Fred  0.013251   boy    F630\n",
       "15      1880    Albert  0.012609   boy    A416\n",
       "16      1880    Samuel  0.008648   boy    S540\n",
       "17      1880     David  0.007339   boy    D130\n",
       "18      1880     Louis  0.006993   boy    L200\n",
       "19      1880       Joe  0.006174   boy    J000\n",
       "20      1880   Charlie  0.006165   boy    C640\n",
       "21      1880  Clarence  0.006165   boy    C465\n",
       "22      1880   Richard  0.006148   boy    R263\n",
       "23      1880    Andrew  0.005439   boy    A536\n",
       "24      1880    Daniel  0.005430   boy    D540\n",
       "25      1880    Ernest  0.005194   boy    E652\n",
       "26      1880      Will  0.004966   boy    W400\n",
       "27      1880     Jesse  0.004805   boy    J200\n",
       "28      1880     Oscar  0.004594   boy    O260\n",
       "29      1880     Lewis  0.004366   boy    L200\n",
       "...      ...       ...       ...   ...     ...\n",
       "257970  2008     Chana  0.000133  girl    C500\n",
       "257971  2008      Avah  0.000132  girl    A100\n",
       "257972  2008     Donna  0.000132  girl    D500\n",
       "257973  2008    Kaylah  0.000132  girl    K400\n",
       "257974  2008    Ashtyn  0.000131  girl    A235\n",
       "257975  2008    Karsyn  0.000131  girl    K625\n",
       "257976  2008   Makaila  0.000131  girl    M240\n",
       "257977  2008    Shayna  0.000131  girl    S500\n",
       "257978  2008   Essence  0.000131  girl    E252\n",
       "257979  2008   Leticia  0.000130  girl    L320\n",
       "257980  2008      Miya  0.000130  girl    M000\n",
       "257981  2008      Rory  0.000130  girl    R600\n",
       "257982  2008   Desirae  0.000130  girl    D260\n",
       "257983  2008    Kianna  0.000130  girl    K500\n",
       "257984  2008    Laurel  0.000130  girl    L640\n",
       "257985  2008    Neveah  0.000130  girl    N100\n",
       "257986  2008    Amaris  0.000129  girl    A562\n",
       "257987  2008  Hadassah  0.000129  girl    H320\n",
       "257988  2008     Dania  0.000129  girl    D500\n",
       "257989  2008    Hailie  0.000129  girl    H400\n",
       "257990  2008    Jamiya  0.000129  girl    J500\n",
       "257991  2008     Kathy  0.000129  girl    K300\n",
       "257992  2008    Laylah  0.000129  girl    L400\n",
       "257993  2008      Riya  0.000129  girl    R000\n",
       "257994  2008      Diya  0.000128  girl    D000\n",
       "257995  2008  Carleigh  0.000128  girl    C642\n",
       "257996  2008     Iyana  0.000128  girl    I500\n",
       "257997  2008    Kenley  0.000127  girl    K540\n",
       "257998  2008    Sloane  0.000127  girl    S450\n",
       "257999  2008   Elianna  0.000127  girl    E450\n",
       "\n",
       "[258000 rows x 5 columns]"
      ]
     },
     "execution_count": 3,
     "metadata": {},
     "output_type": "execute_result"
    }
   ],
   "source": [
    "babynames"
   ]
  },
  {
   "cell_type": "code",
   "execution_count": 4,
   "metadata": {},
   "outputs": [
    {
     "data": {
      "text/plain": [
       "        year     name      prop   sex soundex\n",
       "242995  1993  Leilani  0.000094  girl    L450\n",
       "242996  1993   Paloma  0.000094  girl    P450\n",
       "242997  1993  Tanesha  0.000094  girl    T520\n",
       "242998  1993    Eleni  0.000094  girl    E450\n",
       "242999  1993     Hana  0.000094  girl    H500"
      ]
     },
     "execution_count": 4,
     "metadata": {},
     "output_type": "execute_result"
    }
   ],
   "source": [
    "# popular names for 1993?\n",
    "babynames[babynames.year == 1993].tail()"
   ]
  },
  {
   "cell_type": "code",
   "execution_count": 6,
   "metadata": {},
   "outputs": [
    {
     "data": {
      "text/plain": [
       "        year       name      prop   sex soundex\n",
       "129000  1880       Mary  0.072381  girl    M600\n",
       "129001  1880       Anna  0.026678  girl    A500\n",
       "129002  1880       Emma  0.020521  girl    E500\n",
       "129003  1880  Elizabeth  0.019865  girl    E421\n",
       "129004  1880     Minnie  0.017888  girl    M500"
      ]
     },
     "execution_count": 6,
     "metadata": {},
     "output_type": "execute_result"
    }
   ],
   "source": [
    "# Separate the boys from the girls\n",
    "boys = babynames[babynames.sex == 'boy']\n",
    "girls = babynames[babynames.sex == 'girl']\n",
    "girls.head()"
   ]
  },
  {
   "cell_type": "code",
   "execution_count": 7,
   "metadata": {},
   "outputs": [
    {
     "data": {
      "text/plain": [
       "year\n",
       "1880    1000\n",
       "1881    1000\n",
       "1882    1000\n",
       "1883    1000\n",
       "1884    1000\n",
       "1885    1000\n",
       "1886    1000\n",
       "1887    1000\n",
       "1888    1000\n",
       "1889    1000\n",
       "1890    1000\n",
       "1891    1000\n",
       "1892    1000\n",
       "1893    1000\n",
       "1894    1000\n",
       "1895    1000\n",
       "1896    1000\n",
       "1897    1000\n",
       "1898    1000\n",
       "1899    1000\n",
       "1900    1000\n",
       "1901    1000\n",
       "1902    1000\n",
       "1903    1000\n",
       "1904    1000\n",
       "1905    1000\n",
       "1906    1000\n",
       "1907    1000\n",
       "1908    1000\n",
       "1909    1000\n",
       "        ... \n",
       "1979    1000\n",
       "1980    1000\n",
       "1981    1000\n",
       "1982    1000\n",
       "1983    1000\n",
       "1984    1000\n",
       "1985    1000\n",
       "1986    1000\n",
       "1987    1000\n",
       "1988    1000\n",
       "1989    1000\n",
       "1990    1000\n",
       "1991    1000\n",
       "1992    1000\n",
       "1993    1000\n",
       "1994    1000\n",
       "1995    1000\n",
       "1996    1000\n",
       "1997    1000\n",
       "1998    1000\n",
       "1999    1000\n",
       "2000    1000\n",
       "2001    1000\n",
       "2002    1000\n",
       "2003    1000\n",
       "2004    1000\n",
       "2005    1000\n",
       "2006    1000\n",
       "2007    1000\n",
       "2008    1000\n",
       "Length: 129, dtype: int64"
      ]
     },
     "execution_count": 7,
     "metadata": {},
     "output_type": "execute_result"
    }
   ],
   "source": [
    "# num of baby boy name rows per yearr\n",
    "boys.groupby('year').size()"
   ]
  },
  {
   "cell_type": "code",
   "execution_count": 8,
   "metadata": {},
   "outputs": [
    {
     "name": "stderr",
     "output_type": "stream",
     "text": [
      "C:\\Users\\emyhr\\Anaconda3\\lib\\site-packages\\ipykernel_launcher.py:1: DeprecationWarning: \n",
      ".ix is deprecated. Please use\n",
      ".loc for label based indexing or\n",
      ".iloc for positional indexing\n",
      "\n",
      "See the documentation here:\n",
      "http://pandas.pydata.org/pandas-docs/stable/indexing.html#ix-indexer-is-deprecated\n",
      "  \"\"\"Entry point for launching an IPython kernel.\n"
     ]
    },
    {
     "data": {
      "text/plain": [
       "sex\n",
       "boy     1000\n",
       "girl    1000\n",
       "dtype: int64"
      ]
     },
     "execution_count": 8,
     "metadata": {},
     "output_type": "execute_result"
    }
   ],
   "source": [
    "babynames.groupby(['year', 'sex']).size().ix[1993]\n",
    "# Get the hierarchical index of baby name rows per year \n",
    "# grouped by gender for the year"
   ]
  },
  {
   "cell_type": "code",
   "execution_count": 10,
   "metadata": {},
   "outputs": [
    {
     "name": "stderr",
     "output_type": "stream",
     "text": [
      "C:\\Users\\emyhr\\Anaconda3\\lib\\site-packages\\ipykernel_launcher.py:3: DeprecationWarning: \n",
      ".ix is deprecated. Please use\n",
      ".loc for label based indexing or\n",
      ".iloc for positional indexing\n",
      "\n",
      "See the documentation here:\n",
      "http://pandas.pydata.org/pandas-docs/stable/indexing.html#ix-indexer-is-deprecated\n",
      "  This is separate from the ipykernel package so we can avoid doing imports until\n"
     ]
    },
    {
     "data": {
      "text/plain": [
       "year          1993\n",
       "name       Michael\n",
       "prop       0.02401\n",
       "sex            boy\n",
       "soundex       M240\n",
       "Name: 113000, dtype: object"
      ]
     },
     "execution_count": 10,
     "metadata": {},
     "output_type": "execute_result"
    }
   ],
   "source": [
    "# most pop boy name for 1993\n",
    "rowid = boys[boys.year == 1993].prop.idxmax()\n",
    "boys.ix[rowid]"
   ]
  },
  {
   "cell_type": "code",
   "execution_count": 11,
   "metadata": {},
   "outputs": [
    {
     "name": "stderr",
     "output_type": "stream",
     "text": [
      "C:\\Users\\emyhr\\Anaconda3\\lib\\site-packages\\ipykernel_launcher.py:5: DeprecationWarning: \n",
      ".ix is deprecated. Please use\n",
      ".loc for label based indexing or\n",
      ".iloc for positional indexing\n",
      "\n",
      "See the documentation here:\n",
      "http://pandas.pydata.org/pandas-docs/stable/indexing.html#ix-indexer-is-deprecated\n",
      "  \"\"\"\n"
     ]
    },
    {
     "data": {
      "text/plain": [
       "      year   name      prop  sex soundex\n",
       "year                                    \n",
       "2004  2004  Jacob  0.013196  boy    J210\n",
       "2005  2005  Jacob  0.012148  boy    J210\n",
       "2006  2006  Jacob  0.011331  boy    J210\n",
       "2007  2007  Jacob  0.010948  boy    J210\n",
       "2008  2008  Jacob  0.010355  boy    J210"
      ]
     },
     "execution_count": 11,
     "metadata": {},
     "output_type": "execute_result"
    }
   ],
   "source": [
    "# find the most pop name for each year \n",
    "# apply get_max_prop to the whole df\n",
    "\n",
    "def get_max_prop(group):\n",
    "    return group.ix[group.prop.idxmax()]\n",
    "\n",
    "popularboys = boys.groupby('year').apply(get_max_prop)\n",
    "popularboys.tail()"
   ]
  },
  {
   "cell_type": "code",
   "execution_count": 13,
   "metadata": {},
   "outputs": [
    {
     "data": {
      "text/plain": [
       "<matplotlib.axes._subplots.AxesSubplot at 0x1455d7c34e0>"
      ]
     },
     "execution_count": 13,
     "metadata": {},
     "output_type": "execute_result"
    },
    {
     "data": {
      "image/png": "[encoded data removed]",
      "text/plain": [
       "<Figure size 432x288 with 1 Axes>"
      ]
     },
     "metadata": {},
     "output_type": "display_data"
    }
   ],
   "source": [
    "# Plot the proportion of the most popular boy name per year\n",
    "# Maybe showing more diversity in chosen boy names over time?\n",
    "popularboys.prop.plot(legend=True, title='Proportion most popular boy name', \n",
    "                          kind='area', color='#00A99D', alpha=.5)"
   ]
  },
  {
   "cell_type": "code",
   "execution_count": 14,
   "metadata": {},
   "outputs": [
    {
     "data": {
      "text/plain": [
       "                  prop  sex soundex\n",
       "name    year                       \n",
       "John    1880  0.081541  boy    J500\n",
       "William 1880  0.080511  boy    W450\n",
       "James   1880  0.050057  boy    J520\n",
       "Charles 1880  0.045167  boy    C642\n",
       "George  1880  0.043292  boy    G620"
      ]
     },
     "execution_count": 14,
     "metadata": {},
     "output_type": "execute_result"
    }
   ],
   "source": [
    "# index by name/year combination \n",
    "boysindex = boys.set_index(['name', 'year'])\n",
    "boysindex.head()"
   ]
  },
  {
   "cell_type": "code",
   "execution_count": 21,
   "metadata": {},
   "outputs": [
    {
     "name": "stderr",
     "output_type": "stream",
     "text": [
      "C:\\Users\\emyhr\\Anaconda3\\lib\\site-packages\\ipykernel_launcher.py:2: DeprecationWarning: \n",
      ".ix is deprecated. Please use\n",
      ".loc for label based indexing or\n",
      ".iloc for positional indexing\n",
      "\n",
      "See the documentation here:\n",
      "http://pandas.pydata.org/pandas-docs/stable/indexing.html#ix-indexer-is-deprecated\n",
      "  \n"
     ]
    },
    {
     "data": {
      "text/plain": [
       "<matplotlib.axes._subplots.AxesSubplot at 0x1455f8b6470>"
      ]
     },
     "execution_count": 21,
     "metadata": {},
     "output_type": "execute_result"
    },
    {
     "data": {
      "image/png": "[encoded data removed]",
      "text/plain": [
       "<Figure size 432x288 with 1 Axes>"
      ]
     },
     "metadata": {},
     "output_type": "display_data"
    }
   ],
   "source": [
    "# Narcissistic query for the popularity of my first name\n",
    "eric_popularity = boysindex.ix['Eric']\n",
    "eric_popularity.prop.plot(kind='area', color='#00A99D', alpha=.5, \n",
    "                          legend=True, title='Popularity of the name Eric')"
   ]
  },
  {
   "cell_type": "code",
   "execution_count": 22,
   "metadata": {},
   "outputs": [
    {
     "name": "stderr",
     "output_type": "stream",
     "text": [
      "C:\\Users\\emyhr\\Anaconda3\\lib\\site-packages\\ipykernel_launcher.py:2: DeprecationWarning: \n",
      ".ix is deprecated. Please use\n",
      ".loc for label based indexing or\n",
      ".iloc for positional indexing\n",
      "\n",
      "See the documentation here:\n",
      "http://pandas.pydata.org/pandas-docs/stable/indexing.html#ix-indexer-is-deprecated\n",
      "  \n"
     ]
    },
    {
     "data": {
      "text/plain": [
       "1972"
      ]
     },
     "execution_count": 22,
     "metadata": {},
     "output_type": "execute_result"
    }
   ],
   "source": [
    "# Eric was most pop in the year...\n",
    "boysindex.ix['Eric'].prop.idxmax()"
   ]
  },
  {
   "cell_type": "code",
   "execution_count": 23,
   "metadata": {},
   "outputs": [
    {
     "data": {
      "text/plain": [
       "('John', 1880)"
      ]
     },
     "execution_count": 23,
     "metadata": {},
     "output_type": "execute_result"
    }
   ],
   "source": [
    "# rad! highest boy name proportion ever....\n",
    "boysindex.prop.idxmax()"
   ]
  },
  {
   "cell_type": "code",
   "execution_count": 25,
   "metadata": {},
   "outputs": [
    {
     "data": {
      "text/plain": [
       "name\n",
       "Aaliyah    0.001317\n",
       "Aaron      0.000089\n",
       "Abagail    0.000133\n",
       "Abbey      0.000239\n",
       "Abbie      0.000243\n",
       "Name: prop, dtype: float64"
      ]
     },
     "execution_count": 25,
     "metadata": {},
     "output_type": "execute_result"
    }
   ],
   "source": [
    "# Calculate the mean proportion for each girl name in the set\n",
    "# Show first 5 in descending order\n",
    "mean_prop = girls.groupby('name')['prop'].mean()\n",
    "mean_prop.head()"
   ]
  },
  {
   "cell_type": "code",
   "execution_count": 28,
   "metadata": {},
   "outputs": [
    {
     "data": {
      "text/plain": [
       "year               1880         1881         1882         1883         1884\n",
       "prop count  1000.000000  1000.000000  1000.000000  1000.000000  1000.000000\n",
       "     mean      0.000935     0.000933     0.000931     0.000933     0.000931\n",
       "     std       0.003270     0.003214     0.003211     0.003131     0.003124\n",
       "     min       0.000041     0.000040     0.000043     0.000042     0.000044\n",
       "     25%       0.000061     0.000061     0.000061     0.000067     0.000065\n",
       "     50%       0.000123     0.000121     0.000121     0.000125     0.000128\n",
       "     75%       0.000400     0.000407     0.000406     0.000433     0.000443\n",
       "     max       0.072381     0.069986     0.070431     0.066737     0.066990"
      ]
     },
     "execution_count": 28,
     "metadata": {},
     "output_type": "execute_result"
    }
   ],
   "source": [
    "result = girls.groupby('year').describe()\n",
    "result.head().T"
   ]
  },
  {
   "cell_type": "markdown",
   "metadata": {},
   "source": [
    "# Baby name diversity calculations"
   ]
  },
  {
   "cell_type": "code",
   "execution_count": 29,
   "metadata": {},
   "outputs": [],
   "source": [
    "# Get a single year of girl names and sort by proportion descending\n",
    "girls1993 = girls[girls.year == 1993]"
   ]
  },
  {
   "cell_type": "code",
   "execution_count": 30,
   "metadata": {},
   "outputs": [
    {
     "name": "stderr",
     "output_type": "stream",
     "text": [
      "C:\\Users\\emyhr\\Anaconda3\\lib\\site-packages\\ipykernel_launcher.py:1: FutureWarning: by argument to sort_index is deprecated, please use .sort_values(by=...)\n",
      "  \"\"\"Entry point for launching an IPython kernel.\n"
     ]
    }
   ],
   "source": [
    "girls1993_sorted = girls1993.sort_index(by='prop', ascending=False)"
   ]
  },
  {
   "cell_type": "code",
   "execution_count": 31,
   "metadata": {},
   "outputs": [
    {
     "data": {
      "text/plain": [
       "        year      name      prop   sex soundex\n",
       "242000  1993   Jessica  0.017753  girl    J220\n",
       "242001  1993    Ashley  0.017690  girl    A240\n",
       "242002  1993     Sarah  0.012289  girl    S600\n",
       "242003  1993  Samantha  0.012010  girl    S553\n",
       "242004  1993     Emily  0.011973  girl    E540"
      ]
     },
     "execution_count": 31,
     "metadata": {},
     "output_type": "execute_result"
    }
   ],
   "source": [
    "girls1993_sorted.head()"
   ]
  },
  {
   "cell_type": "code",
   "execution_count": 33,
   "metadata": {},
   "outputs": [
    {
     "data": {
      "text/plain": [
       "0.7579480000000003"
      ]
     },
     "execution_count": 33,
     "metadata": {},
     "output_type": "execute_result"
    }
   ],
   "source": [
    "# What is the proportion of this top 1000 girl names of the total names?\n",
    "girls1993_sorted.prop.cumsum().max()"
   ]
  },
  {
   "cell_type": "code",
   "execution_count": 34,
   "metadata": {},
   "outputs": [
    {
     "data": {
      "text/plain": [
       "242134    0.498347\n",
       "242135    0.499547\n",
       "242136    0.500745\n",
       "242137    0.501909\n",
       "242138    0.503069\n",
       "Name: prop, dtype: float64"
      ]
     },
     "execution_count": 34,
     "metadata": {},
     "output_type": "execute_result"
    }
   ],
   "source": [
    "# Where is the 50% crossover point for cumulative sum\n",
    "girls1993_cumsum = girls1993_sorted.prop.cumsum()\n",
    "crossover = girls1993_cumsum.searchsorted(.5)\n",
    "girls1993_cumsum[(crossover[0]-2):crossover[0]+3]"
   ]
  },
  {
   "cell_type": "code",
   "execution_count": 35,
   "metadata": {},
   "outputs": [
    {
     "data": {
      "text/plain": [
       "136"
      ]
     },
     "execution_count": 35,
     "metadata": {},
     "output_type": "execute_result"
    }
   ],
   "source": [
    "# The crossover can be seen as a meassure of diversity\n",
    "# It's the number of names accounting for 50% of all the names given\n",
    "# So the higher, the more creative name giving\n",
    "crossover[0]"
   ]
  },
  {
   "cell_type": "code",
   "execution_count": 36,
   "metadata": {},
   "outputs": [
    {
     "name": "stderr",
     "output_type": "stream",
     "text": [
      "C:\\Users\\emyhr\\Anaconda3\\lib\\site-packages\\ipykernel_launcher.py:3: FutureWarning: by argument to sort_index is deprecated, please use .sort_values(by=...)\n",
      "  This is separate from the ipykernel package so we can avoid doing imports until\n"
     ]
    },
    {
     "data": {
      "text/plain": [
       "<matplotlib.axes._subplots.AxesSubplot at 0x1455d550be0>"
      ]
     },
     "execution_count": 36,
     "metadata": {},
     "output_type": "execute_result"
    },
    {
     "data": {
      "text/plain": [
       "<matplotlib.axes._subplots.AxesSubplot at 0x1455d550be0>"
      ]
     },
     "execution_count": 36,
     "metadata": {},
     "output_type": "execute_result"
    },
    {
     "data": {
      "image/png": "[encoded data removed]",
      "text/plain": [
       "<Figure size 432x288 with 1 Axes>"
      ]
     },
     "metadata": {},
     "output_type": "display_data"
    }
   ],
   "source": [
    "# Let's calculate this crossover point for boys and girls per year\n",
    "def get_crossover(group, quantile):\n",
    "    df = group.sort_index(by='prop', ascending=False)\n",
    "    return df.prop.cumsum().searchsorted(quantile)[0]\n",
    "\n",
    "q = .5\n",
    "\n",
    "girls_crossover = girls.groupby('year').apply(get_crossover, quantile=q)\n",
    "girls_crossover.name = 'girls'\n",
    "\n",
    "boys_crossover = boys.groupby('year').apply(get_crossover, quantile=q)\n",
    "boys_crossover.name = 'boys'\n",
    "\n",
    "# Plot the crossover counts over time\n",
    "girls_crossover.plot(kind='area', color='#00A99D', alpha=.5, legend=True)\n",
    "boys_crossover.plot(title='Baby name diversity', kind='area', \n",
    "                    color='#F5CA0C', alpha=.5, legend=True)"
   ]
  },
  {
   "cell_type": "code",
   "execution_count": null,
   "metadata": {},
   "outputs": [],
   "source": []
  },
  {
   "cell_type": "code",
   "execution_count": null,
   "metadata": {},
   "outputs": [],
   "source": []
  },
  {
   "cell_type": "code",
   "execution_count": null,
   "metadata": {},
   "outputs": [],
   "source": []
  },
  {
   "cell_type": "code",
   "execution_count": null,
   "metadata": {},
   "outputs": [],
   "source": []
  },
  {
   "cell_type": "code",
   "execution_count": null,
   "metadata": {},
   "outputs": [],
   "source": []
  },
  {
   "cell_type": "code",
   "execution_count": null,
   "metadata": {},
   "outputs": [],
   "source": []
  },
  {
   "cell_type": "code",
   "execution_count": null,
   "metadata": {},
   "outputs": [],
   "source": []
  }
 ],
 "metadata": {
  "kernelspec": {
   "display_name": "Python 3",
   "language": "python",
   "name": "python3"
  },
  "language_info": {
   "codemirror_mode": {
    "name": "ipython",
    "version": 3
   },
   "file_extension": ".py",
   "mimetype": "text/x-python",
   "name": "python",
   "nbconvert_exporter": "python",
   "pygments_lexer": "ipython3",
   "version": "3.6.5"
  }
 },
 "nbformat": 4,
 "nbformat_minor": 2
}
