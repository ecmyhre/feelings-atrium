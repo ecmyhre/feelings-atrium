{
 "cells": [
  {
   "cell_type": "markdown",
   "metadata": {},
   "source": [
    "# Instagram API Access\n",
    "Visit https://www.instagram.com/developer/ and register an application. Next, register a client. After your client has been set up, click on 'Manage' and from the client management page, copy the client ID and client secret, pasting them below.\n",
    "\n",
    "Next, visit the 'Security' tab and find the redirect URI that was set for your client. If none has been set, set one now. It can be 'http://www.google.com' if you like. Save the redirect URI to the variable below.\n",
    "\n",
    "Much like Facebook's authentication system, Instagram uses a browser-based authentication system, so the following will be a 2-step process. We need to generate an access token, so we'll construct the URL to visit in a new browser tab so that we can complete the authentication process."
   ]
  },
  {
   "cell_type": "code",
   "execution_count": 3,
   "metadata": {},
   "outputs": [
    {
     "name": "stdout",
     "output_type": "stream",
     "text": [
      "Click the following URL, which will taken you to the REDIRECT_URI you set in creating the APP.\n",
      "You may need to log into Instagram.\n",
      "\n",
      "https://api.instagram.com/oauth/authorize/?client_id=52ea3538c3714a3ea5cb1152334400fb&redirect_uri=https://www.instagram.com&response_type=code&scope=public_content\n"
     ]
    }
   ],
   "source": [
    "CLIENT_ID = ''\n",
    "CLIENT_SECRET = ''\n",
    "\n",
    "REDIRECT_URI = 'https://www.instagram.com'\n",
    "\n",
    "base_url = 'https://api.instagram.com/oauth/authorize/'\n",
    "\n",
    "url = '{0}?client_id={1}&redirect_uri={2}&response_type=code&scope=public_content'.format(base_url, CLIENT_ID, REDIRECT_URI)\n",
    "\n",
    "print('Click the following URL, which will taken you to the REDIRECT_URI you set in creating the APP.')\n",
    "print('You may need to log into Instagram.')\n",
    "print()\n",
    "print(url)"
   ]
  },
  {
   "cell_type": "markdown",
   "metadata": {},
   "source": [
    "After authorization, copy the string following '`?code=...`' in the browser's address bar."
   ]
  },
  {
   "cell_type": "code",
   "execution_count": 4,
   "metadata": {},
   "outputs": [],
   "source": [
    "import requests # pip install requests\n",
    "\n",
    "CODE = ''\n",
    "\n",
    "payload = dict(client_id=CLIENT_ID, \n",
    "               client_secret=CLIENT_SECRET,\n",
    "               grant_type='authorization_code',\n",
    "               redirect_uri=REDIRECT_URI,\n",
    "               code=CODE)\n",
    "\n",
    "response = requests.post(\n",
    "    'https://api.instagram.com/oauth/access_token',\n",
    "    data = payload)\n",
    "\n",
    "ACCESS_TOKEN = response.json()['access_token']"
   ]
  },
  {
   "cell_type": "code",
   "execution_count": 5,
   "metadata": {},
   "outputs": [
    {
     "name": "stdout",
     "output_type": "stream",
     "text": [
      "{\"data\": {\"id\": \"212661823\", \"username\": \"ecmyhre\", \"profile_picture\": \"https://scontent.cdninstagram.com/vp/cf7b71616f4674af678e2a18b3d9e097/5D7D3389/t51.2885-19/s150x150/49791079_756619378047894_8616104119792304128_n.jpg?_nc_ht=scontent.cdninstagram.com\", \"full_name\": \"Eric\", \"bio\": \"Just a guy, standing in front of the internet, telling it that he loves it. \\ud83c\\udff3\\ufe0f\\u200d\\ud83c\\udf08\", \"website\": \"http://ecmyhre.com/\", \"is_business\": false, \"counts\": {\"media\": 39, \"follows\": 1110, \"followed_by\": 1754}}, \"meta\": {\"code\": 200}}\n"
     ]
    }
   ],
   "source": [
    "response = requests.get('https://api.instagram.com/v1/users/self/?access_token='+ACCESS_TOKEN)\n",
    "\n",
    "print(response.text)"
   ]
  },
  {
   "cell_type": "code",
   "execution_count": 6,
   "metadata": {},
   "outputs": [
    {
     "data": {
      "text/html": [
       "<img src=\"https://scontent.cdninstagram.com/vp/478e8aac67389f8e476e88526afb1ef6/5D79EC38/t51.2885-15/e35/s320x320/46965490_230358987873689_3246312774713462137_n.jpg?_nc_ht=scontent.cdninstagram.com\"/>"
      ],
      "text/plain": [
       "<IPython.core.display.Image object>"
      ]
     },
     "metadata": {},
     "output_type": "display_data"
    },
    {
     "name": "stdout",
     "output_type": "stream",
     "text": [
      "https://scontent.cdninstagram.com/vp/51723ac1dfa50d7123da81f75165f1c9/5D91B06F/t51.2885-15/sh0.08/e35/s640x640/46965490_230358987873689_3246312774713462137_n.jpg?_nc_ht=scontent.cdninstagram.com\n",
      "Be gay, do crimes.\n",
      "\n"
     ]
    },
    {
     "data": {
      "text/html": [
       "<img src=\"https://scontent.cdninstagram.com/vp/f07110f5de806b023729bface110838b/5D5F80CA/t51.2885-15/e35/s320x320/36148034_1710831005704990_7152891268366860288_n.jpg?_nc_ht=scontent.cdninstagram.com\"/>"
      ],
      "text/plain": [
       "<IPython.core.display.Image object>"
      ]
     },
     "metadata": {},
     "output_type": "display_data"
    },
    {
     "name": "stdout",
     "output_type": "stream",
     "text": [
      "https://scontent.cdninstagram.com/vp/d40db4eb07d08fac21a2333d3acddbac/5D92F337/t51.2885-15/sh0.08/e35/s640x640/36148034_1710831005704990_7152891268366860288_n.jpg?_nc_ht=scontent.cdninstagram.com\n",
      "Yerrr!!! ☀️\n",
      "\n"
     ]
    },
    {
     "data": {
      "text/html": [
       "<img src=\"https://scontent.cdninstagram.com/vp/fec15514929cee84450701f2dd4d5a80/5D69F1DB/t51.2885-15/e35/s320x320/33239802_1975357622793512_4205640368609296384_n.jpg?_nc_ht=scontent.cdninstagram.com\"/>"
      ],
      "text/plain": [
       "<IPython.core.display.Image object>"
      ]
     },
     "metadata": {},
     "output_type": "display_data"
    },
    {
     "name": "stdout",
     "output_type": "stream",
     "text": [
      "https://scontent.cdninstagram.com/vp/03ff87250a52073f5fa6160330c15f9f/5D95A426/t51.2885-15/sh0.08/e35/s640x640/33239802_1975357622793512_4205640368609296384_n.jpg?_nc_ht=scontent.cdninstagram.com\n",
      "Issa hazelnut #woof\n",
      "\n"
     ]
    },
    {
     "data": {
      "text/html": [
       "<img src=\"https://scontent.cdninstagram.com/vp/6b14e0330a34240ada2a3a8966d15d63/5D94D5AD/t51.2885-15/e35/s320x320/29415533_430936460698800_5339266620969713664_n.jpg?_nc_ht=scontent.cdninstagram.com\"/>"
      ],
      "text/plain": [
       "<IPython.core.display.Image object>"
      ]
     },
     "metadata": {},
     "output_type": "display_data"
    },
    {
     "name": "stdout",
     "output_type": "stream",
     "text": [
      "https://scontent.cdninstagram.com/vp/5d65842b13e76b92224b30d238dc592c/5D96C9FA/t51.2885-15/sh0.08/e35/s640x640/29415533_430936460698800_5339266620969713664_n.jpg?_nc_ht=scontent.cdninstagram.com\n",
      "2AM under the bridge\n",
      "\n"
     ]
    },
    {
     "data": {
      "text/html": [
       "<img src=\"https://scontent.cdninstagram.com/vp/5637eb58c80a964e8ee4933e5c006424/5D92654A/t51.2885-15/e35/p320x320/29094823_468347370249290_5963967896185995264_n.jpg?_nc_ht=scontent.cdninstagram.com\"/>"
      ],
      "text/plain": [
       "<IPython.core.display.Image object>"
      ]
     },
     "metadata": {},
     "output_type": "display_data"
    },
    {
     "name": "stdout",
     "output_type": "stream",
     "text": [
      "https://scontent.cdninstagram.com/vp/cd1abb5eb332bde8a45ac9e5d8941d5b/5D61A41D/t51.2885-15/sh0.08/e35/p640x640/29094823_468347370249290_5963967896185995264_n.jpg?_nc_ht=scontent.cdninstagram.com\n"
     ]
    },
    {
     "ename": "TypeError",
     "evalue": "'NoneType' object is not subscriptable",
     "output_type": "error",
     "traceback": [
      "\u001b[1;31m---------------------------------------------------------------------------\u001b[0m",
      "\u001b[1;31mTypeError\u001b[0m                                 Traceback (most recent call last)",
      "\u001b[1;32m<ipython-input-6-85cba536d8a8>\u001b[0m in \u001b[0;36m<module>\u001b[1;34m()\u001b[0m\n\u001b[0;32m     13\u001b[0m \u001b[1;33m\u001b[0m\u001b[0m\n\u001b[0;32m     14\u001b[0m \u001b[1;33m\u001b[0m\u001b[0m\n\u001b[1;32m---> 15\u001b[1;33m \u001b[0mdisplay_image_feed\u001b[0m\u001b[1;33m(\u001b[0m\u001b[0mrecent_posts\u001b[0m\u001b[1;33m,\u001b[0m \u001b[0minclude_captions\u001b[0m\u001b[1;33m=\u001b[0m\u001b[1;32mTrue\u001b[0m\u001b[1;33m)\u001b[0m\u001b[1;33m\u001b[0m\u001b[0m\n\u001b[0m",
      "\u001b[1;32m<ipython-input-6-85cba536d8a8>\u001b[0m in \u001b[0;36mdisplay_image_feed\u001b[1;34m(feed, include_captions)\u001b[0m\n\u001b[0;32m      9\u001b[0m         \u001b[0mdisplay\u001b[0m\u001b[1;33m(\u001b[0m\u001b[0mImage\u001b[0m\u001b[1;33m(\u001b[0m\u001b[0murl\u001b[0m\u001b[1;33m=\u001b[0m\u001b[0mpost\u001b[0m\u001b[1;33m[\u001b[0m\u001b[1;34m'images'\u001b[0m\u001b[1;33m]\u001b[0m\u001b[1;33m[\u001b[0m\u001b[1;34m'low_resolution'\u001b[0m\u001b[1;33m]\u001b[0m\u001b[1;33m[\u001b[0m\u001b[1;34m'url'\u001b[0m\u001b[1;33m]\u001b[0m\u001b[1;33m)\u001b[0m\u001b[1;33m)\u001b[0m\u001b[1;33m\u001b[0m\u001b[0m\n\u001b[0;32m     10\u001b[0m         \u001b[0mprint\u001b[0m\u001b[1;33m(\u001b[0m\u001b[0mpost\u001b[0m\u001b[1;33m[\u001b[0m\u001b[1;34m'images'\u001b[0m\u001b[1;33m]\u001b[0m\u001b[1;33m[\u001b[0m\u001b[1;34m'standard_resolution'\u001b[0m\u001b[1;33m]\u001b[0m\u001b[1;33m[\u001b[0m\u001b[1;34m'url'\u001b[0m\u001b[1;33m]\u001b[0m\u001b[1;33m)\u001b[0m\u001b[1;33m\u001b[0m\u001b[0m\n\u001b[1;32m---> 11\u001b[1;33m         \u001b[1;32mif\u001b[0m \u001b[0minclude_captions\u001b[0m\u001b[1;33m:\u001b[0m \u001b[0mprint\u001b[0m\u001b[1;33m(\u001b[0m\u001b[0mpost\u001b[0m\u001b[1;33m[\u001b[0m\u001b[1;34m'caption'\u001b[0m\u001b[1;33m]\u001b[0m\u001b[1;33m[\u001b[0m\u001b[1;34m'text'\u001b[0m\u001b[1;33m]\u001b[0m\u001b[1;33m)\u001b[0m\u001b[1;33m\u001b[0m\u001b[0m\n\u001b[0m\u001b[0;32m     12\u001b[0m         \u001b[0mprint\u001b[0m\u001b[1;33m(\u001b[0m\u001b[1;33m)\u001b[0m\u001b[1;33m\u001b[0m\u001b[0m\n\u001b[0;32m     13\u001b[0m \u001b[1;33m\u001b[0m\u001b[0m\n",
      "\u001b[1;31mTypeError\u001b[0m: 'NoneType' object is not subscriptable"
     ]
    }
   ],
   "source": [
    "# Retrieve your feed\n",
    "from IPython.display import display, Image \n",
    "\n",
    "response = requests.get('https://api.instagram.com/v1/users/self/media/recent/?access_token='+ACCESS_TOKEN)\n",
    "recent_posts = response.json()\n",
    "\n",
    "def display_image_feed(feed, include_captions=True):\n",
    "    for post in feed['data']:\n",
    "        display(Image(url=post['images']['low_resolution']['url']))\n",
    "        print(post['images']['standard_resolution']['url'])\n",
    "        if include_captions: print(post['caption']['text'])\n",
    "        print()\n",
    "\n",
    "\n",
    "display_image_feed(recent_posts, include_captions=True)"
   ]
  },
  {
   "cell_type": "code",
   "execution_count": 9,
   "metadata": {},
   "outputs": [
    {
     "name": "stdout",
     "output_type": "stream",
     "text": [
      "{\n",
      " \"pagination\": {},\n",
      " \"data\": [\n",
      "  {\n",
      "   \"id\": \"1940934739557126877_212661823\",\n",
      "   \"user\": {\n",
      "    \"id\": \"212661823\",\n",
      "    \"full_name\": \"Eric\",\n",
      "    \"profile_picture\": \"https://scontent.cdninstagram.com/vp/cf7b71616f4674af678e2a18b3d9e097/5D7D3389/t51.2885-19/s150x150/49791079_756619378047894_8616104119792304128_n.jpg?_nc_ht=scontent.cdninstagram.com\",\n",
      "    \"username\": \"ecmyhre\"\n",
      "   },\n",
      "   \"images\": {\n",
      "    \"thumbnail\": {\n",
      "     \"width\": 150,\n",
      "     \"height\": 150,\n",
      "     \"url\": \"https://scontent.cdninstagram.com/vp/94d8d909835022b17858fa0f897e16f9/5D62ACC8/t51.2885-15/e35/s150x150/46965490_230358987873689_3246312774713462137_n.jpg?_nc_ht=scontent.cdninstagram.com\"\n",
      "    },\n",
      "    \"low_resolution\": {\n",
      "     \"width\": 320,\n",
      "     \"height\": 320,\n",
      "     \"url\": \"https://scontent.cdninstagram.com/vp/478e8aac67389f8e476e88526afb1ef6/5D79EC38/t51.2885-15/e35/s320x320/46965490_230358987873689_3246312774713462137_n.jpg?_nc_ht=scontent.cdninstagram.com\"\n",
      "    },\n",
      "    \"standard_resolution\": {\n",
      "     \"width\": 640,\n",
      "     \"height\": 640,\n",
      "     \"url\": \"https://scontent.cdninstagram.com/vp/51723ac1dfa50d7123da81f75165f1c9/5D91B06F/t51.2885-15/sh0.08/e35/s640x640/46965490_230358987873689_3246312774713462137_n.jpg?_nc_ht=scontent.cdninstagram.com\"\n",
      "    }\n",
      "   },\n",
      "   \"created_time\": \"1545597473\",\n",
      "   \"caption\": {\n",
      "    \"id\": \"17994679921124977\",\n",
      "    \"text\": \"Be gay, do crimes.\",\n",
      "    \"created_time\": \"1545597473\",\n",
      "    \"from\": {\n",
      "     \"id\": \"212661823\",\n",
      "     \"full_name\": \"Eric\",\n",
      "     \"profile_picture\": \"https://scontent.cdninstagram.com/vp/cf7b71616f4674af678e2a18b3d9e097/5D7D3389/t51.2885-19/s150x150/49791079_756619378047894_8616104119792304128_n.jpg?_nc_ht=scontent.cdninstagram.com\",\n",
      "     \"username\": \"ecmyhre\"\n",
      "    }\n",
      "   },\n",
      "   \"user_has_liked\": true,\n",
      "   \"likes\": {\n",
      "    \"count\": 113\n",
      "   },\n",
      "   \"tags\": [],\n",
      "   \"filter\": \"Normal\",\n",
      "   \"comments\": {\n",
      "    \"count\": 2\n",
      "   },\n",
      "   \"type\": \"image\",\n",
      "   \"link\": \"https://www.instagram.com/p/BrvldyzhJLd/\",\n",
      "   \"location\": null,\n",
      "   \"attribution\": null,\n",
      "   \"users_in_photo\": []\n",
      "  },\n",
      "  {\n",
      "   \"id\": \"1817631657119060571_212661823\",\n",
      "   \"user\": {\n",
      "    \"id\": \"212661823\",\n",
      "    \"full_name\": \"Eric\",\n",
      "    \"profile_picture\": \"https://scontent.cdninstagram.com/vp/cf7b71616f4674af678e2a18b3d9e097/5D7D3389/t51.2885-19/s150x150/49791079_756619378047894_8616104119792304128_n.jpg?_nc_ht=scontent.cdninstagram.com\",\n",
      "    \"username\": \"ecmyhre\"\n",
      "   },\n",
      "   \"images\": {\n",
      "    \"thumbnail\": {\n",
      "     \"width\": 150,\n",
      "     \"height\": 150,\n",
      "     \"url\": \"https://scontent.cdninstagram.com/vp/5b8f27237dda2077e36651853c4379d8/5D98D5B2/t51.2885-15/e35/s150x150/36148034_1710831005704990_7152891268366860288_n.jpg?_nc_ht=scontent.cdninstagram.com\"\n",
      "    },\n",
      "    \"low_resolution\": {\n",
      "     \"width\": 320,\n",
      "     \"height\": 320,\n",
      "     \"url\": \"https://scontent.cdninstagram.com/vp/f07110f5de806b023729bface110838b/5D5F80CA/t51.2885-15/e35/s320x320/36148034_1710831005704990_7152891268366860288_n.jpg?_nc_ht=scontent.cdninstagram.com\"\n",
      "    },\n",
      "    \"standard_resolution\": {\n",
      "     \"width\": 640,\n",
      "     \"height\": 640,\n",
      "     \"url\": \"https://scontent.cdninstagram.com/vp/d40db4eb07d08fac21a2333d3acddbac/5D92F337/t51.2885-15/sh0.08/e35/s640x640/36148034_1710831005704990_7152891268366860288_n.jpg?_nc_ht=scontent.cdninstagram.com\"\n",
      "    }\n",
      "   },\n",
      "   \"created_time\": \"1530898600\",\n",
      "   \"caption\": {\n",
      "    \"id\": \"17959890727044526\",\n",
      "    \"text\": \"Yerrr!!! \\u2600\\ufe0f\",\n",
      "    \"created_time\": \"1530898600\",\n",
      "    \"from\": {\n",
      "     \"id\": \"212661823\",\n",
      "     \"full_name\": \"Eric\",\n",
      "     \"profile_picture\": \"https://scontent.cdninstagram.com/vp/cf7b71616f4674af678e2a18b3d9e097/5D7D3389/t51.2885-19/s150x150/49791079_756619378047894_8616104119792304128_n.jpg?_nc_ht=scontent.cdninstagram.com\",\n",
      "     \"username\": \"ecmyhre\"\n",
      "    }\n",
      "   },\n",
      "   \"user_has_liked\": true,\n",
      "   \"likes\": {\n",
      "    \"count\": 191\n",
      "   },\n",
      "   \"tags\": [],\n",
      "   \"filter\": \"Normal\",\n",
      "   \"comments\": {\n",
      "    \"count\": 9\n",
      "   },\n",
      "   \"type\": \"carousel\",\n",
      "   \"link\": \"https://www.instagram.com/p/Bk5hlynFhJb/\",\n",
      "   \"location\": {\n",
      "    \"latitude\": 40.7142,\n",
      "    \"longitude\": -74.0064,\n",
      "    \"name\": \"New York, New York\",\n",
      "    \"id\": 212988663\n",
      "   },\n",
      "   \"attribution\": null,\n",
      "   \"users_in_photo\": [],\n",
      "   \"carousel_media\": [\n",
      "    {\n",
      "     \"images\": {\n",
      "      \"thumbnail\": {\n",
      "       \"width\": 150,\n",
      "       \"height\": 150,\n",
      "       \"url\": \"https://scontent.cdninstagram.com/vp/5b8f27237dda2077e36651853c4379d8/5D98D5B2/t51.2885-15/e35/s150x150/36148034_1710831005704990_7152891268366860288_n.jpg?_nc_ht=scontent.cdninstagram.com\"\n",
      "      },\n",
      "      \"low_resolution\": {\n",
      "       \"width\": 320,\n",
      "       \"height\": 320,\n",
      "       \"url\": \"https://scontent.cdninstagram.com/vp/f07110f5de806b023729bface110838b/5D5F80CA/t51.2885-15/e35/s320x320/36148034_1710831005704990_7152891268366860288_n.jpg?_nc_ht=scontent.cdninstagram.com\"\n",
      "      },\n",
      "      \"standard_resolution\": {\n",
      "       \"width\": 640,\n",
      "       \"height\": 640,\n",
      "       \"url\": \"https://scontent.cdninstagram.com/vp/d40db4eb07d08fac21a2333d3acddbac/5D92F337/t51.2885-15/sh0.08/e35/s640x640/36148034_1710831005704990_7152891268366860288_n.jpg?_nc_ht=scontent.cdninstagram.com\"\n",
      "      }\n",
      "     },\n",
      "     \"users_in_photo\": [],\n",
      "     \"type\": \"image\"\n",
      "    },\n",
      "    {\n",
      "     \"images\": {\n",
      "      \"thumbnail\": {\n",
      "       \"width\": 150,\n",
      "       \"height\": 150,\n",
      "       \"url\": \"https://scontent.cdninstagram.com/vp/d1f0a2178c2931cd2b17e608d0ccec6a/5D62A73D/t51.2885-15/e35/s150x150/35616851_414454695703153_7294801961398829056_n.jpg?_nc_ht=scontent.cdninstagram.com\"\n",
      "      },\n",
      "      \"low_resolution\": {\n",
      "       \"width\": 320,\n",
      "       \"height\": 320,\n",
      "       \"url\": \"https://scontent.cdninstagram.com/vp/61c1fe9027221abd1f283a35c1d54b54/5D9858CD/t51.2885-15/e35/s320x320/35616851_414454695703153_7294801961398829056_n.jpg?_nc_ht=scontent.cdninstagram.com\"\n",
      "      },\n",
      "      \"standard_resolution\": {\n",
      "       \"width\": 640,\n",
      "       \"height\": 640,\n",
      "       \"url\": \"https://scontent.cdninstagram.com/vp/90e783ea5b68d7745d6d089040e82196/5D9E9B9A/t51.2885-15/sh0.08/e35/s640x640/35616851_414454695703153_7294801961398829056_n.jpg?_nc_ht=scontent.cdninstagram.com\"\n",
      "      }\n",
      "     },\n",
      "     \"users_in_photo\": [],\n",
      "     \"type\": \"image\"\n",
      "    },\n",
      "    {\n",
      "     \"images\": {\n",
      "      \"thumbnail\": {\n",
      "       \"width\": 150,\n",
      "       \"height\": 150,\n",
      "       \"url\": \"https://scontent.cdninstagram.com/vp/d3f2804aa37beacd0cb625059cb9bc8b/5D85641A/t51.2885-15/e35/c0.0.1080.1080a/s150x150/36160787_2029011690681329_8919582798075920384_n.jpg?_nc_ht=scontent.cdninstagram.com\"\n",
      "      },\n",
      "      \"low_resolution\": {\n",
      "       \"width\": 320,\n",
      "       \"height\": 320,\n",
      "       \"url\": \"https://scontent.cdninstagram.com/vp/184e4de651bb4a208ab2a36792abaa61/5D63AD38/t51.2885-15/e35/p320x320/36160787_2029011690681329_8919582798075920384_n.jpg?_nc_ht=scontent.cdninstagram.com\"\n",
      "      },\n",
      "      \"standard_resolution\": {\n",
      "       \"width\": 640,\n",
      "       \"height\": 640,\n",
      "       \"url\": \"https://scontent.cdninstagram.com/vp/255001b0e9d04173e61b1e8f1176d79e/5D99E8C5/t51.2885-15/sh0.08/e35/p640x640/36160787_2029011690681329_8919582798075920384_n.jpg?_nc_ht=scontent.cdninstagram.com\"\n",
      "      }\n",
      "     },\n",
      "     \"users_in_photo\": [],\n",
      "     \"type\": \"image\"\n",
      "    }\n",
      "   ]\n",
      "  },\n",
      "  {\n",
      "   \"id\": \"1793952462623140871_212661823\",\n",
      "   \"user\": {\n",
      "    \"id\": \"212661823\",\n",
      "    \"full_name\": \"Eric\",\n",
      "    \"profile_picture\": \"https://scontent.cdninstagram.com/vp/cf7b71616f4674af678e2a18b3d9e097/5D7D3389/t51.2885-19/s150x150/49791079_756619378047894_8616104119792304128_n.jpg?_nc_ht=scontent.cdninstagram.com\",\n",
      "    \"username\": \"ecmyhre\"\n",
      "   },\n",
      "   \"images\": {\n",
      "    \"thumbnail\": {\n",
      "     \"width\": 150,\n",
      "     \"height\": 150,\n",
      "     \"url\": \"https://scontent.cdninstagram.com/vp/dd751843b314770ec4e16f47c948c5ce/5D9DB0A3/t51.2885-15/e35/s150x150/33239802_1975357622793512_4205640368609296384_n.jpg?_nc_ht=scontent.cdninstagram.com\"\n",
      "    },\n",
      "    \"low_resolution\": {\n",
      "     \"width\": 320,\n",
      "     \"height\": 320,\n",
      "     \"url\": \"https://scontent.cdninstagram.com/vp/fec15514929cee84450701f2dd4d5a80/5D69F1DB/t51.2885-15/e35/s320x320/33239802_1975357622793512_4205640368609296384_n.jpg?_nc_ht=scontent.cdninstagram.com\"\n",
      "    },\n",
      "    \"standard_resolution\": {\n",
      "     \"width\": 640,\n",
      "     \"height\": 640,\n",
      "     \"url\": \"https://scontent.cdninstagram.com/vp/03ff87250a52073f5fa6160330c15f9f/5D95A426/t51.2885-15/sh0.08/e35/s640x640/33239802_1975357622793512_4205640368609296384_n.jpg?_nc_ht=scontent.cdninstagram.com\"\n",
      "    }\n",
      "   },\n",
      "   \"created_time\": \"1528075820\",\n",
      "   \"caption\": {\n",
      "    \"id\": \"17925324574139804\",\n",
      "    \"text\": \"Issa hazelnut #woof\",\n",
      "    \"created_time\": \"1528075820\",\n",
      "    \"from\": {\n",
      "     \"id\": \"212661823\",\n",
      "     \"full_name\": \"Eric\",\n",
      "     \"profile_picture\": \"https://scontent.cdninstagram.com/vp/cf7b71616f4674af678e2a18b3d9e097/5D7D3389/t51.2885-19/s150x150/49791079_756619378047894_8616104119792304128_n.jpg?_nc_ht=scontent.cdninstagram.com\",\n",
      "     \"username\": \"ecmyhre\"\n",
      "    }\n",
      "   },\n",
      "   \"user_has_liked\": true,\n",
      "   \"likes\": {\n",
      "    \"count\": 138\n",
      "   },\n",
      "   \"tags\": [\n",
      "    \"woof\"\n",
      "   ],\n",
      "   \"filter\": \"Normal\",\n",
      "   \"comments\": {\n",
      "    \"count\": 9\n",
      "   },\n",
      "   \"type\": \"image\",\n",
      "   \"link\": \"https://www.instagram.com/p/BjlZkKOluwH/\",\n",
      "   \"location\": null,\n",
      "   \"attribution\": null,\n",
      "   \"users_in_photo\": []\n",
      "  },\n",
      "  {\n",
      "   \"id\": \"1750247251639109591_212661823\",\n",
      "   \"user\": {\n",
      "    \"id\": \"212661823\",\n",
      "    \"full_name\": \"Eric\",\n",
      "    \"profile_picture\": \"https://scontent.cdninstagram.com/vp/cf7b71616f4674af678e2a18b3d9e097/5D7D3389/t51.2885-19/s150x150/49791079_756619378047894_8616104119792304128_n.jpg?_nc_ht=scontent.cdninstagram.com\",\n",
      "    \"username\": \"ecmyhre\"\n",
      "   },\n",
      "   \"images\": {\n",
      "    \"thumbnail\": {\n",
      "     \"width\": 150,\n",
      "     \"height\": 150,\n",
      "     \"url\": \"https://scontent.cdninstagram.com/vp/4dac930dfd864286abfc34f5efbfa0da/5D6023EA/t51.2885-15/e35/c257.0.565.565/s150x150/29415533_430936460698800_5339266620969713664_n.jpg?_nc_ht=scontent.cdninstagram.com\"\n",
      "    },\n",
      "    \"low_resolution\": {\n",
      "     \"width\": 320,\n",
      "     \"height\": 167,\n",
      "     \"url\": \"https://scontent.cdninstagram.com/vp/6b14e0330a34240ada2a3a8966d15d63/5D94D5AD/t51.2885-15/e35/s320x320/29415533_430936460698800_5339266620969713664_n.jpg?_nc_ht=scontent.cdninstagram.com\"\n",
      "    },\n",
      "    \"standard_resolution\": {\n",
      "     \"width\": 640,\n",
      "     \"height\": 334,\n",
      "     \"url\": \"https://scontent.cdninstagram.com/vp/5d65842b13e76b92224b30d238dc592c/5D96C9FA/t51.2885-15/sh0.08/e35/s640x640/29415533_430936460698800_5339266620969713664_n.jpg?_nc_ht=scontent.cdninstagram.com\"\n",
      "    }\n",
      "   },\n",
      "   \"created_time\": \"1522865753\",\n",
      "   \"caption\": {\n",
      "    \"id\": \"17874887638220257\",\n",
      "    \"text\": \"2AM under the bridge\",\n",
      "    \"created_time\": \"1522865753\",\n",
      "    \"from\": {\n",
      "     \"id\": \"212661823\",\n",
      "     \"full_name\": \"Eric\",\n",
      "     \"profile_picture\": \"https://scontent.cdninstagram.com/vp/cf7b71616f4674af678e2a18b3d9e097/5D7D3389/t51.2885-19/s150x150/49791079_756619378047894_8616104119792304128_n.jpg?_nc_ht=scontent.cdninstagram.com\",\n",
      "     \"username\": \"ecmyhre\"\n",
      "    }\n",
      "   },\n",
      "   \"user_has_liked\": true,\n",
      "   \"likes\": {\n",
      "    \"count\": 101\n",
      "   },\n",
      "   \"tags\": [],\n",
      "   \"filter\": \"X-Pro II\",\n",
      "   \"comments\": {\n",
      "    \"count\": 5\n",
      "   },\n",
      "   \"type\": \"image\",\n",
      "   \"link\": \"https://www.instagram.com/p/BhKIJonDYfX/\",\n",
      "   \"location\": {\n",
      "    \"latitude\": 40.606388888889,\n",
      "    \"longitude\": -74.045555555556,\n",
      "    \"name\": \"Verrazano-Narrows Bridge\",\n",
      "    \"id\": 672915\n",
      "   },\n",
      "   \"attribution\": null,\n",
      "   \"users_in_photo\": [\n",
      "    {\n",
      "     \"user\": {\n",
      "      \"username\": \"verrazanobridge\"\n",
      "     },\n",
      "     \"position\": {\n",
      "      \"x\": 0.7916751,\n",
      "      \"y\": 0.5709962\n",
      "     }\n",
      "    }\n",
      "   ]\n",
      "  },\n",
      "  {\n",
      "   \"id\": \"1744407678602229152_212661823\",\n",
      "   \"user\": {\n",
      "    \"id\": \"212661823\",\n",
      "    \"full_name\": \"Eric\",\n",
      "    \"profile_picture\": \"https://scontent.cdninstagram.com/vp/cf7b71616f4674af678e2a18b3d9e097/5D7D3389/t51.2885-19/s150x150/49791079_756619378047894_8616104119792304128_n.jpg?_nc_ht=scontent.cdninstagram.com\",\n",
      "    \"username\": \"ecmyhre\"\n",
      "   },\n",
      "   \"images\": {\n",
      "    \"thumbnail\": {\n",
      "     \"width\": 150,\n",
      "     \"height\": 150,\n",
      "     \"url\": \"https://scontent.cdninstagram.com/vp/95781bc5b4a563b00a0b052c78a9e2bf/5D977E4E/t51.2885-15/e35/c0.135.1079.1079a/s150x150/29094823_468347370249290_5963967896185995264_n.jpg?_nc_ht=scontent.cdninstagram.com\"\n",
      "    },\n",
      "    \"low_resolution\": {\n",
      "     \"width\": 320,\n",
      "     \"height\": 400,\n",
      "     \"url\": \"https://scontent.cdninstagram.com/vp/5637eb58c80a964e8ee4933e5c006424/5D92654A/t51.2885-15/e35/p320x320/29094823_468347370249290_5963967896185995264_n.jpg?_nc_ht=scontent.cdninstagram.com\"\n",
      "    },\n",
      "    \"standard_resolution\": {\n",
      "     \"width\": 640,\n",
      "     \"height\": 800,\n",
      "     \"url\": \"https://scontent.cdninstagram.com/vp/cd1abb5eb332bde8a45ac9e5d8941d5b/5D61A41D/t51.2885-15/sh0.08/e35/p640x640/29094823_468347370249290_5963967896185995264_n.jpg?_nc_ht=scontent.cdninstagram.com\"\n",
      "    }\n",
      "   },\n",
      "   \"created_time\": \"1522169621\",\n",
      "   \"caption\": null,\n",
      "   \"user_has_liked\": true,\n",
      "   \"likes\": {\n",
      "    \"count\": 48\n",
      "   },\n",
      "   \"tags\": [],\n",
      "   \"filter\": \"Normal\",\n",
      "   \"comments\": {\n",
      "    \"count\": 0\n",
      "   },\n",
      "   \"type\": \"image\",\n",
      "   \"link\": \"https://www.instagram.com/p/Bg1YYqajLWg/\",\n",
      "   \"location\": {\n",
      "    \"latitude\": 40.570938319893,\n",
      "    \"longitude\": -74.145731128372,\n",
      "    \"name\": \"Historic Richmond Town\",\n",
      "    \"id\": 238372506\n",
      "   },\n",
      "   \"attribution\": null,\n",
      "   \"users_in_photo\": [\n",
      "    {\n",
      "     \"user\": {\n",
      "      \"username\": \"ecmyhre\"\n",
      "     },\n",
      "     \"position\": {\n",
      "      \"x\": 0.6701782,\n",
      "      \"y\": 0.42381886\n",
      "     }\n",
      "    },\n",
      "    {\n",
      "     \"user\": {\n",
      "      \"username\": \"historicrichmondtown\"\n",
      "     },\n",
      "     \"position\": {\n",
      "      \"x\": 0.6896067,\n",
      "      \"y\": 0.6793566999999999\n",
      "     }\n",
      "    },\n",
      "    {\n",
      "     \"user\": {\n",
      "      \"username\": \"myraaliess\"\n",
      "     },\n",
      "     \"position\": {\n",
      "      \"x\": 0.46198964000000003,\n",
      "      \"y\": 0.52765787\n",
      "     }\n",
      "    }\n",
      "   ]\n",
      "  },\n",
      "  {\n",
      "   \"id\": \"1688041768644191210_212661823\",\n",
      "   \"user\": {\n",
      "    \"id\": \"212661823\",\n",
      "    \"full_name\": \"Eric\",\n",
      "    \"profile_picture\": \"https://scontent.cdninstagram.com/vp/cf7b71616f4674af678e2a18b3d9e097/5D7D3389/t51.2885-19/s150x150/49791079_756619378047894_8616104119792304128_n.jpg?_nc_ht=scontent.cdninstagram.com\",\n",
      "    \"username\": \"ecmyhre\"\n",
      "   },\n",
      "   \"images\": {\n",
      "    \"thumbnail\": {\n",
      "     \"width\": 150,\n",
      "     \"height\": 150,\n",
      "     \"url\": \"https://scontent.cdninstagram.com/vp/9196623511f6ac19232c9f9c0ad6f7ba/5CEA7FE8/t51.2885-15/e35/c80.0.480.480a/s150x150/28766535_1970101066367304_4931904404761608192_n.jpg?_nc_ht=scontent.cdninstagram.com\"\n",
      "    },\n",
      "    \"low_resolution\": {\n",
      "     \"width\": 320,\n",
      "     \"height\": 240,\n",
      "     \"url\": \"https://scontent.cdninstagram.com/vp/1098552977417e5d9c48d9f307f8fdc6/5CEB1DCD/t51.2885-15/e35/s320x320/28766535_1970101066367304_4931904404761608192_n.jpg?_nc_ht=scontent.cdninstagram.com\"\n",
      "    },\n",
      "    \"standard_resolution\": {\n",
      "     \"width\": 640,\n",
      "     \"height\": 480,\n",
      "     \"url\": \"https://scontent.cdninstagram.com/vp/c10b14c4a3022ed7b1a4e75a4b611cef/5CEAF24A/t51.2885-15/e35/28766535_1970101066367304_4931904404761608192_n.jpg?_nc_ht=scontent.cdninstagram.com\"\n",
      "    }\n",
      "   },\n",
      "   \"created_time\": \"1515450339\",\n",
      "   \"caption\": {\n",
      "    \"id\": \"17844564802224792\",\n",
      "    \"text\": \"Oprah Winfrey being interviewed around the time her show first started. I love what she said here. @oprah #stablegenius\",\n",
      "    \"created_time\": \"1515450339\",\n",
      "    \"from\": {\n",
      "     \"id\": \"212661823\",\n",
      "     \"full_name\": \"Eric\",\n",
      "     \"profile_picture\": \"https://scontent.cdninstagram.com/vp/cf7b71616f4674af678e2a18b3d9e097/5D7D3389/t51.2885-19/s150x150/49791079_756619378047894_8616104119792304128_n.jpg?_nc_ht=scontent.cdninstagram.com\",\n",
      "     \"username\": \"ecmyhre\"\n",
      "    }\n",
      "   },\n",
      "   \"user_has_liked\": true,\n",
      "   \"likes\": {\n",
      "    \"count\": 52\n",
      "   },\n",
      "   \"tags\": [\n",
      "    \"stablegenius\"\n",
      "   ],\n",
      "   \"filter\": \"Normal\",\n",
      "   \"comments\": {\n",
      "    \"count\": 1\n",
      "   },\n",
      "   \"type\": \"video\",\n",
      "   \"link\": \"https://www.instagram.com/p/BdtIQuCDyPq/\",\n",
      "   \"location\": null,\n",
      "   \"attribution\": null,\n",
      "   \"users_in_photo\": [],\n",
      "   \"videos\": {\n",
      "    \"standard_resolution\": {\n",
      "     \"width\": 640,\n",
      "     \"height\": 480,\n",
      "     \"url\": \"https://scontent.cdninstagram.com/vp/681445e04d66ccd14c167105a5771377/5CEAB287/t50.2886-16/26246874_315827035490053_2633941861672157184_n.mp4?efg=eyJ2ZW5jb2RlX3RhZyI6InZ0c192b2RfdXJsZ2VuLjY0MC5mZWVkIn0&_nc_ht=scontent.cdninstagram.com&vtsbc=1\",\n",
      "     \"id\": \"584144105370472\"\n",
      "    },\n",
      "    \"low_resolution\": {\n",
      "     \"width\": 480,\n",
      "     \"height\": 360,\n",
      "     \"url\": \"https://scontent.cdninstagram.com/vp/14da19a9127d87e50fced99738983254/5CEACD5E/t50.2886-16/26688342_139882783470330_3883634833498308608_n.mp4?efg=eyJ2ZW5jb2RlX3RhZyI6InZ0c192b2RfdXJsZ2VuLjQ4MC5mZWVkIn0&_nc_ht=scontent.cdninstagram.com&vtsbc=1\",\n",
      "     \"id\": \"2112602568791819\"\n",
      "    },\n",
      "    \"low_bandwidth\": {\n",
      "     \"width\": 480,\n",
      "     \"height\": 360,\n",
      "     \"url\": \"https://scontent.cdninstagram.com/vp/14da19a9127d87e50fced99738983254/5CEACD5E/t50.2886-16/26688342_139882783470330_3883634833498308608_n.mp4?efg=eyJ2ZW5jb2RlX3RhZyI6InZ0c192b2RfdXJsZ2VuLjQ4MC5mZWVkIn0&_nc_ht=scontent.cdninstagram.com&vtsbc=1\",\n",
      "     \"id\": \"2112602568791819\"\n",
      "    }\n",
      "   }\n",
      "  },\n",
      "  {\n",
      "   \"id\": \"1540180454500733969_212661823\",\n",
      "   \"user\": {\n",
      "    \"id\": \"212661823\",\n",
      "    \"full_name\": \"Eric\",\n",
      "    \"profile_picture\": \"https://scontent.cdninstagram.com/vp/cf7b71616f4674af678e2a18b3d9e097/5D7D3389/t51.2885-19/s150x150/49791079_756619378047894_8616104119792304128_n.jpg?_nc_ht=scontent.cdninstagram.com\",\n",
      "    \"username\": \"ecmyhre\"\n",
      "   },\n",
      "   \"images\": {\n",
      "    \"thumbnail\": {\n",
      "     \"width\": 150,\n",
      "     \"height\": 150,\n",
      "     \"url\": \"https://scontent.cdninstagram.com/vp/6681624f984efc0712ec6717d3f5a218/5D8153ED/t51.2885-15/e35/c0.135.1080.1080a/s150x150/29096214_203844837055660_7992102898475466752_n.jpg?_nc_ht=scontent.cdninstagram.com\"\n",
      "    },\n",
      "    \"low_resolution\": {\n",
      "     \"width\": 320,\n",
      "     \"height\": 400,\n",
      "     \"url\": \"https://scontent.cdninstagram.com/vp/1e80fe04e465976f0344ea4d8ceca68d/5D9AB88B/t51.2885-15/e35/p320x320/29096214_203844837055660_7992102898475466752_n.jpg?_nc_ht=scontent.cdninstagram.com\"\n",
      "    },\n",
      "    \"standard_resolution\": {\n",
      "     \"width\": 640,\n",
      "     \"height\": 800,\n",
      "     \"url\": \"https://scontent.cdninstagram.com/vp/f3e9f7885f7fe2c7dac4577628b5794a/5D7B19DC/t51.2885-15/sh0.08/e35/p640x640/29096214_203844837055660_7992102898475466752_n.jpg?_nc_ht=scontent.cdninstagram.com\"\n",
      "    }\n",
      "   },\n",
      "   \"created_time\": \"1497823839\",\n",
      "   \"caption\": {\n",
      "    \"id\": \"17903789524170768\",\n",
      "    \"text\": \"HFD to all my daddy's\",\n",
      "    \"created_time\": \"1497823839\",\n",
      "    \"from\": {\n",
      "     \"id\": \"212661823\",\n",
      "     \"full_name\": \"Eric\",\n",
      "     \"profile_picture\": \"https://scontent.cdninstagram.com/vp/cf7b71616f4674af678e2a18b3d9e097/5D7D3389/t51.2885-19/s150x150/49791079_756619378047894_8616104119792304128_n.jpg?_nc_ht=scontent.cdninstagram.com\",\n",
      "     \"username\": \"ecmyhre\"\n",
      "    }\n",
      "   },\n",
      "   \"user_has_liked\": true,\n",
      "   \"likes\": {\n",
      "    \"count\": 258\n",
      "   },\n",
      "   \"tags\": [],\n",
      "   \"filter\": \"Normal\",\n",
      "   \"comments\": {\n",
      "    \"count\": 12\n",
      "   },\n",
      "   \"type\": \"image\",\n",
      "   \"link\": \"https://www.instagram.com/p/BVf0faQhBQR/\",\n",
      "   \"location\": null,\n",
      "   \"attribution\": null,\n",
      "   \"users_in_photo\": []\n",
      "  },\n",
      "  {\n",
      "   \"id\": \"1497374184291851519_212661823\",\n",
      "   \"user\": {\n",
      "    \"id\": \"212661823\",\n",
      "    \"full_name\": \"Eric\",\n",
      "    \"profile_picture\": \"https://scontent.cdninstagram.com/vp/cf7b71616f4674af678e2a18b3d9e097/5D7D3389/t51.2885-19/s150x150/49791079_756619378047894_8616104119792304128_n.jpg?_nc_ht=scontent.cdninstagram.com\",\n",
      "    \"username\": \"ecmyhre\"\n",
      "   },\n",
      "   \"images\": {\n",
      "    \"thumbnail\": {\n",
      "     \"width\": 150,\n",
      "     \"height\": 150,\n",
      "     \"url\": \"https://scontent.cdninstagram.com/vp/58d595b01135f93dce4ca910ad60b653/5CEABD80/t51.2885-15/e15/s150x150/29087459_285191282013590_3125460332798017536_n.jpg?_nc_ht=scontent.cdninstagram.com\"\n",
      "    },\n",
      "    \"low_resolution\": {\n",
      "     \"width\": 320,\n",
      "     \"height\": 320,\n",
      "     \"url\": \"https://scontent.cdninstagram.com/vp/6e74a6ce45a0a49084fd2d8264ee07e5/5CEAFD30/t51.2885-15/e15/s320x320/29087459_285191282013590_3125460332798017536_n.jpg?_nc_ht=scontent.cdninstagram.com\"\n",
      "    },\n",
      "    \"standard_resolution\": {\n",
      "     \"width\": 640,\n",
      "     \"height\": 640,\n",
      "     \"url\": \"https://scontent.cdninstagram.com/vp/b520d37c474658139523cd9f44ab4e0a/5CEAE11F/t51.2885-15/e15/s640x640/29087459_285191282013590_3125460332798017536_n.jpg?_nc_ht=scontent.cdninstagram.com\"\n",
      "    }\n",
      "   },\n",
      "   \"created_time\": \"1492720934\",\n",
      "   \"caption\": {\n",
      "    \"id\": \"17878805941032145\",\n",
      "    \"text\": \"*realizes too much* @kyliejenner\",\n",
      "    \"created_time\": \"1492720934\",\n",
      "    \"from\": {\n",
      "     \"id\": \"212661823\",\n",
      "     \"full_name\": \"Eric\",\n",
      "     \"profile_picture\": \"https://scontent.cdninstagram.com/vp/cf7b71616f4674af678e2a18b3d9e097/5D7D3389/t51.2885-19/s150x150/49791079_756619378047894_8616104119792304128_n.jpg?_nc_ht=scontent.cdninstagram.com\",\n",
      "     \"username\": \"ecmyhre\"\n",
      "    }\n",
      "   },\n",
      "   \"user_has_liked\": true,\n",
      "   \"likes\": {\n",
      "    \"count\": 230\n",
      "   },\n",
      "   \"tags\": [],\n",
      "   \"filter\": \"Normal\",\n",
      "   \"comments\": {\n",
      "    \"count\": 9\n",
      "   },\n",
      "   \"type\": \"video\",\n",
      "   \"link\": \"https://www.instagram.com/p/BTHveMejlz_/\",\n",
      "   \"location\": null,\n",
      "   \"attribution\": null,\n",
      "   \"users_in_photo\": [],\n",
      "   \"videos\": {\n",
      "    \"standard_resolution\": {\n",
      "     \"width\": 720,\n",
      "     \"height\": 720,\n",
      "     \"url\": \"https://scontent.cdninstagram.com/vp/0688ed2f4ba639de9a068705c1a68f8c/5CEAF4DA/t50.2886-16/22114149_315633848905640_7293734829529497600_n.mp4?efg=eyJ2ZW5jb2RlX3RhZyI6InZ0c192b2RfdXJsZ2VuLjcyMC5mZWVkIn0&_nc_ht=scontent.cdninstagram.com&vtsbc=1\",\n",
      "     \"id\": \"196876284586510\"\n",
      "    },\n",
      "    \"low_resolution\": {\n",
      "     \"width\": 640,\n",
      "     \"height\": 640,\n",
      "     \"url\": \"https://scontent.cdninstagram.com/vp/d6375f36ad764801032bf5ec02a502f9/5CEABD7F/t50.2886-16/22138382_1979386958997436_4351023104613416960_n.mp4?efg=eyJ2ZW5jb2RlX3RhZyI6InZ0c192b2RfdXJsZ2VuLjY0MC5mZWVkIn0&_nc_ht=scontent.cdninstagram.com&vtsbc=1\",\n",
      "     \"id\": \"2311334362274095\"\n",
      "    },\n",
      "    \"low_bandwidth\": {\n",
      "     \"width\": 640,\n",
      "     \"height\": 640,\n",
      "     \"url\": \"https://scontent.cdninstagram.com/vp/d6375f36ad764801032bf5ec02a502f9/5CEABD7F/t50.2886-16/22138382_1979386958997436_4351023104613416960_n.mp4?efg=eyJ2ZW5jb2RlX3RhZyI6InZ0c192b2RfdXJsZ2VuLjY0MC5mZWVkIn0&_nc_ht=scontent.cdninstagram.com&vtsbc=1\",\n",
      "     \"id\": \"2311334362274095\"\n",
      "    }\n",
      "   }\n",
      "  },\n",
      "  {\n",
      "   \"id\": \"1475120730050951400_212661823\",\n",
      "   \"user\": {\n",
      "    \"id\": \"212661823\",\n",
      "    \"full_name\": \"Eric\",\n",
      "    \"profile_picture\": \"https://scontent.cdninstagram.com/vp/cf7b71616f4674af678e2a18b3d9e097/5D7D3389/t51.2885-19/s150x150/49791079_756619378047894_8616104119792304128_n.jpg?_nc_ht=scontent.cdninstagram.com\",\n",
      "    \"username\": \"ecmyhre\"\n",
      "   },\n",
      "   \"images\": {\n",
      "    \"thumbnail\": {\n",
      "     \"width\": 150,\n",
      "     \"height\": 150,\n",
      "     \"url\": \"https://scontent.cdninstagram.com/vp/bd0cafb8080ac20553534daf4aed8857/5D636F9B/t51.2885-15/e35/c0.66.1025.1025a/s150x150/29087295_199450533987864_103733278493638656_n.jpg?_nc_ht=scontent.cdninstagram.com\"\n",
      "    },\n",
      "    \"low_resolution\": {\n",
      "     \"width\": 320,\n",
      "     \"height\": 361,\n",
      "     \"url\": \"https://scontent.cdninstagram.com/vp/3d7428b956eb4887c1efafaac7924a03/5D5F77AE/t51.2885-15/e35/p320x320/29087295_199450533987864_103733278493638656_n.jpg?_nc_ht=scontent.cdninstagram.com\"\n",
      "    },\n",
      "    \"standard_resolution\": {\n",
      "     \"width\": 640,\n",
      "     \"height\": 723,\n",
      "     \"url\": \"https://scontent.cdninstagram.com/vp/fb4929f1dd139ba7d9e895ca906f2f88/5D678A42/t51.2885-15/sh0.08/e35/p640x640/29087295_199450533987864_103733278493638656_n.jpg?_nc_ht=scontent.cdninstagram.com\"\n",
      "    }\n",
      "   },\n",
      "   \"created_time\": \"1490068115\",\n",
      "   \"caption\": {\n",
      "    \"id\": \"17878037482031424\",\n",
      "    \"text\": \"Thanks for making me look like I'm a cool guy for the lab website \\ud83e\\udd13\",\n",
      "    \"created_time\": \"1490068115\",\n",
      "    \"from\": {\n",
      "     \"id\": \"212661823\",\n",
      "     \"full_name\": \"Eric\",\n",
      "     \"profile_picture\": \"https://scontent.cdninstagram.com/vp/cf7b71616f4674af678e2a18b3d9e097/5D7D3389/t51.2885-19/s150x150/49791079_756619378047894_8616104119792304128_n.jpg?_nc_ht=scontent.cdninstagram.com\",\n",
      "     \"username\": \"ecmyhre\"\n",
      "    }\n",
      "   },\n",
      "   \"user_has_liked\": true,\n",
      "   \"likes\": {\n",
      "    \"count\": 272\n",
      "   },\n",
      "   \"tags\": [],\n",
      "   \"filter\": \"Normal\",\n",
      "   \"comments\": {\n",
      "    \"count\": 11\n",
      "   },\n",
      "   \"type\": \"image\",\n",
      "   \"link\": \"https://www.instagram.com/p/BR4rn0LgHjo/\",\n",
      "   \"location\": {\n",
      "    \"latitude\": 40.76334,\n",
      "    \"longitude\": -73.9824,\n",
      "    \"name\": \"Columbia University\",\n",
      "    \"id\": 1015511613\n",
      "   },\n",
      "   \"attribution\": null,\n",
      "   \"users_in_photo\": []\n",
      "  },\n",
      "  {\n",
      "   \"id\": \"1473725966248384995_212661823\",\n",
      "   \"user\": {\n",
      "    \"id\": \"212661823\",\n",
      "    \"full_name\": \"Eric\",\n",
      "    \"profile_picture\": \"https://scontent.cdninstagram.com/vp/cf7b71616f4674af678e2a18b3d9e097/5D7D3389/t51.2885-19/s150x150/49791079_756619378047894_8616104119792304128_n.jpg?_nc_ht=scontent.cdninstagram.com\",\n",
      "    \"username\": \"ecmyhre\"\n",
      "   },\n",
      "   \"images\": {\n",
      "    \"thumbnail\": {\n",
      "     \"width\": 150,\n",
      "     \"height\": 150,\n",
      "     \"url\": \"https://scontent.cdninstagram.com/vp/b14f5a487bd2825823d76c68509679d9/5D9DF5BA/t51.2885-15/e35/c0.117.937.937a/s150x150/28763290_161804114438744_5113639198498226176_n.jpg?_nc_ht=scontent.cdninstagram.com\"\n",
      "    },\n",
      "    \"low_resolution\": {\n",
      "     \"width\": 320,\n",
      "     \"height\": 399,\n",
      "     \"url\": \"https://scontent.cdninstagram.com/vp/da7a814caf362c0412a5020c32f73189/5D7C8245/t51.2885-15/e35/p320x320/28763290_161804114438744_5113639198498226176_n.jpg?_nc_ht=scontent.cdninstagram.com\"\n",
      "    },\n",
      "    \"standard_resolution\": {\n",
      "     \"width\": 640,\n",
      "     \"height\": 799,\n",
      "     \"url\": \"https://scontent.cdninstagram.com/vp/141a60340c362b8b90af1ad841259c2b/5D793D12/t51.2885-15/sh0.08/e35/p640x640/28763290_161804114438744_5113639198498226176_n.jpg?_nc_ht=scontent.cdninstagram.com\"\n",
      "    }\n",
      "   },\n",
      "   \"created_time\": \"1489901847\",\n",
      "   \"caption\": {\n",
      "    \"id\": \"17875284979041714\",\n",
      "    \"text\": \"it's a slumber party @tinashenow\",\n",
      "    \"created_time\": \"1489901847\",\n",
      "    \"from\": {\n",
      "     \"id\": \"212661823\",\n",
      "     \"full_name\": \"Eric\",\n",
      "     \"profile_picture\": \"https://scontent.cdninstagram.com/vp/cf7b71616f4674af678e2a18b3d9e097/5D7D3389/t51.2885-19/s150x150/49791079_756619378047894_8616104119792304128_n.jpg?_nc_ht=scontent.cdninstagram.com\",\n",
      "     \"username\": \"ecmyhre\"\n",
      "    }\n",
      "   },\n",
      "   \"user_has_liked\": true,\n",
      "   \"likes\": {\n",
      "    \"count\": 103\n",
      "   },\n",
      "   \"tags\": [],\n",
      "   \"filter\": \"Normal\",\n",
      "   \"comments\": {\n",
      "    \"count\": 3\n",
      "   },\n",
      "   \"type\": \"image\",\n",
      "   \"link\": \"https://www.instagram.com/p/BRzufVKgRnj/\",\n",
      "   \"location\": null,\n",
      "   \"attribution\": null,\n",
      "   \"users_in_photo\": [\n",
      "    {\n",
      "     \"user\": {\n",
      "      \"username\": \"tinashenow\"\n",
      "     },\n",
      "     \"position\": {\n",
      "      \"x\": 0.8095680000000001,\n",
      "      \"y\": 0.676\n",
      "     }\n",
      "    },\n",
      "    {\n",
      "     \"user\": {\n",
      "      \"username\": \"ecmyhre\"\n",
      "     },\n",
      "     \"position\": {\n",
      "      \"x\": 0.171575111111111,\n",
      "      \"y\": 0.705333333333333\n",
      "     }\n",
      "    }\n",
      "   ]\n",
      "  },\n",
      "  {\n",
      "   \"id\": \"1377934754238557303_212661823\",\n",
      "   \"user\": {\n",
      "    \"id\": \"212661823\",\n",
      "    \"full_name\": \"Eric\",\n",
      "    \"profile_picture\": \"https://scontent.cdninstagram.com/vp/cf7b71616f4674af678e2a18b3d9e097/5D7D3389/t51.2885-19/s150x150/49791079_756619378047894_8616104119792304128_n.jpg?_nc_ht=scontent.cdninstagram.com\",\n",
      "    \"username\": \"ecmyhre\"\n",
      "   },\n",
      "   \"images\": {\n",
      "    \"thumbnail\": {\n",
      "     \"width\": 150,\n",
      "     \"height\": 150,\n",
      "     \"url\": \"https://scontent.cdninstagram.com/vp/2b33de05588c854acf8724f37487ae6a/5D93C81C/t51.2885-15/e35/s150x150/29092930_1617304841697317_1233532624799006720_n.jpg?_nc_ht=scontent.cdninstagram.com\"\n",
      "    },\n",
      "    \"low_resolution\": {\n",
      "     \"width\": 320,\n",
      "     \"height\": 320,\n",
      "     \"url\": \"https://scontent.cdninstagram.com/vp/164cf86205829b3ec79ad2b1e59fdefc/5D97B364/t51.2885-15/e35/s320x320/29092930_1617304841697317_1233532624799006720_n.jpg?_nc_ht=scontent.cdninstagram.com\"\n",
      "    },\n",
      "    \"standard_resolution\": {\n",
      "     \"width\": 640,\n",
      "     \"height\": 640,\n",
      "     \"url\": \"https://scontent.cdninstagram.com/vp/45328a3c6ca03473304a9579c4e96bd9/5D958599/t51.2885-15/sh0.08/e35/s640x640/29092930_1617304841697317_1233532624799006720_n.jpg?_nc_ht=scontent.cdninstagram.com\"\n",
      "    }\n",
      "   },\n",
      "   \"created_time\": \"1478482644\",\n",
      "   \"caption\": null,\n",
      "   \"user_has_liked\": true,\n",
      "   \"likes\": {\n",
      "    \"count\": 77\n",
      "   },\n",
      "   \"tags\": [],\n",
      "   \"filter\": \"Normal\",\n",
      "   \"comments\": {\n",
      "    \"count\": 4\n",
      "   },\n",
      "   \"type\": \"image\",\n",
      "   \"link\": \"https://www.instagram.com/p/BMfaFu-Dex3/\",\n",
      "   \"location\": null,\n",
      "   \"attribution\": null,\n",
      "   \"users_in_photo\": []\n",
      "  },\n",
      "  {\n",
      "   \"id\": \"1285488672808693529_212661823\",\n",
      "   \"user\": {\n",
      "    \"id\": \"212661823\",\n",
      "    \"full_name\": \"Eric\",\n",
      "    \"profile_picture\": \"https://scontent.cdninstagram.com/vp/cf7b71616f4674af678e2a18b3d9e097/5D7D3389/t51.2885-19/s150x150/49791079_756619378047894_8616104119792304128_n.jpg?_nc_ht=scontent.cdninstagram.com\",\n",
      "    \"username\": \"ecmyhre\"\n",
      "   },\n",
      "   \"images\": {\n",
      "    \"thumbnail\": {\n",
      "     \"width\": 150,\n",
      "     \"height\": 150,\n",
      "     \"url\": \"https://scontent.cdninstagram.com/vp/ae1f3dd3e1c6226cfbda7cb68cc5be14/5D78EE0A/t51.2885-15/e35/s150x150/28764388_158630088187148_5755391055792963584_n.jpg?_nc_ht=scontent.cdninstagram.com\"\n",
      "    },\n",
      "    \"low_resolution\": {\n",
      "     \"width\": 320,\n",
      "     \"height\": 320,\n",
      "     \"url\": \"https://scontent.cdninstagram.com/vp/88fb13501307e7ed7161019c7cef86ff/5D62EFFA/t51.2885-15/e35/s320x320/28764388_158630088187148_5755391055792963584_n.jpg?_nc_ht=scontent.cdninstagram.com\"\n",
      "    },\n",
      "    \"standard_resolution\": {\n",
      "     \"width\": 640,\n",
      "     \"height\": 640,\n",
      "     \"url\": \"https://scontent.cdninstagram.com/vp/1dc07a50bc87448b12abbdc49531fa72/5D94AEAD/t51.2885-15/sh0.08/e35/s640x640/28764388_158630088187148_5755391055792963584_n.jpg?_nc_ht=scontent.cdninstagram.com\"\n",
      "    }\n",
      "   },\n",
      "   \"created_time\": \"1467462213\",\n",
      "   \"caption\": {\n",
      "    \"id\": \"17865989320044939\",\n",
      "    \"text\": \"#panther #\\ud83d\\udd11\",\n",
      "    \"created_time\": \"1467462213\",\n",
      "    \"from\": {\n",
      "     \"id\": \"212661823\",\n",
      "     \"full_name\": \"Eric\",\n",
      "     \"profile_picture\": \"https://scontent.cdninstagram.com/vp/cf7b71616f4674af678e2a18b3d9e097/5D7D3389/t51.2885-19/s150x150/49791079_756619378047894_8616104119792304128_n.jpg?_nc_ht=scontent.cdninstagram.com\",\n",
      "     \"username\": \"ecmyhre\"\n",
      "    }\n",
      "   },\n",
      "   \"user_has_liked\": true,\n",
      "   \"likes\": {\n",
      "    \"count\": 92\n",
      "   },\n",
      "   \"tags\": [\n",
      "    \"panther\",\n",
      "    \"\\ud83d\\udd11\"\n",
      "   ],\n",
      "   \"filter\": \"Amaro\",\n",
      "   \"comments\": {\n",
      "    \"count\": 3\n",
      "   },\n",
      "   \"type\": \"image\",\n",
      "   \"link\": \"https://www.instagram.com/p/BHW-SMZjO8Z/\",\n",
      "   \"location\": {\n",
      "    \"latitude\": 40.73974,\n",
      "    \"longitude\": -74.00685,\n",
      "    \"name\": \"I Tre Merli Restaurant & Garden\",\n",
      "    \"id\": 305464\n",
      "   },\n",
      "   \"attribution\": null,\n",
      "   \"users_in_photo\": [\n",
      "    {\n",
      "     \"user\": {\n",
      "      \"username\": \"hello_hellookitty\"\n",
      "     },\n",
      "     \"position\": {\n",
      "      \"x\": 0.313333333333333,\n",
      "      \"y\": 0.758666666666666\n",
      "     }\n",
      "    },\n",
      "    {\n",
      "     \"user\": {\n",
      "      \"username\": \"daddy_eezus\"\n",
      "     },\n",
      "     \"position\": {\n",
      "      \"x\": 0.709333333333333,\n",
      "      \"y\": 0.556\n",
      "     }\n",
      "    }\n",
      "   ]\n",
      "  },\n",
      "  {\n",
      "   \"id\": \"1018514926577942840_212661823\",\n",
      "   \"user\": {\n",
      "    \"id\": \"212661823\",\n",
      "    \"full_name\": \"Eric\",\n",
      "    \"profile_picture\": \"https://scontent.cdninstagram.com/vp/cf7b71616f4674af678e2a18b3d9e097/5D7D3389/t51.2885-19/s150x150/49791079_756619378047894_8616104119792304128_n.jpg?_nc_ht=scontent.cdninstagram.com\",\n",
      "    \"username\": \"ecmyhre\"\n",
      "   },\n",
      "   \"images\": {\n",
      "    \"thumbnail\": {\n",
      "     \"width\": 150,\n",
      "     \"height\": 150,\n",
      "     \"url\": \"https://scontent.cdninstagram.com/vp/afb015d11e636d1eacc04144ba6e11f7/5D9CB161/t51.2885-15/e15/s150x150/28753492_181286499331053_3272970967399268352_n.jpg?_nc_ht=scontent.cdninstagram.com\"\n",
      "    },\n",
      "    \"low_resolution\": {\n",
      "     \"width\": 320,\n",
      "     \"height\": 320,\n",
      "     \"url\": \"https://scontent.cdninstagram.com/vp/c41991feb5cd023d0c6d7cf21f9b5233/5D85EB91/t51.2885-15/e15/s320x320/28753492_181286499331053_3272970967399268352_n.jpg?_nc_ht=scontent.cdninstagram.com\"\n",
      "    },\n",
      "    \"standard_resolution\": {\n",
      "     \"width\": 640,\n",
      "     \"height\": 640,\n",
      "     \"url\": \"https://scontent.cdninstagram.com/vp/d495eb99cac4517f611529fc25c1140f/5D79A100/t51.2885-15/e15/28753492_181286499331053_3272970967399268352_n.jpg?_nc_ht=scontent.cdninstagram.com\"\n",
      "    }\n",
      "   },\n",
      "   \"created_time\": \"1435636462\",\n",
      "   \"caption\": {\n",
      "    \"id\": \"17851461403053824\",\n",
      "    \"text\": \"Pre-graduation sunrise and bags. Bout a month ago\",\n",
      "    \"created_time\": \"1435636462\",\n",
      "    \"from\": {\n",
      "     \"id\": \"212661823\",\n",
      "     \"full_name\": \"Eric\",\n",
      "     \"profile_picture\": \"https://scontent.cdninstagram.com/vp/cf7b71616f4674af678e2a18b3d9e097/5D7D3389/t51.2885-19/s150x150/49791079_756619378047894_8616104119792304128_n.jpg?_nc_ht=scontent.cdninstagram.com\",\n",
      "     \"username\": \"ecmyhre\"\n",
      "    }\n",
      "   },\n",
      "   \"user_has_liked\": true,\n",
      "   \"likes\": {\n",
      "    \"count\": 107\n",
      "   },\n",
      "   \"tags\": [],\n",
      "   \"filter\": \"Normal\",\n",
      "   \"comments\": {\n",
      "    \"count\": 1\n",
      "   },\n",
      "   \"type\": \"image\",\n",
      "   \"link\": \"https://www.instagram.com/p/4ife3tHIE4/\",\n",
      "   \"location\": null,\n",
      "   \"attribution\": null,\n",
      "   \"users_in_photo\": [\n",
      "    {\n",
      "     \"user\": {\n",
      "      \"username\": \"the_real_francoisss\"\n",
      "     },\n",
      "     \"position\": {\n",
      "      \"x\": 0.308,\n",
      "      \"y\": 0.693333333333333\n",
      "     }\n",
      "    }\n",
      "   ]\n",
      "  },\n",
      "  {\n",
      "   \"id\": \"1014653275143438372_212661823\",\n",
      "   \"user\": {\n",
      "    \"id\": \"212661823\",\n",
      "    \"full_name\": \"Eric\",\n",
      "    \"profile_picture\": \"https://scontent.cdninstagram.com/vp/cf7b71616f4674af678e2a18b3d9e097/5D7D3389/t51.2885-19/s150x150/49791079_756619378047894_8616104119792304128_n.jpg?_nc_ht=scontent.cdninstagram.com\",\n",
      "    \"username\": \"ecmyhre\"\n",
      "   },\n",
      "   \"images\": {\n",
      "    \"thumbnail\": {\n",
      "     \"width\": 150,\n",
      "     \"height\": 150,\n",
      "     \"url\": \"https://scontent.cdninstagram.com/vp/8601035a338f5d83210d33f35191baa1/5D97A65F/t51.2885-15/e15/s150x150/29088547_233732180535992_3639410606362066944_n.jpg?_nc_ht=scontent.cdninstagram.com\"\n",
      "    },\n",
      "    \"low_resolution\": {\n",
      "     \"width\": 320,\n",
      "     \"height\": 320,\n",
      "     \"url\": \"https://scontent.cdninstagram.com/vp/17274c98966870646818a7b4d477f80e/5D9A75AF/t51.2885-15/e15/s320x320/29088547_233732180535992_3639410606362066944_n.jpg?_nc_ht=scontent.cdninstagram.com\"\n",
      "    },\n",
      "    \"standard_resolution\": {\n",
      "     \"width\": 640,\n",
      "     \"height\": 640,\n",
      "     \"url\": \"https://scontent.cdninstagram.com/vp/e62dc2573c75ba2ecdf34679fa7c62c5/5D639F3E/t51.2885-15/e15/29088547_233732180535992_3639410606362066944_n.jpg?_nc_ht=scontent.cdninstagram.com\"\n",
      "    }\n",
      "   },\n",
      "   \"created_time\": \"1435176117\",\n",
      "   \"caption\": {\n",
      "    \"id\": \"17851459261053824\",\n",
      "    \"text\": \"Prom King and Queen of the Alumni Mixer \\ud83d\\udd25 #youknowhowthatshitgo\",\n",
      "    \"created_time\": \"1435176117\",\n",
      "    \"from\": {\n",
      "     \"id\": \"212661823\",\n",
      "     \"full_name\": \"Eric\",\n",
      "     \"profile_picture\": \"https://scontent.cdninstagram.com/vp/cf7b71616f4674af678e2a18b3d9e097/5D7D3389/t51.2885-19/s150x150/49791079_756619378047894_8616104119792304128_n.jpg?_nc_ht=scontent.cdninstagram.com\",\n",
      "     \"username\": \"ecmyhre\"\n",
      "    }\n",
      "   },\n",
      "   \"user_has_liked\": true,\n",
      "   \"likes\": {\n",
      "    \"count\": 113\n",
      "   },\n",
      "   \"tags\": [\n",
      "    \"youknowhowthatshitgo\"\n",
      "   ],\n",
      "   \"filter\": \"Reyes\",\n",
      "   \"comments\": {\n",
      "    \"count\": 1\n",
      "   },\n",
      "   \"type\": \"image\",\n",
      "   \"link\": \"https://www.instagram.com/p/4UxccjHIAk/\",\n",
      "   \"location\": null,\n",
      "   \"attribution\": null,\n",
      "   \"users_in_photo\": [\n",
      "    {\n",
      "     \"user\": {\n",
      "      \"username\": \"hello_hellookitty\"\n",
      "     },\n",
      "     \"position\": {\n",
      "      \"x\": 0.38266666666666604,\n",
      "      \"y\": 0.7986666666666661\n",
      "     }\n",
      "    }\n",
      "   ]\n",
      "  },\n",
      "  {\n",
      "   \"id\": \"1010453521601691807_212661823\",\n",
      "   \"user\": {\n",
      "    \"id\": \"212661823\",\n",
      "    \"full_name\": \"Eric\",\n",
      "    \"profile_picture\": \"https://scontent.cdninstagram.com/vp/cf7b71616f4674af678e2a18b3d9e097/5D7D3389/t51.2885-19/s150x150/49791079_756619378047894_8616104119792304128_n.jpg?_nc_ht=scontent.cdninstagram.com\",\n",
      "    \"username\": \"ecmyhre\"\n",
      "   },\n",
      "   \"images\": {\n",
      "    \"thumbnail\": {\n",
      "     \"width\": 150,\n",
      "     \"height\": 150,\n",
      "     \"url\": \"https://scontent.cdninstagram.com/vp/728def8279fd896b241bcac460736b5e/5D857CF7/t51.2885-15/e15/s150x150/29401675_1662230690533527_7033834710497230848_n.jpg?_nc_ht=scontent.cdninstagram.com\"\n",
      "    },\n",
      "    \"low_resolution\": {\n",
      "     \"width\": 320,\n",
      "     \"height\": 320,\n",
      "     \"url\": \"https://scontent.cdninstagram.com/vp/d15413f43854476e5dcfbf99cf2e5a44/5D7E328F/t51.2885-15/e15/s320x320/29401675_1662230690533527_7033834710497230848_n.jpg?_nc_ht=scontent.cdninstagram.com\"\n",
      "    },\n",
      "    \"standard_resolution\": {\n",
      "     \"width\": 640,\n",
      "     \"height\": 640,\n",
      "     \"url\": \"https://scontent.cdninstagram.com/vp/e3cedcd082598da90b2a9967a57f42d1/5D97AB1C/t51.2885-15/e15/29401675_1662230690533527_7033834710497230848_n.jpg?_nc_ht=scontent.cdninstagram.com\"\n",
      "    }\n",
      "   },\n",
      "   \"created_time\": \"1434675468\",\n",
      "   \"caption\": {\n",
      "    \"id\": \"17851457254053824\",\n",
      "    \"text\": \"Berg \\u2122\",\n",
      "    \"created_time\": \"1434675468\",\n",
      "    \"from\": {\n",
      "     \"id\": \"212661823\",\n",
      "     \"full_name\": \"Eric\",\n",
      "     \"profile_picture\": \"https://scontent.cdninstagram.com/vp/cf7b71616f4674af678e2a18b3d9e097/5D7D3389/t51.2885-19/s150x150/49791079_756619378047894_8616104119792304128_n.jpg?_nc_ht=scontent.cdninstagram.com\",\n",
      "     \"username\": \"ecmyhre\"\n",
      "    }\n",
      "   },\n",
      "   \"user_has_liked\": true,\n",
      "   \"likes\": {\n",
      "    \"count\": 168\n",
      "   },\n",
      "   \"tags\": [],\n",
      "   \"filter\": \"Normal\",\n",
      "   \"comments\": {\n",
      "    \"count\": 3\n",
      "   },\n",
      "   \"type\": \"image\",\n",
      "   \"link\": \"https://www.instagram.com/p/4F2h_RHICf/\",\n",
      "   \"location\": null,\n",
      "   \"attribution\": null,\n",
      "   \"users_in_photo\": []\n",
      "  },\n",
      "  {\n",
      "   \"id\": \"1008305335382606231_212661823\",\n",
      "   \"user\": {\n",
      "    \"id\": \"212661823\",\n",
      "    \"full_name\": \"Eric\",\n",
      "    \"profile_picture\": \"https://scontent.cdninstagram.com/vp/cf7b71616f4674af678e2a18b3d9e097/5D7D3389/t51.2885-19/s150x150/49791079_756619378047894_8616104119792304128_n.jpg?_nc_ht=scontent.cdninstagram.com\",\n",
      "    \"username\": \"ecmyhre\"\n",
      "   },\n",
      "   \"images\": {\n",
      "    \"thumbnail\": {\n",
      "     \"width\": 150,\n",
      "     \"height\": 150,\n",
      "     \"url\": \"https://scontent.cdninstagram.com/vp/3a6e28891ed103787e4c2079f5238e1d/5D7DB305/t51.2885-15/e15/s150x150/29092725_1902905709728872_7075162951698612224_n.jpg?_nc_ht=scontent.cdninstagram.com\"\n",
      "    },\n",
      "    \"low_resolution\": {\n",
      "     \"width\": 320,\n",
      "     \"height\": 320,\n",
      "     \"url\": \"https://scontent.cdninstagram.com/vp/76e2848f26ea767acc794e994a805429/5D7AE57D/t51.2885-15/e15/s320x320/29092725_1902905709728872_7075162951698612224_n.jpg?_nc_ht=scontent.cdninstagram.com\"\n",
      "    },\n",
      "    \"standard_resolution\": {\n",
      "     \"width\": 640,\n",
      "     \"height\": 640,\n",
      "     \"url\": \"https://scontent.cdninstagram.com/vp/62f8d8576e4c6b0f705886be1b07998d/5D7AA2EE/t51.2885-15/e15/29092725_1902905709728872_7075162951698612224_n.jpg?_nc_ht=scontent.cdninstagram.com\"\n",
      "    }\n",
      "   },\n",
      "   \"created_time\": \"1434419384\",\n",
      "   \"caption\": {\n",
      "    \"id\": \"17867516854053824\",\n",
      "    \"text\": \"Berg. so hot right now.\",\n",
      "    \"created_time\": \"1434419384\",\n",
      "    \"from\": {\n",
      "     \"id\": \"212661823\",\n",
      "     \"full_name\": \"Eric\",\n",
      "     \"profile_picture\": \"https://scontent.cdninstagram.com/vp/cf7b71616f4674af678e2a18b3d9e097/5D7D3389/t51.2885-19/s150x150/49791079_756619378047894_8616104119792304128_n.jpg?_nc_ht=scontent.cdninstagram.com\",\n",
      "     \"username\": \"ecmyhre\"\n",
      "    }\n",
      "   },\n",
      "   \"user_has_liked\": true,\n",
      "   \"likes\": {\n",
      "    \"count\": 307\n",
      "   },\n",
      "   \"tags\": [],\n",
      "   \"filter\": \"Normal\",\n",
      "   \"comments\": {\n",
      "    \"count\": 20\n",
      "   },\n",
      "   \"type\": \"image\",\n",
      "   \"link\": \"https://www.instagram.com/p/3-OFw8nIGX/\",\n",
      "   \"location\": null,\n",
      "   \"attribution\": null,\n",
      "   \"users_in_photo\": []\n",
      "  },\n",
      "  {\n",
      "   \"id\": \"1000824782353892250_212661823\",\n",
      "   \"user\": {\n",
      "    \"id\": \"212661823\",\n",
      "    \"full_name\": \"Eric\",\n",
      "    \"profile_picture\": \"https://scontent.cdninstagram.com/vp/cf7b71616f4674af678e2a18b3d9e097/5D7D3389/t51.2885-19/s150x150/49791079_756619378047894_8616104119792304128_n.jpg?_nc_ht=scontent.cdninstagram.com\",\n",
      "    \"username\": \"ecmyhre\"\n",
      "   },\n",
      "   \"images\": {\n",
      "    \"thumbnail\": {\n",
      "     \"width\": 150,\n",
      "     \"height\": 150,\n",
      "     \"url\": \"https://scontent.cdninstagram.com/vp/32140543cf9a7133ffc766f51b0ef899/5D8526A7/t51.2885-15/e15/s150x150/29093104_2003127789949396_4987008160859422720_n.jpg?_nc_ht=scontent.cdninstagram.com\"\n",
      "    },\n",
      "    \"low_resolution\": {\n",
      "     \"width\": 320,\n",
      "     \"height\": 320,\n",
      "     \"url\": \"https://scontent.cdninstagram.com/vp/84ec73e58cba8607ca6f042a427c572a/5D7ED9DF/t51.2885-15/e15/s320x320/29093104_2003127789949396_4987008160859422720_n.jpg?_nc_ht=scontent.cdninstagram.com\"\n",
      "    },\n",
      "    \"standard_resolution\": {\n",
      "     \"width\": 640,\n",
      "     \"height\": 640,\n",
      "     \"url\": \"https://scontent.cdninstagram.com/vp/81d8e9fd194cda00482ae2dc24eff897/5D60A84C/t51.2885-15/e15/29093104_2003127789949396_4987008160859422720_n.jpg?_nc_ht=scontent.cdninstagram.com\"\n",
      "    }\n",
      "   },\n",
      "   \"created_time\": \"1433527632\",\n",
      "   \"caption\": {\n",
      "    \"id\": \"17851452682053824\",\n",
      "    \"text\": \"We are all prestigious as fuck degree holding individuals now. #smarter #better #faster #stronger #thingsgotweirdthisweekend\",\n",
      "    \"created_time\": \"1433527632\",\n",
      "    \"from\": {\n",
      "     \"id\": \"212661823\",\n",
      "     \"full_name\": \"Eric\",\n",
      "     \"profile_picture\": \"https://scontent.cdninstagram.com/vp/cf7b71616f4674af678e2a18b3d9e097/5D7D3389/t51.2885-19/s150x150/49791079_756619378047894_8616104119792304128_n.jpg?_nc_ht=scontent.cdninstagram.com\",\n",
      "     \"username\": \"ecmyhre\"\n",
      "    }\n",
      "   },\n",
      "   \"user_has_liked\": true,\n",
      "   \"likes\": {\n",
      "    \"count\": 129\n",
      "   },\n",
      "   \"tags\": [\n",
      "    \"stronger\",\n",
      "    \"better\",\n",
      "    \"smarter\",\n",
      "    \"thingsgotweirdthisweekend\",\n",
      "    \"faster\"\n",
      "   ],\n",
      "   \"filter\": \"Normal\",\n",
      "   \"comments\": {\n",
      "    \"count\": 1\n",
      "   },\n",
      "   \"type\": \"image\",\n",
      "   \"link\": \"https://www.instagram.com/p/3jpNZCnIOa/\",\n",
      "   \"location\": null,\n",
      "   \"attribution\": null,\n",
      "   \"users_in_photo\": [\n",
      "    {\n",
      "     \"user\": {\n",
      "      \"username\": \"ccconnerrr\"\n",
      "     },\n",
      "     \"position\": {\n",
      "      \"x\": 0.5426666666666661,\n",
      "      \"y\": 0.38533333333333303\n",
      "     }\n",
      "    },\n",
      "    {\n",
      "     \"user\": {\n",
      "      \"username\": \"ossarg\"\n",
      "     },\n",
      "     \"position\": {\n",
      "      \"x\": 0.6533333333333331,\n",
      "      \"y\": 0.34800000000000003\n",
      "     }\n",
      "    },\n",
      "    {\n",
      "     \"user\": {\n",
      "      \"username\": \"tdoele\"\n",
      "     },\n",
      "     \"position\": {\n",
      "      \"x\": 0.5346666666666661,\n",
      "      \"y\": 0.74\n",
      "     }\n",
      "    },\n",
      "    {\n",
      "     \"user\": {\n",
      "      \"username\": \"srjohannsen\"\n",
      "     },\n",
      "     \"position\": {\n",
      "      \"x\": 0.776,\n",
      "      \"y\": 0.350666666666666\n",
      "     }\n",
      "    },\n",
      "    {\n",
      "     \"user\": {\n",
      "      \"username\": \"rosslefkowitz\"\n",
      "     },\n",
      "     \"position\": {\n",
      "      \"x\": 0.19733333333333303,\n",
      "      \"y\": 0.41733333333333306\n",
      "     }\n",
      "    },\n",
      "    {\n",
      "     \"user\": {\n",
      "      \"username\": \"meilzonwheelz\"\n",
      "     },\n",
      "     \"position\": {\n",
      "      \"x\": 0.23466666666666602,\n",
      "      \"y\": 0.689333333333333\n",
      "     }\n",
      "    },\n",
      "    {\n",
      "     \"user\": {\n",
      "      \"username\": \"sam_dejean\"\n",
      "     },\n",
      "     \"position\": {\n",
      "      \"x\": 0.464,\n",
      "      \"y\": 0.5760000000000001\n",
      "     }\n",
      "    },\n",
      "    {\n",
      "     \"user\": {\n",
      "      \"username\": \"aladdin_d3\"\n",
      "     },\n",
      "     \"position\": {\n",
      "      \"x\": 0.6000000000000001,\n",
      "      \"y\": 0.436\n",
      "     }\n",
      "    },\n",
      "    {\n",
      "     \"user\": {\n",
      "      \"username\": \"jaikliment\"\n",
      "     },\n",
      "     \"position\": {\n",
      "      \"x\": 0.72,\n",
      "      \"y\": 0.493333333333333\n",
      "     }\n",
      "    }\n",
      "   ]\n",
      "  },\n",
      "  {\n",
      "   \"id\": \"995891632041394702_212661823\",\n",
      "   \"user\": {\n",
      "    \"id\": \"212661823\",\n",
      "    \"full_name\": \"Eric\",\n",
      "    \"profile_picture\": \"https://scontent.cdninstagram.com/vp/cf7b71616f4674af678e2a18b3d9e097/5D7D3389/t51.2885-19/s150x150/49791079_756619378047894_8616104119792304128_n.jpg?_nc_ht=scontent.cdninstagram.com\",\n",
      "    \"username\": \"ecmyhre\"\n",
      "   },\n",
      "   \"images\": {\n",
      "    \"thumbnail\": {\n",
      "     \"width\": 150,\n",
      "     \"height\": 150,\n",
      "     \"url\": \"https://scontent.cdninstagram.com/vp/6adf5291ce9025447bd38632ea6d56aa/5D971B8F/t51.2885-15/e15/s150x150/28763961_407981026328785_6852091640358633472_n.jpg?_nc_ht=scontent.cdninstagram.com\"\n",
      "    },\n",
      "    \"low_resolution\": {\n",
      "     \"width\": 320,\n",
      "     \"height\": 320,\n",
      "     \"url\": \"https://scontent.cdninstagram.com/vp/2665c91269a37e5972fb3f63c6b2eff7/5D94E27F/t51.2885-15/e15/s320x320/28763961_407981026328785_6852091640358633472_n.jpg?_nc_ht=scontent.cdninstagram.com\"\n",
      "    },\n",
      "    \"standard_resolution\": {\n",
      "     \"width\": 640,\n",
      "     \"height\": 640,\n",
      "     \"url\": \"https://scontent.cdninstagram.com/vp/ca5a8f9b796399658da1ebbcd59e94ca/5D925EEE/t51.2885-15/e15/28763961_407981026328785_6852091640358633472_n.jpg?_nc_ht=scontent.cdninstagram.com\"\n",
      "    }\n",
      "   },\n",
      "   \"created_time\": \"1432939555\",\n",
      "   \"caption\": {\n",
      "    \"id\": \"17867514964053824\",\n",
      "    \"text\": \"\\u263a\\ufe0f\\u263a\\ufe0f\\u263a\\ufe0f\\u263a\\ufe0f\\u263a\\ufe0f\",\n",
      "    \"created_time\": \"1432939555\",\n",
      "    \"from\": {\n",
      "     \"id\": \"212661823\",\n",
      "     \"full_name\": \"Eric\",\n",
      "     \"profile_picture\": \"https://scontent.cdninstagram.com/vp/cf7b71616f4674af678e2a18b3d9e097/5D7D3389/t51.2885-19/s150x150/49791079_756619378047894_8616104119792304128_n.jpg?_nc_ht=scontent.cdninstagram.com\",\n",
      "     \"username\": \"ecmyhre\"\n",
      "    }\n",
      "   },\n",
      "   \"user_has_liked\": true,\n",
      "   \"likes\": {\n",
      "    \"count\": 140\n",
      "   },\n",
      "   \"tags\": [],\n",
      "   \"filter\": \"Normal\",\n",
      "   \"comments\": {\n",
      "    \"count\": 2\n",
      "   },\n",
      "   \"type\": \"image\",\n",
      "   \"link\": \"https://www.instagram.com/p/3SHimynIIO/\",\n",
      "   \"location\": {\n",
      "    \"latitude\": 39.68145,\n",
      "    \"longitude\": -75.752388833044,\n",
      "    \"name\": \"University of Delaware\",\n",
      "    \"id\": 213519809\n",
      "   },\n",
      "   \"attribution\": null,\n",
      "   \"users_in_photo\": []\n",
      "  },\n",
      "  {\n",
      "   \"id\": \"995502095351972595_212661823\",\n",
      "   \"user\": {\n",
      "    \"id\": \"212661823\",\n",
      "    \"full_name\": \"Eric\",\n",
      "    \"profile_picture\": \"https://scontent.cdninstagram.com/vp/cf7b71616f4674af678e2a18b3d9e097/5D7D3389/t51.2885-19/s150x150/49791079_756619378047894_8616104119792304128_n.jpg?_nc_ht=scontent.cdninstagram.com\",\n",
      "    \"username\": \"ecmyhre\"\n",
      "   },\n",
      "   \"images\": {\n",
      "    \"thumbnail\": {\n",
      "     \"width\": 150,\n",
      "     \"height\": 150,\n",
      "     \"url\": \"https://scontent.cdninstagram.com/vp/6a114fd277e10007eaf1541f0f4a28be/5D9C1DA0/t51.2885-15/e15/s150x150/28763236_159840978066855_1042299725635649536_n.jpg?_nc_ht=scontent.cdninstagram.com\"\n",
      "    },\n",
      "    \"low_resolution\": {\n",
      "     \"width\": 320,\n",
      "     \"height\": 320,\n",
      "     \"url\": \"https://scontent.cdninstagram.com/vp/c5a55c37af5de84f30f8a8aac2245b87/5D964750/t51.2885-15/e15/s320x320/28763236_159840978066855_1042299725635649536_n.jpg?_nc_ht=scontent.cdninstagram.com\"\n",
      "    },\n",
      "    \"standard_resolution\": {\n",
      "     \"width\": 640,\n",
      "     \"height\": 640,\n",
      "     \"url\": \"https://scontent.cdninstagram.com/vp/cb8b0a839236b9c20fb350ab9f7f8bfa/5D78D2C1/t51.2885-15/e15/28763236_159840978066855_1042299725635649536_n.jpg?_nc_ht=scontent.cdninstagram.com\"\n",
      "    }\n",
      "   },\n",
      "   \"created_time\": \"1432893119\",\n",
      "   \"caption\": null,\n",
      "   \"user_has_liked\": true,\n",
      "   \"likes\": {\n",
      "    \"count\": 58\n",
      "   },\n",
      "   \"tags\": [],\n",
      "   \"filter\": \"Normal\",\n",
      "   \"comments\": {\n",
      "    \"count\": 0\n",
      "   },\n",
      "   \"type\": \"image\",\n",
      "   \"link\": \"https://www.instagram.com/p/3Qu-GenILz/\",\n",
      "   \"location\": null,\n",
      "   \"attribution\": null,\n",
      "   \"users_in_photo\": []\n",
      "  },\n",
      "  {\n",
      "   \"id\": \"990868263172604713_212661823\",\n",
      "   \"user\": {\n",
      "    \"id\": \"212661823\",\n",
      "    \"full_name\": \"Eric\",\n",
      "    \"profile_picture\": \"https://scontent.cdninstagram.com/vp/cf7b71616f4674af678e2a18b3d9e097/5D7D3389/t51.2885-19/s150x150/49791079_756619378047894_8616104119792304128_n.jpg?_nc_ht=scontent.cdninstagram.com\",\n",
      "    \"username\": \"ecmyhre\"\n",
      "   },\n",
      "   \"images\": {\n",
      "    \"thumbnail\": {\n",
      "     \"width\": 150,\n",
      "     \"height\": 150,\n",
      "     \"url\": \"https://scontent.cdninstagram.com/vp/9ee892e3f00753dec852f3ad0942d83a/5D7D7959/t51.2885-15/e15/s150x150/29416264_1996661437260028_7181075002677002240_n.jpg?_nc_ht=scontent.cdninstagram.com\"\n",
      "    },\n",
      "    \"low_resolution\": {\n",
      "     \"width\": 320,\n",
      "     \"height\": 320,\n",
      "     \"url\": \"https://scontent.cdninstagram.com/vp/36c705604fcb4f752b8455aa724ed2e6/5D7E4221/t51.2885-15/e15/s320x320/29416264_1996661437260028_7181075002677002240_n.jpg?_nc_ht=scontent.cdninstagram.com\"\n",
      "    },\n",
      "    \"standard_resolution\": {\n",
      "     \"width\": 640,\n",
      "     \"height\": 640,\n",
      "     \"url\": \"https://scontent.cdninstagram.com/vp/0c35aefc7bc8f00167c36405cff7b483/5D8589B2/t51.2885-15/e15/29416264_1996661437260028_7181075002677002240_n.jpg?_nc_ht=scontent.cdninstagram.com\"\n",
      "    }\n",
      "   },\n",
      "   \"created_time\": \"1432340723\",\n",
      "   \"caption\": {\n",
      "    \"id\": \"17851447021053824\",\n",
      "    \"text\": \"Today looked like this #tombroketheboat\",\n",
      "    \"created_time\": \"1432340723\",\n",
      "    \"from\": {\n",
      "     \"id\": \"212661823\",\n",
      "     \"full_name\": \"Eric\",\n",
      "     \"profile_picture\": \"https://scontent.cdninstagram.com/vp/cf7b71616f4674af678e2a18b3d9e097/5D7D3389/t51.2885-19/s150x150/49791079_756619378047894_8616104119792304128_n.jpg?_nc_ht=scontent.cdninstagram.com\",\n",
      "     \"username\": \"ecmyhre\"\n",
      "    }\n",
      "   },\n",
      "   \"user_has_liked\": true,\n",
      "   \"likes\": {\n",
      "    \"count\": 65\n",
      "   },\n",
      "   \"tags\": [\n",
      "    \"tombroketheboat\"\n",
      "   ],\n",
      "   \"filter\": \"Perpetua\",\n",
      "   \"comments\": {\n",
      "    \"count\": 0\n",
      "   },\n",
      "   \"type\": \"image\",\n",
      "   \"link\": \"https://www.instagram.com/p/3ARW99nIMp/\",\n",
      "   \"location\": null,\n",
      "   \"attribution\": null,\n",
      "   \"users_in_photo\": [\n",
      "    {\n",
      "     \"user\": {\n",
      "      \"username\": \"meilzonwheelz\"\n",
      "     },\n",
      "     \"position\": {\n",
      "      \"x\": 0.638666666666666,\n",
      "      \"y\": 0.452\n",
      "     }\n",
      "    },\n",
      "    {\n",
      "     \"user\": {\n",
      "      \"username\": \"sam_dejean\"\n",
      "     },\n",
      "     \"position\": {\n",
      "      \"x\": 0.298666666666666,\n",
      "      \"y\": 0.6213333333333331\n",
      "     }\n",
      "    },\n",
      "    {\n",
      "     \"user\": {\n",
      "      \"username\": \"aladdin_d3\"\n",
      "     },\n",
      "     \"position\": {\n",
      "      \"x\": 0.732,\n",
      "      \"y\": 0.668\n",
      "     }\n",
      "    }\n",
      "   ]\n",
      "  }\n",
      " ],\n",
      " \"meta\": {\n",
      "  \"code\": 200\n",
      " }\n",
      "}\n"
     ]
    }
   ],
   "source": [
    "import json\n",
    "\n",
    "response = requests.get('https://api.instagram.com/v1/users/self/media/recent/?access_token='+ACCESS_TOKEN)\n",
    "recent_posts = response.json()\n",
    "\n",
    "print(json.dumps(recent_posts, indent=1))"
   ]
  },
  {
   "cell_type": "code",
   "execution_count": 10,
   "metadata": {},
   "outputs": [
    {
     "name": "stdout",
     "output_type": "stream",
     "text": [
      "dict_keys(['pagination', 'data', 'meta'])\n"
     ]
    }
   ],
   "source": [
    "print(recent_posts.keys())"
   ]
  },
  {
   "cell_type": "code",
   "execution_count": 11,
   "metadata": {},
   "outputs": [
    {
     "name": "stdout",
     "output_type": "stream",
     "text": [
      "{}\n",
      "{'code': 200}\n"
     ]
    }
   ],
   "source": [
    "print(recent_posts['pagination'])\n",
    "print(recent_posts['meta'])"
   ]
  },
  {
   "cell_type": "code",
   "execution_count": 12,
   "metadata": {},
   "outputs": [
    {
     "name": "stdout",
     "output_type": "stream",
     "text": [
      "[\n",
      " {\n",
      "  \"id\": \"1940934739557126877_212661823\",\n",
      "  \"user\": {\n",
      "   \"id\": \"212661823\",\n",
      "   \"full_name\": \"Eric\",\n",
      "   \"profile_picture\": \"https://scontent.cdninstagram.com/vp/cf7b71616f4674af678e2a18b3d9e097/5D7D3389/t51.2885-19/s150x150/49791079_756619378047894_8616104119792304128_n.jpg?_nc_ht=scontent.cdninstagram.com\",\n",
      "   \"username\": \"ecmyhre\"\n",
      "  },\n",
      "  \"images\": {\n",
      "   \"thumbnail\": {\n",
      "    \"width\": 150,\n",
      "    \"height\": 150,\n",
      "    \"url\": \"https://scontent.cdninstagram.com/vp/94d8d909835022b17858fa0f897e16f9/5D62ACC8/t51.2885-15/e35/s150x150/46965490_230358987873689_3246312774713462137_n.jpg?_nc_ht=scontent.cdninstagram.com\"\n",
      "   },\n",
      "   \"low_resolution\": {\n",
      "    \"width\": 320,\n",
      "    \"height\": 320,\n",
      "    \"url\": \"https://scontent.cdninstagram.com/vp/478e8aac67389f8e476e88526afb1ef6/5D79EC38/t51.2885-15/e35/s320x320/46965490_230358987873689_3246312774713462137_n.jpg?_nc_ht=scontent.cdninstagram.com\"\n",
      "   },\n",
      "   \"standard_resolution\": {\n",
      "    \"width\": 640,\n",
      "    \"height\": 640,\n",
      "    \"url\": \"https://scontent.cdninstagram.com/vp/51723ac1dfa50d7123da81f75165f1c9/5D91B06F/t51.2885-15/sh0.08/e35/s640x640/46965490_230358987873689_3246312774713462137_n.jpg?_nc_ht=scontent.cdninstagram.com\"\n",
      "   }\n",
      "  },\n",
      "  \"created_time\": \"1545597473\",\n",
      "  \"caption\": {\n",
      "   \"id\": \"17994679921124977\",\n",
      "   \"text\": \"Be gay, do crimes.\",\n",
      "   \"created_time\": \"1545597473\",\n",
      "   \"from\": {\n",
      "    \"id\": \"212661823\",\n",
      "    \"full_name\": \"Eric\",\n",
      "    \"profile_picture\": \"https://scontent.cdninstagram.com/vp/cf7b71616f4674af678e2a18b3d9e097/5D7D3389/t51.2885-19/s150x150/49791079_756619378047894_8616104119792304128_n.jpg?_nc_ht=scontent.cdninstagram.com\",\n",
      "    \"username\": \"ecmyhre\"\n",
      "   }\n",
      "  },\n",
      "  \"user_has_liked\": true,\n",
      "  \"likes\": {\n",
      "   \"count\": 113\n",
      "  },\n",
      "  \"tags\": [],\n",
      "  \"filter\": \"Normal\",\n",
      "  \"comments\": {\n",
      "   \"count\": 2\n",
      "  },\n",
      "  \"type\": \"image\",\n",
      "  \"link\": \"https://www.instagram.com/p/BrvldyzhJLd/\",\n",
      "  \"location\": null,\n",
      "  \"attribution\": null,\n",
      "  \"users_in_photo\": []\n",
      " },\n",
      " {\n",
      "  \"id\": \"1817631657119060571_212661823\",\n",
      "  \"user\": {\n",
      "   \"id\": \"212661823\",\n",
      "   \"full_name\": \"Eric\",\n",
      "   \"profile_picture\": \"https://scontent.cdninstagram.com/vp/cf7b71616f4674af678e2a18b3d9e097/5D7D3389/t51.2885-19/s150x150/49791079_756619378047894_8616104119792304128_n.jpg?_nc_ht=scontent.cdninstagram.com\",\n",
      "   \"username\": \"ecmyhre\"\n",
      "  },\n",
      "  \"images\": {\n",
      "   \"thumbnail\": {\n",
      "    \"width\": 150,\n",
      "    \"height\": 150,\n",
      "    \"url\": \"https://scontent.cdninstagram.com/vp/5b8f27237dda2077e36651853c4379d8/5D98D5B2/t51.2885-15/e35/s150x150/36148034_1710831005704990_7152891268366860288_n.jpg?_nc_ht=scontent.cdninstagram.com\"\n",
      "   },\n",
      "   \"low_resolution\": {\n",
      "    \"width\": 320,\n",
      "    \"height\": 320,\n",
      "    \"url\": \"https://scontent.cdninstagram.com/vp/f07110f5de806b023729bface110838b/5D5F80CA/t51.2885-15/e35/s320x320/36148034_1710831005704990_7152891268366860288_n.jpg?_nc_ht=scontent.cdninstagram.com\"\n",
      "   },\n",
      "   \"standard_resolution\": {\n",
      "    \"width\": 640,\n",
      "    \"height\": 640,\n",
      "    \"url\": \"https://scontent.cdninstagram.com/vp/d40db4eb07d08fac21a2333d3acddbac/5D92F337/t51.2885-15/sh0.08/e35/s640x640/36148034_1710831005704990_7152891268366860288_n.jpg?_nc_ht=scontent.cdninstagram.com\"\n",
      "   }\n",
      "  },\n",
      "  \"created_time\": \"1530898600\",\n",
      "  \"caption\": {\n",
      "   \"id\": \"17959890727044526\",\n",
      "   \"text\": \"Yerrr!!! \\u2600\\ufe0f\",\n",
      "   \"created_time\": \"1530898600\",\n",
      "   \"from\": {\n",
      "    \"id\": \"212661823\",\n",
      "    \"full_name\": \"Eric\",\n",
      "    \"profile_picture\": \"https://scontent.cdninstagram.com/vp/cf7b71616f4674af678e2a18b3d9e097/5D7D3389/t51.2885-19/s150x150/49791079_756619378047894_8616104119792304128_n.jpg?_nc_ht=scontent.cdninstagram.com\",\n",
      "    \"username\": \"ecmyhre\"\n",
      "   }\n",
      "  },\n",
      "  \"user_has_liked\": true,\n",
      "  \"likes\": {\n",
      "   \"count\": 191\n",
      "  },\n",
      "  \"tags\": [],\n",
      "  \"filter\": \"Normal\",\n",
      "  \"comments\": {\n",
      "   \"count\": 9\n",
      "  },\n",
      "  \"type\": \"carousel\",\n",
      "  \"link\": \"https://www.instagram.com/p/Bk5hlynFhJb/\",\n",
      "  \"location\": {\n",
      "   \"latitude\": 40.7142,\n",
      "   \"longitude\": -74.0064,\n",
      "   \"name\": \"New York, New York\",\n",
      "   \"id\": 212988663\n",
      "  },\n",
      "  \"attribution\": null,\n",
      "  \"users_in_photo\": [],\n",
      "  \"carousel_media\": [\n",
      "   {\n",
      "    \"images\": {\n",
      "     \"thumbnail\": {\n",
      "      \"width\": 150,\n",
      "      \"height\": 150,\n",
      "      \"url\": \"https://scontent.cdninstagram.com/vp/5b8f27237dda2077e36651853c4379d8/5D98D5B2/t51.2885-15/e35/s150x150/36148034_1710831005704990_7152891268366860288_n.jpg?_nc_ht=scontent.cdninstagram.com\"\n",
      "     },\n",
      "     \"low_resolution\": {\n",
      "      \"width\": 320,\n",
      "      \"height\": 320,\n",
      "      \"url\": \"https://scontent.cdninstagram.com/vp/f07110f5de806b023729bface110838b/5D5F80CA/t51.2885-15/e35/s320x320/36148034_1710831005704990_7152891268366860288_n.jpg?_nc_ht=scontent.cdninstagram.com\"\n",
      "     },\n",
      "     \"standard_resolution\": {\n",
      "      \"width\": 640,\n",
      "      \"height\": 640,\n",
      "      \"url\": \"https://scontent.cdninstagram.com/vp/d40db4eb07d08fac21a2333d3acddbac/5D92F337/t51.2885-15/sh0.08/e35/s640x640/36148034_1710831005704990_7152891268366860288_n.jpg?_nc_ht=scontent.cdninstagram.com\"\n",
      "     }\n",
      "    },\n",
      "    \"users_in_photo\": [],\n",
      "    \"type\": \"image\"\n",
      "   },\n",
      "   {\n",
      "    \"images\": {\n",
      "     \"thumbnail\": {\n",
      "      \"width\": 150,\n",
      "      \"height\": 150,\n",
      "      \"url\": \"https://scontent.cdninstagram.com/vp/d1f0a2178c2931cd2b17e608d0ccec6a/5D62A73D/t51.2885-15/e35/s150x150/35616851_414454695703153_7294801961398829056_n.jpg?_nc_ht=scontent.cdninstagram.com\"\n",
      "     },\n",
      "     \"low_resolution\": {\n",
      "      \"width\": 320,\n",
      "      \"height\": 320,\n",
      "      \"url\": \"https://scontent.cdninstagram.com/vp/61c1fe9027221abd1f283a35c1d54b54/5D9858CD/t51.2885-15/e35/s320x320/35616851_414454695703153_7294801961398829056_n.jpg?_nc_ht=scontent.cdninstagram.com\"\n",
      "     },\n",
      "     \"standard_resolution\": {\n",
      "      \"width\": 640,\n",
      "      \"height\": 640,\n",
      "      \"url\": \"https://scontent.cdninstagram.com/vp/90e783ea5b68d7745d6d089040e82196/5D9E9B9A/t51.2885-15/sh0.08/e35/s640x640/35616851_414454695703153_7294801961398829056_n.jpg?_nc_ht=scontent.cdninstagram.com\"\n",
      "     }\n",
      "    },\n",
      "    \"users_in_photo\": [],\n",
      "    \"type\": \"image\"\n",
      "   },\n",
      "   {\n",
      "    \"images\": {\n",
      "     \"thumbnail\": {\n",
      "      \"width\": 150,\n",
      "      \"height\": 150,\n",
      "      \"url\": \"https://scontent.cdninstagram.com/vp/d3f2804aa37beacd0cb625059cb9bc8b/5D85641A/t51.2885-15/e35/c0.0.1080.1080a/s150x150/36160787_2029011690681329_8919582798075920384_n.jpg?_nc_ht=scontent.cdninstagram.com\"\n",
      "     },\n",
      "     \"low_resolution\": {\n",
      "      \"width\": 320,\n",
      "      \"height\": 320,\n",
      "      \"url\": \"https://scontent.cdninstagram.com/vp/184e4de651bb4a208ab2a36792abaa61/5D63AD38/t51.2885-15/e35/p320x320/36160787_2029011690681329_8919582798075920384_n.jpg?_nc_ht=scontent.cdninstagram.com\"\n",
      "     },\n",
      "     \"standard_resolution\": {\n",
      "      \"width\": 640,\n",
      "      \"height\": 640,\n",
      "      \"url\": \"https://scontent.cdninstagram.com/vp/255001b0e9d04173e61b1e8f1176d79e/5D99E8C5/t51.2885-15/sh0.08/e35/p640x640/36160787_2029011690681329_8919582798075920384_n.jpg?_nc_ht=scontent.cdninstagram.com\"\n",
      "     }\n",
      "    },\n",
      "    \"users_in_photo\": [],\n",
      "    \"type\": \"image\"\n",
      "   }\n",
      "  ]\n",
      " },\n",
      " {\n",
      "  \"id\": \"1793952462623140871_212661823\",\n",
      "  \"user\": {\n",
      "   \"id\": \"212661823\",\n",
      "   \"full_name\": \"Eric\",\n",
      "   \"profile_picture\": \"https://scontent.cdninstagram.com/vp/cf7b71616f4674af678e2a18b3d9e097/5D7D3389/t51.2885-19/s150x150/49791079_756619378047894_8616104119792304128_n.jpg?_nc_ht=scontent.cdninstagram.com\",\n",
      "   \"username\": \"ecmyhre\"\n",
      "  },\n",
      "  \"images\": {\n",
      "   \"thumbnail\": {\n",
      "    \"width\": 150,\n",
      "    \"height\": 150,\n",
      "    \"url\": \"https://scontent.cdninstagram.com/vp/dd751843b314770ec4e16f47c948c5ce/5D9DB0A3/t51.2885-15/e35/s150x150/33239802_1975357622793512_4205640368609296384_n.jpg?_nc_ht=scontent.cdninstagram.com\"\n",
      "   },\n",
      "   \"low_resolution\": {\n",
      "    \"width\": 320,\n",
      "    \"height\": 320,\n",
      "    \"url\": \"https://scontent.cdninstagram.com/vp/fec15514929cee84450701f2dd4d5a80/5D69F1DB/t51.2885-15/e35/s320x320/33239802_1975357622793512_4205640368609296384_n.jpg?_nc_ht=scontent.cdninstagram.com\"\n",
      "   },\n",
      "   \"standard_resolution\": {\n",
      "    \"width\": 640,\n",
      "    \"height\": 640,\n",
      "    \"url\": \"https://scontent.cdninstagram.com/vp/03ff87250a52073f5fa6160330c15f9f/5D95A426/t51.2885-15/sh0.08/e35/s640x640/33239802_1975357622793512_4205640368609296384_n.jpg?_nc_ht=scontent.cdninstagram.com\"\n",
      "   }\n",
      "  },\n",
      "  \"created_time\": \"1528075820\",\n",
      "  \"caption\": {\n",
      "   \"id\": \"17925324574139804\",\n",
      "   \"text\": \"Issa hazelnut #woof\",\n",
      "   \"created_time\": \"1528075820\",\n",
      "   \"from\": {\n",
      "    \"id\": \"212661823\",\n",
      "    \"full_name\": \"Eric\",\n",
      "    \"profile_picture\": \"https://scontent.cdninstagram.com/vp/cf7b71616f4674af678e2a18b3d9e097/5D7D3389/t51.2885-19/s150x150/49791079_756619378047894_8616104119792304128_n.jpg?_nc_ht=scontent.cdninstagram.com\",\n",
      "    \"username\": \"ecmyhre\"\n",
      "   }\n",
      "  },\n",
      "  \"user_has_liked\": true,\n",
      "  \"likes\": {\n",
      "   \"count\": 138\n",
      "  },\n",
      "  \"tags\": [\n",
      "   \"woof\"\n",
      "  ],\n",
      "  \"filter\": \"Normal\",\n",
      "  \"comments\": {\n",
      "   \"count\": 9\n",
      "  },\n",
      "  \"type\": \"image\",\n",
      "  \"link\": \"https://www.instagram.com/p/BjlZkKOluwH/\",\n",
      "  \"location\": null,\n",
      "  \"attribution\": null,\n",
      "  \"users_in_photo\": []\n",
      " },\n",
      " {\n",
      "  \"id\": \"1750247251639109591_212661823\",\n",
      "  \"user\": {\n",
      "   \"id\": \"212661823\",\n",
      "   \"full_name\": \"Eric\",\n",
      "   \"profile_picture\": \"https://scontent.cdninstagram.com/vp/cf7b71616f4674af678e2a18b3d9e097/5D7D3389/t51.2885-19/s150x150/49791079_756619378047894_8616104119792304128_n.jpg?_nc_ht=scontent.cdninstagram.com\",\n",
      "   \"username\": \"ecmyhre\"\n",
      "  },\n",
      "  \"images\": {\n",
      "   \"thumbnail\": {\n",
      "    \"width\": 150,\n",
      "    \"height\": 150,\n",
      "    \"url\": \"https://scontent.cdninstagram.com/vp/4dac930dfd864286abfc34f5efbfa0da/5D6023EA/t51.2885-15/e35/c257.0.565.565/s150x150/29415533_430936460698800_5339266620969713664_n.jpg?_nc_ht=scontent.cdninstagram.com\"\n",
      "   },\n",
      "   \"low_resolution\": {\n",
      "    \"width\": 320,\n",
      "    \"height\": 167,\n",
      "    \"url\": \"https://scontent.cdninstagram.com/vp/6b14e0330a34240ada2a3a8966d15d63/5D94D5AD/t51.2885-15/e35/s320x320/29415533_430936460698800_5339266620969713664_n.jpg?_nc_ht=scontent.cdninstagram.com\"\n",
      "   },\n",
      "   \"standard_resolution\": {\n",
      "    \"width\": 640,\n",
      "    \"height\": 334,\n",
      "    \"url\": \"https://scontent.cdninstagram.com/vp/5d65842b13e76b92224b30d238dc592c/5D96C9FA/t51.2885-15/sh0.08/e35/s640x640/29415533_430936460698800_5339266620969713664_n.jpg?_nc_ht=scontent.cdninstagram.com\"\n",
      "   }\n",
      "  },\n",
      "  \"created_time\": \"1522865753\",\n",
      "  \"caption\": {\n",
      "   \"id\": \"17874887638220257\",\n",
      "   \"text\": \"2AM under the bridge\",\n",
      "   \"created_time\": \"1522865753\",\n",
      "   \"from\": {\n",
      "    \"id\": \"212661823\",\n",
      "    \"full_name\": \"Eric\",\n",
      "    \"profile_picture\": \"https://scontent.cdninstagram.com/vp/cf7b71616f4674af678e2a18b3d9e097/5D7D3389/t51.2885-19/s150x150/49791079_756619378047894_8616104119792304128_n.jpg?_nc_ht=scontent.cdninstagram.com\",\n",
      "    \"username\": \"ecmyhre\"\n",
      "   }\n",
      "  },\n",
      "  \"user_has_liked\": true,\n",
      "  \"likes\": {\n",
      "   \"count\": 101\n",
      "  },\n",
      "  \"tags\": [],\n",
      "  \"filter\": \"X-Pro II\",\n",
      "  \"comments\": {\n",
      "   \"count\": 5\n",
      "  },\n",
      "  \"type\": \"image\",\n",
      "  \"link\": \"https://www.instagram.com/p/BhKIJonDYfX/\",\n",
      "  \"location\": {\n",
      "   \"latitude\": 40.606388888889,\n",
      "   \"longitude\": -74.045555555556,\n",
      "   \"name\": \"Verrazano-Narrows Bridge\",\n",
      "   \"id\": 672915\n",
      "  },\n",
      "  \"attribution\": null,\n",
      "  \"users_in_photo\": [\n",
      "   {\n",
      "    \"user\": {\n",
      "     \"username\": \"verrazanobridge\"\n",
      "    },\n",
      "    \"position\": {\n",
      "     \"x\": 0.7916751,\n",
      "     \"y\": 0.5709962\n",
      "    }\n",
      "   }\n",
      "  ]\n",
      " },\n",
      " {\n",
      "  \"id\": \"1744407678602229152_212661823\",\n",
      "  \"user\": {\n",
      "   \"id\": \"212661823\",\n",
      "   \"full_name\": \"Eric\",\n",
      "   \"profile_picture\": \"https://scontent.cdninstagram.com/vp/cf7b71616f4674af678e2a18b3d9e097/5D7D3389/t51.2885-19/s150x150/49791079_756619378047894_8616104119792304128_n.jpg?_nc_ht=scontent.cdninstagram.com\",\n",
      "   \"username\": \"ecmyhre\"\n",
      "  },\n",
      "  \"images\": {\n",
      "   \"thumbnail\": {\n",
      "    \"width\": 150,\n",
      "    \"height\": 150,\n",
      "    \"url\": \"https://scontent.cdninstagram.com/vp/95781bc5b4a563b00a0b052c78a9e2bf/5D977E4E/t51.2885-15/e35/c0.135.1079.1079a/s150x150/29094823_468347370249290_5963967896185995264_n.jpg?_nc_ht=scontent.cdninstagram.com\"\n",
      "   },\n",
      "   \"low_resolution\": {\n",
      "    \"width\": 320,\n",
      "    \"height\": 400,\n",
      "    \"url\": \"https://scontent.cdninstagram.com/vp/5637eb58c80a964e8ee4933e5c006424/5D92654A/t51.2885-15/e35/p320x320/29094823_468347370249290_5963967896185995264_n.jpg?_nc_ht=scontent.cdninstagram.com\"\n",
      "   },\n",
      "   \"standard_resolution\": {\n",
      "    \"width\": 640,\n",
      "    \"height\": 800,\n",
      "    \"url\": \"https://scontent.cdninstagram.com/vp/cd1abb5eb332bde8a45ac9e5d8941d5b/5D61A41D/t51.2885-15/sh0.08/e35/p640x640/29094823_468347370249290_5963967896185995264_n.jpg?_nc_ht=scontent.cdninstagram.com\"\n",
      "   }\n",
      "  },\n",
      "  \"created_time\": \"1522169621\",\n",
      "  \"caption\": null,\n",
      "  \"user_has_liked\": true,\n",
      "  \"likes\": {\n",
      "   \"count\": 48\n",
      "  },\n",
      "  \"tags\": [],\n",
      "  \"filter\": \"Normal\",\n",
      "  \"comments\": {\n",
      "   \"count\": 0\n",
      "  },\n",
      "  \"type\": \"image\",\n",
      "  \"link\": \"https://www.instagram.com/p/Bg1YYqajLWg/\",\n",
      "  \"location\": {\n",
      "   \"latitude\": 40.570938319893,\n",
      "   \"longitude\": -74.145731128372,\n",
      "   \"name\": \"Historic Richmond Town\",\n",
      "   \"id\": 238372506\n",
      "  },\n",
      "  \"attribution\": null,\n",
      "  \"users_in_photo\": [\n",
      "   {\n",
      "    \"user\": {\n",
      "     \"username\": \"ecmyhre\"\n",
      "    },\n",
      "    \"position\": {\n",
      "     \"x\": 0.6701782,\n",
      "     \"y\": 0.42381886\n",
      "    }\n",
      "   },\n",
      "   {\n",
      "    \"user\": {\n",
      "     \"username\": \"historicrichmondtown\"\n",
      "    },\n",
      "    \"position\": {\n",
      "     \"x\": 0.6896067,\n",
      "     \"y\": 0.6793566999999999\n",
      "    }\n",
      "   },\n",
      "   {\n",
      "    \"user\": {\n",
      "     \"username\": \"myraaliess\"\n",
      "    },\n",
      "    \"position\": {\n",
      "     \"x\": 0.46198964000000003,\n",
      "     \"y\": 0.52765787\n",
      "    }\n",
      "   }\n",
      "  ]\n",
      " },\n",
      " {\n",
      "  \"id\": \"1688041768644191210_212661823\",\n",
      "  \"user\": {\n",
      "   \"id\": \"212661823\",\n",
      "   \"full_name\": \"Eric\",\n",
      "   \"profile_picture\": \"https://scontent.cdninstagram.com/vp/cf7b71616f4674af678e2a18b3d9e097/5D7D3389/t51.2885-19/s150x150/49791079_756619378047894_8616104119792304128_n.jpg?_nc_ht=scontent.cdninstagram.com\",\n",
      "   \"username\": \"ecmyhre\"\n",
      "  },\n",
      "  \"images\": {\n",
      "   \"thumbnail\": {\n",
      "    \"width\": 150,\n",
      "    \"height\": 150,\n",
      "    \"url\": \"https://scontent.cdninstagram.com/vp/9196623511f6ac19232c9f9c0ad6f7ba/5CEA7FE8/t51.2885-15/e35/c80.0.480.480a/s150x150/28766535_1970101066367304_4931904404761608192_n.jpg?_nc_ht=scontent.cdninstagram.com\"\n",
      "   },\n",
      "   \"low_resolution\": {\n",
      "    \"width\": 320,\n",
      "    \"height\": 240,\n",
      "    \"url\": \"https://scontent.cdninstagram.com/vp/1098552977417e5d9c48d9f307f8fdc6/5CEB1DCD/t51.2885-15/e35/s320x320/28766535_1970101066367304_4931904404761608192_n.jpg?_nc_ht=scontent.cdninstagram.com\"\n",
      "   },\n",
      "   \"standard_resolution\": {\n",
      "    \"width\": 640,\n",
      "    \"height\": 480,\n",
      "    \"url\": \"https://scontent.cdninstagram.com/vp/c10b14c4a3022ed7b1a4e75a4b611cef/5CEAF24A/t51.2885-15/e35/28766535_1970101066367304_4931904404761608192_n.jpg?_nc_ht=scontent.cdninstagram.com\"\n",
      "   }\n",
      "  },\n",
      "  \"created_time\": \"1515450339\",\n",
      "  \"caption\": {\n",
      "   \"id\": \"17844564802224792\",\n",
      "   \"text\": \"Oprah Winfrey being interviewed around the time her show first started. I love what she said here. @oprah #stablegenius\",\n",
      "   \"created_time\": \"1515450339\",\n",
      "   \"from\": {\n",
      "    \"id\": \"212661823\",\n",
      "    \"full_name\": \"Eric\",\n",
      "    \"profile_picture\": \"https://scontent.cdninstagram.com/vp/cf7b71616f4674af678e2a18b3d9e097/5D7D3389/t51.2885-19/s150x150/49791079_756619378047894_8616104119792304128_n.jpg?_nc_ht=scontent.cdninstagram.com\",\n",
      "    \"username\": \"ecmyhre\"\n",
      "   }\n",
      "  },\n",
      "  \"user_has_liked\": true,\n",
      "  \"likes\": {\n",
      "   \"count\": 52\n",
      "  },\n",
      "  \"tags\": [\n",
      "   \"stablegenius\"\n",
      "  ],\n",
      "  \"filter\": \"Normal\",\n",
      "  \"comments\": {\n",
      "   \"count\": 1\n",
      "  },\n",
      "  \"type\": \"video\",\n",
      "  \"link\": \"https://www.instagram.com/p/BdtIQuCDyPq/\",\n",
      "  \"location\": null,\n",
      "  \"attribution\": null,\n",
      "  \"users_in_photo\": [],\n",
      "  \"videos\": {\n",
      "   \"standard_resolution\": {\n",
      "    \"width\": 640,\n",
      "    \"height\": 480,\n",
      "    \"url\": \"https://scontent.cdninstagram.com/vp/681445e04d66ccd14c167105a5771377/5CEAB287/t50.2886-16/26246874_315827035490053_2633941861672157184_n.mp4?efg=eyJ2ZW5jb2RlX3RhZyI6InZ0c192b2RfdXJsZ2VuLjY0MC5mZWVkIn0&_nc_ht=scontent.cdninstagram.com&vtsbc=1\",\n",
      "    \"id\": \"584144105370472\"\n",
      "   },\n",
      "   \"low_resolution\": {\n",
      "    \"width\": 480,\n",
      "    \"height\": 360,\n",
      "    \"url\": \"https://scontent.cdninstagram.com/vp/14da19a9127d87e50fced99738983254/5CEACD5E/t50.2886-16/26688342_139882783470330_3883634833498308608_n.mp4?efg=eyJ2ZW5jb2RlX3RhZyI6InZ0c192b2RfdXJsZ2VuLjQ4MC5mZWVkIn0&_nc_ht=scontent.cdninstagram.com&vtsbc=1\",\n",
      "    \"id\": \"2112602568791819\"\n",
      "   },\n",
      "   \"low_bandwidth\": {\n",
      "    \"width\": 480,\n",
      "    \"height\": 360,\n",
      "    \"url\": \"https://scontent.cdninstagram.com/vp/14da19a9127d87e50fced99738983254/5CEACD5E/t50.2886-16/26688342_139882783470330_3883634833498308608_n.mp4?efg=eyJ2ZW5jb2RlX3RhZyI6InZ0c192b2RfdXJsZ2VuLjQ4MC5mZWVkIn0&_nc_ht=scontent.cdninstagram.com&vtsbc=1\",\n",
      "    \"id\": \"2112602568791819\"\n",
      "   }\n",
      "  }\n",
      " },\n",
      " {\n",
      "  \"id\": \"1540180454500733969_212661823\",\n",
      "  \"user\": {\n",
      "   \"id\": \"212661823\",\n",
      "   \"full_name\": \"Eric\",\n",
      "   \"profile_picture\": \"https://scontent.cdninstagram.com/vp/cf7b71616f4674af678e2a18b3d9e097/5D7D3389/t51.2885-19/s150x150/49791079_756619378047894_8616104119792304128_n.jpg?_nc_ht=scontent.cdninstagram.com\",\n",
      "   \"username\": \"ecmyhre\"\n",
      "  },\n",
      "  \"images\": {\n",
      "   \"thumbnail\": {\n",
      "    \"width\": 150,\n",
      "    \"height\": 150,\n",
      "    \"url\": \"https://scontent.cdninstagram.com/vp/6681624f984efc0712ec6717d3f5a218/5D8153ED/t51.2885-15/e35/c0.135.1080.1080a/s150x150/29096214_203844837055660_7992102898475466752_n.jpg?_nc_ht=scontent.cdninstagram.com\"\n",
      "   },\n",
      "   \"low_resolution\": {\n",
      "    \"width\": 320,\n",
      "    \"height\": 400,\n",
      "    \"url\": \"https://scontent.cdninstagram.com/vp/1e80fe04e465976f0344ea4d8ceca68d/5D9AB88B/t51.2885-15/e35/p320x320/29096214_203844837055660_7992102898475466752_n.jpg?_nc_ht=scontent.cdninstagram.com\"\n",
      "   },\n",
      "   \"standard_resolution\": {\n",
      "    \"width\": 640,\n",
      "    \"height\": 800,\n",
      "    \"url\": \"https://scontent.cdninstagram.com/vp/f3e9f7885f7fe2c7dac4577628b5794a/5D7B19DC/t51.2885-15/sh0.08/e35/p640x640/29096214_203844837055660_7992102898475466752_n.jpg?_nc_ht=scontent.cdninstagram.com\"\n",
      "   }\n",
      "  },\n",
      "  \"created_time\": \"1497823839\",\n",
      "  \"caption\": {\n",
      "   \"id\": \"17903789524170768\",\n",
      "   \"text\": \"HFD to all my daddy's\",\n",
      "   \"created_time\": \"1497823839\",\n",
      "   \"from\": {\n",
      "    \"id\": \"212661823\",\n",
      "    \"full_name\": \"Eric\",\n",
      "    \"profile_picture\": \"https://scontent.cdninstagram.com/vp/cf7b71616f4674af678e2a18b3d9e097/5D7D3389/t51.2885-19/s150x150/49791079_756619378047894_8616104119792304128_n.jpg?_nc_ht=scontent.cdninstagram.com\",\n",
      "    \"username\": \"ecmyhre\"\n",
      "   }\n",
      "  },\n",
      "  \"user_has_liked\": true,\n",
      "  \"likes\": {\n",
      "   \"count\": 258\n",
      "  },\n",
      "  \"tags\": [],\n",
      "  \"filter\": \"Normal\",\n",
      "  \"comments\": {\n",
      "   \"count\": 12\n",
      "  },\n",
      "  \"type\": \"image\",\n",
      "  \"link\": \"https://www.instagram.com/p/BVf0faQhBQR/\",\n",
      "  \"location\": null,\n",
      "  \"attribution\": null,\n",
      "  \"users_in_photo\": []\n",
      " },\n",
      " {\n",
      "  \"id\": \"1497374184291851519_212661823\",\n",
      "  \"user\": {\n",
      "   \"id\": \"212661823\",\n",
      "   \"full_name\": \"Eric\",\n",
      "   \"profile_picture\": \"https://scontent.cdninstagram.com/vp/cf7b71616f4674af678e2a18b3d9e097/5D7D3389/t51.2885-19/s150x150/49791079_756619378047894_8616104119792304128_n.jpg?_nc_ht=scontent.cdninstagram.com\",\n",
      "   \"username\": \"ecmyhre\"\n",
      "  },\n",
      "  \"images\": {\n",
      "   \"thumbnail\": {\n",
      "    \"width\": 150,\n",
      "    \"height\": 150,\n",
      "    \"url\": \"https://scontent.cdninstagram.com/vp/58d595b01135f93dce4ca910ad60b653/5CEABD80/t51.2885-15/e15/s150x150/29087459_285191282013590_3125460332798017536_n.jpg?_nc_ht=scontent.cdninstagram.com\"\n",
      "   },\n",
      "   \"low_resolution\": {\n",
      "    \"width\": 320,\n",
      "    \"height\": 320,\n",
      "    \"url\": \"https://scontent.cdninstagram.com/vp/6e74a6ce45a0a49084fd2d8264ee07e5/5CEAFD30/t51.2885-15/e15/s320x320/29087459_285191282013590_3125460332798017536_n.jpg?_nc_ht=scontent.cdninstagram.com\"\n",
      "   },\n",
      "   \"standard_resolution\": {\n",
      "    \"width\": 640,\n",
      "    \"height\": 640,\n",
      "    \"url\": \"https://scontent.cdninstagram.com/vp/b520d37c474658139523cd9f44ab4e0a/5CEAE11F/t51.2885-15/e15/s640x640/29087459_285191282013590_3125460332798017536_n.jpg?_nc_ht=scontent.cdninstagram.com\"\n",
      "   }\n",
      "  },\n",
      "  \"created_time\": \"1492720934\",\n",
      "  \"caption\": {\n",
      "   \"id\": \"17878805941032145\",\n",
      "   \"text\": \"*realizes too much* @kyliejenner\",\n",
      "   \"created_time\": \"1492720934\",\n",
      "   \"from\": {\n",
      "    \"id\": \"212661823\",\n",
      "    \"full_name\": \"Eric\",\n",
      "    \"profile_picture\": \"https://scontent.cdninstagram.com/vp/cf7b71616f4674af678e2a18b3d9e097/5D7D3389/t51.2885-19/s150x150/49791079_756619378047894_8616104119792304128_n.jpg?_nc_ht=scontent.cdninstagram.com\",\n",
      "    \"username\": \"ecmyhre\"\n",
      "   }\n",
      "  },\n",
      "  \"user_has_liked\": true,\n",
      "  \"likes\": {\n",
      "   \"count\": 230\n",
      "  },\n",
      "  \"tags\": [],\n",
      "  \"filter\": \"Normal\",\n",
      "  \"comments\": {\n",
      "   \"count\": 9\n",
      "  },\n",
      "  \"type\": \"video\",\n",
      "  \"link\": \"https://www.instagram.com/p/BTHveMejlz_/\",\n",
      "  \"location\": null,\n",
      "  \"attribution\": null,\n",
      "  \"users_in_photo\": [],\n",
      "  \"videos\": {\n",
      "   \"standard_resolution\": {\n",
      "    \"width\": 720,\n",
      "    \"height\": 720,\n",
      "    \"url\": \"https://scontent.cdninstagram.com/vp/0688ed2f4ba639de9a068705c1a68f8c/5CEAF4DA/t50.2886-16/22114149_315633848905640_7293734829529497600_n.mp4?efg=eyJ2ZW5jb2RlX3RhZyI6InZ0c192b2RfdXJsZ2VuLjcyMC5mZWVkIn0&_nc_ht=scontent.cdninstagram.com&vtsbc=1\",\n",
      "    \"id\": \"196876284586510\"\n",
      "   },\n",
      "   \"low_resolution\": {\n",
      "    \"width\": 640,\n",
      "    \"height\": 640,\n",
      "    \"url\": \"https://scontent.cdninstagram.com/vp/d6375f36ad764801032bf5ec02a502f9/5CEABD7F/t50.2886-16/22138382_1979386958997436_4351023104613416960_n.mp4?efg=eyJ2ZW5jb2RlX3RhZyI6InZ0c192b2RfdXJsZ2VuLjY0MC5mZWVkIn0&_nc_ht=scontent.cdninstagram.com&vtsbc=1\",\n",
      "    \"id\": \"2311334362274095\"\n",
      "   },\n",
      "   \"low_bandwidth\": {\n",
      "    \"width\": 640,\n",
      "    \"height\": 640,\n",
      "    \"url\": \"https://scontent.cdninstagram.com/vp/d6375f36ad764801032bf5ec02a502f9/5CEABD7F/t50.2886-16/22138382_1979386958997436_4351023104613416960_n.mp4?efg=eyJ2ZW5jb2RlX3RhZyI6InZ0c192b2RfdXJsZ2VuLjY0MC5mZWVkIn0&_nc_ht=scontent.cdninstagram.com&vtsbc=1\",\n",
      "    \"id\": \"2311334362274095\"\n",
      "   }\n",
      "  }\n",
      " },\n",
      " {\n",
      "  \"id\": \"1475120730050951400_212661823\",\n",
      "  \"user\": {\n",
      "   \"id\": \"212661823\",\n",
      "   \"full_name\": \"Eric\",\n",
      "   \"profile_picture\": \"https://scontent.cdninstagram.com/vp/cf7b71616f4674af678e2a18b3d9e097/5D7D3389/t51.2885-19/s150x150/49791079_756619378047894_8616104119792304128_n.jpg?_nc_ht=scontent.cdninstagram.com\",\n",
      "   \"username\": \"ecmyhre\"\n",
      "  },\n",
      "  \"images\": {\n",
      "   \"thumbnail\": {\n",
      "    \"width\": 150,\n",
      "    \"height\": 150,\n",
      "    \"url\": \"https://scontent.cdninstagram.com/vp/bd0cafb8080ac20553534daf4aed8857/5D636F9B/t51.2885-15/e35/c0.66.1025.1025a/s150x150/29087295_199450533987864_103733278493638656_n.jpg?_nc_ht=scontent.cdninstagram.com\"\n",
      "   },\n",
      "   \"low_resolution\": {\n",
      "    \"width\": 320,\n",
      "    \"height\": 361,\n",
      "    \"url\": \"https://scontent.cdninstagram.com/vp/3d7428b956eb4887c1efafaac7924a03/5D5F77AE/t51.2885-15/e35/p320x320/29087295_199450533987864_103733278493638656_n.jpg?_nc_ht=scontent.cdninstagram.com\"\n",
      "   },\n",
      "   \"standard_resolution\": {\n",
      "    \"width\": 640,\n",
      "    \"height\": 723,\n",
      "    \"url\": \"https://scontent.cdninstagram.com/vp/fb4929f1dd139ba7d9e895ca906f2f88/5D678A42/t51.2885-15/sh0.08/e35/p640x640/29087295_199450533987864_103733278493638656_n.jpg?_nc_ht=scontent.cdninstagram.com\"\n",
      "   }\n",
      "  },\n",
      "  \"created_time\": \"1490068115\",\n",
      "  \"caption\": {\n",
      "   \"id\": \"17878037482031424\",\n",
      "   \"text\": \"Thanks for making me look like I'm a cool guy for the lab website \\ud83e\\udd13\",\n",
      "   \"created_time\": \"1490068115\",\n",
      "   \"from\": {\n",
      "    \"id\": \"212661823\",\n",
      "    \"full_name\": \"Eric\",\n",
      "    \"profile_picture\": \"https://scontent.cdninstagram.com/vp/cf7b71616f4674af678e2a18b3d9e097/5D7D3389/t51.2885-19/s150x150/49791079_756619378047894_8616104119792304128_n.jpg?_nc_ht=scontent.cdninstagram.com\",\n",
      "    \"username\": \"ecmyhre\"\n",
      "   }\n",
      "  },\n",
      "  \"user_has_liked\": true,\n",
      "  \"likes\": {\n",
      "   \"count\": 272\n",
      "  },\n",
      "  \"tags\": [],\n",
      "  \"filter\": \"Normal\",\n",
      "  \"comments\": {\n",
      "   \"count\": 11\n",
      "  },\n",
      "  \"type\": \"image\",\n",
      "  \"link\": \"https://www.instagram.com/p/BR4rn0LgHjo/\",\n",
      "  \"location\": {\n",
      "   \"latitude\": 40.76334,\n",
      "   \"longitude\": -73.9824,\n",
      "   \"name\": \"Columbia University\",\n",
      "   \"id\": 1015511613\n",
      "  },\n",
      "  \"attribution\": null,\n",
      "  \"users_in_photo\": []\n",
      " },\n",
      " {\n",
      "  \"id\": \"1473725966248384995_212661823\",\n",
      "  \"user\": {\n",
      "   \"id\": \"212661823\",\n",
      "   \"full_name\": \"Eric\",\n",
      "   \"profile_picture\": \"https://scontent.cdninstagram.com/vp/cf7b71616f4674af678e2a18b3d9e097/5D7D3389/t51.2885-19/s150x150/49791079_756619378047894_8616104119792304128_n.jpg?_nc_ht=scontent.cdninstagram.com\",\n",
      "   \"username\": \"ecmyhre\"\n",
      "  },\n",
      "  \"images\": {\n",
      "   \"thumbnail\": {\n",
      "    \"width\": 150,\n",
      "    \"height\": 150,\n",
      "    \"url\": \"https://scontent.cdninstagram.com/vp/b14f5a487bd2825823d76c68509679d9/5D9DF5BA/t51.2885-15/e35/c0.117.937.937a/s150x150/28763290_161804114438744_5113639198498226176_n.jpg?_nc_ht=scontent.cdninstagram.com\"\n",
      "   },\n",
      "   \"low_resolution\": {\n",
      "    \"width\": 320,\n",
      "    \"height\": 399,\n",
      "    \"url\": \"https://scontent.cdninstagram.com/vp/da7a814caf362c0412a5020c32f73189/5D7C8245/t51.2885-15/e35/p320x320/28763290_161804114438744_5113639198498226176_n.jpg?_nc_ht=scontent.cdninstagram.com\"\n",
      "   },\n",
      "   \"standard_resolution\": {\n",
      "    \"width\": 640,\n",
      "    \"height\": 799,\n",
      "    \"url\": \"https://scontent.cdninstagram.com/vp/141a60340c362b8b90af1ad841259c2b/5D793D12/t51.2885-15/sh0.08/e35/p640x640/28763290_161804114438744_5113639198498226176_n.jpg?_nc_ht=scontent.cdninstagram.com\"\n",
      "   }\n",
      "  },\n",
      "  \"created_time\": \"1489901847\",\n",
      "  \"caption\": {\n",
      "   \"id\": \"17875284979041714\",\n",
      "   \"text\": \"it's a slumber party @tinashenow\",\n",
      "   \"created_time\": \"1489901847\",\n",
      "   \"from\": {\n",
      "    \"id\": \"212661823\",\n",
      "    \"full_name\": \"Eric\",\n",
      "    \"profile_picture\": \"https://scontent.cdninstagram.com/vp/cf7b71616f4674af678e2a18b3d9e097/5D7D3389/t51.2885-19/s150x150/49791079_756619378047894_8616104119792304128_n.jpg?_nc_ht=scontent.cdninstagram.com\",\n",
      "    \"username\": \"ecmyhre\"\n",
      "   }\n",
      "  },\n",
      "  \"user_has_liked\": true,\n",
      "  \"likes\": {\n",
      "   \"count\": 103\n",
      "  },\n",
      "  \"tags\": [],\n",
      "  \"filter\": \"Normal\",\n",
      "  \"comments\": {\n",
      "   \"count\": 3\n",
      "  },\n",
      "  \"type\": \"image\",\n",
      "  \"link\": \"https://www.instagram.com/p/BRzufVKgRnj/\",\n",
      "  \"location\": null,\n",
      "  \"attribution\": null,\n",
      "  \"users_in_photo\": [\n",
      "   {\n",
      "    \"user\": {\n",
      "     \"username\": \"tinashenow\"\n",
      "    },\n",
      "    \"position\": {\n",
      "     \"x\": 0.8095680000000001,\n",
      "     \"y\": 0.676\n",
      "    }\n",
      "   },\n",
      "   {\n",
      "    \"user\": {\n",
      "     \"username\": \"ecmyhre\"\n",
      "    },\n",
      "    \"position\": {\n",
      "     \"x\": 0.171575111111111,\n",
      "     \"y\": 0.705333333333333\n",
      "    }\n",
      "   }\n",
      "  ]\n",
      " },\n",
      " {\n",
      "  \"id\": \"1377934754238557303_212661823\",\n",
      "  \"user\": {\n",
      "   \"id\": \"212661823\",\n",
      "   \"full_name\": \"Eric\",\n",
      "   \"profile_picture\": \"https://scontent.cdninstagram.com/vp/cf7b71616f4674af678e2a18b3d9e097/5D7D3389/t51.2885-19/s150x150/49791079_756619378047894_8616104119792304128_n.jpg?_nc_ht=scontent.cdninstagram.com\",\n",
      "   \"username\": \"ecmyhre\"\n",
      "  },\n",
      "  \"images\": {\n",
      "   \"thumbnail\": {\n",
      "    \"width\": 150,\n",
      "    \"height\": 150,\n",
      "    \"url\": \"https://scontent.cdninstagram.com/vp/2b33de05588c854acf8724f37487ae6a/5D93C81C/t51.2885-15/e35/s150x150/29092930_1617304841697317_1233532624799006720_n.jpg?_nc_ht=scontent.cdninstagram.com\"\n",
      "   },\n",
      "   \"low_resolution\": {\n",
      "    \"width\": 320,\n",
      "    \"height\": 320,\n",
      "    \"url\": \"https://scontent.cdninstagram.com/vp/164cf86205829b3ec79ad2b1e59fdefc/5D97B364/t51.2885-15/e35/s320x320/29092930_1617304841697317_1233532624799006720_n.jpg?_nc_ht=scontent.cdninstagram.com\"\n",
      "   },\n",
      "   \"standard_resolution\": {\n",
      "    \"width\": 640,\n",
      "    \"height\": 640,\n",
      "    \"url\": \"https://scontent.cdninstagram.com/vp/45328a3c6ca03473304a9579c4e96bd9/5D958599/t51.2885-15/sh0.08/e35/s640x640/29092930_1617304841697317_1233532624799006720_n.jpg?_nc_ht=scontent.cdninstagram.com\"\n",
      "   }\n",
      "  },\n",
      "  \"created_time\": \"1478482644\",\n",
      "  \"caption\": null,\n",
      "  \"user_has_liked\": true,\n",
      "  \"likes\": {\n",
      "   \"count\": 77\n",
      "  },\n",
      "  \"tags\": [],\n",
      "  \"filter\": \"Normal\",\n",
      "  \"comments\": {\n",
      "   \"count\": 4\n",
      "  },\n",
      "  \"type\": \"image\",\n",
      "  \"link\": \"https://www.instagram.com/p/BMfaFu-Dex3/\",\n",
      "  \"location\": null,\n",
      "  \"attribution\": null,\n",
      "  \"users_in_photo\": []\n",
      " },\n",
      " {\n",
      "  \"id\": \"1285488672808693529_212661823\",\n",
      "  \"user\": {\n",
      "   \"id\": \"212661823\",\n",
      "   \"full_name\": \"Eric\",\n",
      "   \"profile_picture\": \"https://scontent.cdninstagram.com/vp/cf7b71616f4674af678e2a18b3d9e097/5D7D3389/t51.2885-19/s150x150/49791079_756619378047894_8616104119792304128_n.jpg?_nc_ht=scontent.cdninstagram.com\",\n",
      "   \"username\": \"ecmyhre\"\n",
      "  },\n",
      "  \"images\": {\n",
      "   \"thumbnail\": {\n",
      "    \"width\": 150,\n",
      "    \"height\": 150,\n",
      "    \"url\": \"https://scontent.cdninstagram.com/vp/ae1f3dd3e1c6226cfbda7cb68cc5be14/5D78EE0A/t51.2885-15/e35/s150x150/28764388_158630088187148_5755391055792963584_n.jpg?_nc_ht=scontent.cdninstagram.com\"\n",
      "   },\n",
      "   \"low_resolution\": {\n",
      "    \"width\": 320,\n",
      "    \"height\": 320,\n",
      "    \"url\": \"https://scontent.cdninstagram.com/vp/88fb13501307e7ed7161019c7cef86ff/5D62EFFA/t51.2885-15/e35/s320x320/28764388_158630088187148_5755391055792963584_n.jpg?_nc_ht=scontent.cdninstagram.com\"\n",
      "   },\n",
      "   \"standard_resolution\": {\n",
      "    \"width\": 640,\n",
      "    \"height\": 640,\n",
      "    \"url\": \"https://scontent.cdninstagram.com/vp/1dc07a50bc87448b12abbdc49531fa72/5D94AEAD/t51.2885-15/sh0.08/e35/s640x640/28764388_158630088187148_5755391055792963584_n.jpg?_nc_ht=scontent.cdninstagram.com\"\n",
      "   }\n",
      "  },\n",
      "  \"created_time\": \"1467462213\",\n",
      "  \"caption\": {\n",
      "   \"id\": \"17865989320044939\",\n",
      "   \"text\": \"#panther #\\ud83d\\udd11\",\n",
      "   \"created_time\": \"1467462213\",\n",
      "   \"from\": {\n",
      "    \"id\": \"212661823\",\n",
      "    \"full_name\": \"Eric\",\n",
      "    \"profile_picture\": \"https://scontent.cdninstagram.com/vp/cf7b71616f4674af678e2a18b3d9e097/5D7D3389/t51.2885-19/s150x150/49791079_756619378047894_8616104119792304128_n.jpg?_nc_ht=scontent.cdninstagram.com\",\n",
      "    \"username\": \"ecmyhre\"\n",
      "   }\n",
      "  },\n",
      "  \"user_has_liked\": true,\n",
      "  \"likes\": {\n",
      "   \"count\": 92\n",
      "  },\n",
      "  \"tags\": [\n",
      "   \"panther\",\n",
      "   \"\\ud83d\\udd11\"\n",
      "  ],\n",
      "  \"filter\": \"Amaro\",\n",
      "  \"comments\": {\n",
      "   \"count\": 3\n",
      "  },\n",
      "  \"type\": \"image\",\n",
      "  \"link\": \"https://www.instagram.com/p/BHW-SMZjO8Z/\",\n",
      "  \"location\": {\n",
      "   \"latitude\": 40.73974,\n",
      "   \"longitude\": -74.00685,\n",
      "   \"name\": \"I Tre Merli Restaurant & Garden\",\n",
      "   \"id\": 305464\n",
      "  },\n",
      "  \"attribution\": null,\n",
      "  \"users_in_photo\": [\n",
      "   {\n",
      "    \"user\": {\n",
      "     \"username\": \"hello_hellookitty\"\n",
      "    },\n",
      "    \"position\": {\n",
      "     \"x\": 0.313333333333333,\n",
      "     \"y\": 0.758666666666666\n",
      "    }\n",
      "   },\n",
      "   {\n",
      "    \"user\": {\n",
      "     \"username\": \"daddy_eezus\"\n",
      "    },\n",
      "    \"position\": {\n",
      "     \"x\": 0.709333333333333,\n",
      "     \"y\": 0.556\n",
      "    }\n",
      "   }\n",
      "  ]\n",
      " },\n",
      " {\n",
      "  \"id\": \"1018514926577942840_212661823\",\n",
      "  \"user\": {\n",
      "   \"id\": \"212661823\",\n",
      "   \"full_name\": \"Eric\",\n",
      "   \"profile_picture\": \"https://scontent.cdninstagram.com/vp/cf7b71616f4674af678e2a18b3d9e097/5D7D3389/t51.2885-19/s150x150/49791079_756619378047894_8616104119792304128_n.jpg?_nc_ht=scontent.cdninstagram.com\",\n",
      "   \"username\": \"ecmyhre\"\n",
      "  },\n",
      "  \"images\": {\n",
      "   \"thumbnail\": {\n",
      "    \"width\": 150,\n",
      "    \"height\": 150,\n",
      "    \"url\": \"https://scontent.cdninstagram.com/vp/afb015d11e636d1eacc04144ba6e11f7/5D9CB161/t51.2885-15/e15/s150x150/28753492_181286499331053_3272970967399268352_n.jpg?_nc_ht=scontent.cdninstagram.com\"\n",
      "   },\n",
      "   \"low_resolution\": {\n",
      "    \"width\": 320,\n",
      "    \"height\": 320,\n",
      "    \"url\": \"https://scontent.cdninstagram.com/vp/c41991feb5cd023d0c6d7cf21f9b5233/5D85EB91/t51.2885-15/e15/s320x320/28753492_181286499331053_3272970967399268352_n.jpg?_nc_ht=scontent.cdninstagram.com\"\n",
      "   },\n",
      "   \"standard_resolution\": {\n",
      "    \"width\": 640,\n",
      "    \"height\": 640,\n",
      "    \"url\": \"https://scontent.cdninstagram.com/vp/d495eb99cac4517f611529fc25c1140f/5D79A100/t51.2885-15/e15/28753492_181286499331053_3272970967399268352_n.jpg?_nc_ht=scontent.cdninstagram.com\"\n",
      "   }\n",
      "  },\n",
      "  \"created_time\": \"1435636462\",\n",
      "  \"caption\": {\n",
      "   \"id\": \"17851461403053824\",\n",
      "   \"text\": \"Pre-graduation sunrise and bags. Bout a month ago\",\n",
      "   \"created_time\": \"1435636462\",\n",
      "   \"from\": {\n",
      "    \"id\": \"212661823\",\n",
      "    \"full_name\": \"Eric\",\n",
      "    \"profile_picture\": \"https://scontent.cdninstagram.com/vp/cf7b71616f4674af678e2a18b3d9e097/5D7D3389/t51.2885-19/s150x150/49791079_756619378047894_8616104119792304128_n.jpg?_nc_ht=scontent.cdninstagram.com\",\n",
      "    \"username\": \"ecmyhre\"\n",
      "   }\n",
      "  },\n",
      "  \"user_has_liked\": true,\n",
      "  \"likes\": {\n",
      "   \"count\": 107\n",
      "  },\n",
      "  \"tags\": [],\n",
      "  \"filter\": \"Normal\",\n",
      "  \"comments\": {\n",
      "   \"count\": 1\n",
      "  },\n",
      "  \"type\": \"image\",\n",
      "  \"link\": \"https://www.instagram.com/p/4ife3tHIE4/\",\n",
      "  \"location\": null,\n",
      "  \"attribution\": null,\n",
      "  \"users_in_photo\": [\n",
      "   {\n",
      "    \"user\": {\n",
      "     \"username\": \"the_real_francoisss\"\n",
      "    },\n",
      "    \"position\": {\n",
      "     \"x\": 0.308,\n",
      "     \"y\": 0.693333333333333\n",
      "    }\n",
      "   }\n",
      "  ]\n",
      " },\n",
      " {\n",
      "  \"id\": \"1014653275143438372_212661823\",\n",
      "  \"user\": {\n",
      "   \"id\": \"212661823\",\n",
      "   \"full_name\": \"Eric\",\n",
      "   \"profile_picture\": \"https://scontent.cdninstagram.com/vp/cf7b71616f4674af678e2a18b3d9e097/5D7D3389/t51.2885-19/s150x150/49791079_756619378047894_8616104119792304128_n.jpg?_nc_ht=scontent.cdninstagram.com\",\n",
      "   \"username\": \"ecmyhre\"\n",
      "  },\n",
      "  \"images\": {\n",
      "   \"thumbnail\": {\n",
      "    \"width\": 150,\n",
      "    \"height\": 150,\n",
      "    \"url\": \"https://scontent.cdninstagram.com/vp/8601035a338f5d83210d33f35191baa1/5D97A65F/t51.2885-15/e15/s150x150/29088547_233732180535992_3639410606362066944_n.jpg?_nc_ht=scontent.cdninstagram.com\"\n",
      "   },\n",
      "   \"low_resolution\": {\n",
      "    \"width\": 320,\n",
      "    \"height\": 320,\n",
      "    \"url\": \"https://scontent.cdninstagram.com/vp/17274c98966870646818a7b4d477f80e/5D9A75AF/t51.2885-15/e15/s320x320/29088547_233732180535992_3639410606362066944_n.jpg?_nc_ht=scontent.cdninstagram.com\"\n",
      "   },\n",
      "   \"standard_resolution\": {\n",
      "    \"width\": 640,\n",
      "    \"height\": 640,\n",
      "    \"url\": \"https://scontent.cdninstagram.com/vp/e62dc2573c75ba2ecdf34679fa7c62c5/5D639F3E/t51.2885-15/e15/29088547_233732180535992_3639410606362066944_n.jpg?_nc_ht=scontent.cdninstagram.com\"\n",
      "   }\n",
      "  },\n",
      "  \"created_time\": \"1435176117\",\n",
      "  \"caption\": {\n",
      "   \"id\": \"17851459261053824\",\n",
      "   \"text\": \"Prom King and Queen of the Alumni Mixer \\ud83d\\udd25 #youknowhowthatshitgo\",\n",
      "   \"created_time\": \"1435176117\",\n",
      "   \"from\": {\n",
      "    \"id\": \"212661823\",\n",
      "    \"full_name\": \"Eric\",\n",
      "    \"profile_picture\": \"https://scontent.cdninstagram.com/vp/cf7b71616f4674af678e2a18b3d9e097/5D7D3389/t51.2885-19/s150x150/49791079_756619378047894_8616104119792304128_n.jpg?_nc_ht=scontent.cdninstagram.com\",\n",
      "    \"username\": \"ecmyhre\"\n",
      "   }\n",
      "  },\n",
      "  \"user_has_liked\": true,\n",
      "  \"likes\": {\n",
      "   \"count\": 113\n",
      "  },\n",
      "  \"tags\": [\n",
      "   \"youknowhowthatshitgo\"\n",
      "  ],\n",
      "  \"filter\": \"Reyes\",\n",
      "  \"comments\": {\n",
      "   \"count\": 1\n",
      "  },\n",
      "  \"type\": \"image\",\n",
      "  \"link\": \"https://www.instagram.com/p/4UxccjHIAk/\",\n",
      "  \"location\": null,\n",
      "  \"attribution\": null,\n",
      "  \"users_in_photo\": [\n",
      "   {\n",
      "    \"user\": {\n",
      "     \"username\": \"hello_hellookitty\"\n",
      "    },\n",
      "    \"position\": {\n",
      "     \"x\": 0.38266666666666604,\n",
      "     \"y\": 0.7986666666666661\n",
      "    }\n",
      "   }\n",
      "  ]\n",
      " },\n",
      " {\n",
      "  \"id\": \"1010453521601691807_212661823\",\n",
      "  \"user\": {\n",
      "   \"id\": \"212661823\",\n",
      "   \"full_name\": \"Eric\",\n",
      "   \"profile_picture\": \"https://scontent.cdninstagram.com/vp/cf7b71616f4674af678e2a18b3d9e097/5D7D3389/t51.2885-19/s150x150/49791079_756619378047894_8616104119792304128_n.jpg?_nc_ht=scontent.cdninstagram.com\",\n",
      "   \"username\": \"ecmyhre\"\n",
      "  },\n",
      "  \"images\": {\n",
      "   \"thumbnail\": {\n",
      "    \"width\": 150,\n",
      "    \"height\": 150,\n",
      "    \"url\": \"https://scontent.cdninstagram.com/vp/728def8279fd896b241bcac460736b5e/5D857CF7/t51.2885-15/e15/s150x150/29401675_1662230690533527_7033834710497230848_n.jpg?_nc_ht=scontent.cdninstagram.com\"\n",
      "   },\n",
      "   \"low_resolution\": {\n",
      "    \"width\": 320,\n",
      "    \"height\": 320,\n",
      "    \"url\": \"https://scontent.cdninstagram.com/vp/d15413f43854476e5dcfbf99cf2e5a44/5D7E328F/t51.2885-15/e15/s320x320/29401675_1662230690533527_7033834710497230848_n.jpg?_nc_ht=scontent.cdninstagram.com\"\n",
      "   },\n",
      "   \"standard_resolution\": {\n",
      "    \"width\": 640,\n",
      "    \"height\": 640,\n",
      "    \"url\": \"https://scontent.cdninstagram.com/vp/e3cedcd082598da90b2a9967a57f42d1/5D97AB1C/t51.2885-15/e15/29401675_1662230690533527_7033834710497230848_n.jpg?_nc_ht=scontent.cdninstagram.com\"\n",
      "   }\n",
      "  },\n",
      "  \"created_time\": \"1434675468\",\n",
      "  \"caption\": {\n",
      "   \"id\": \"17851457254053824\",\n",
      "   \"text\": \"Berg \\u2122\",\n",
      "   \"created_time\": \"1434675468\",\n",
      "   \"from\": {\n",
      "    \"id\": \"212661823\",\n",
      "    \"full_name\": \"Eric\",\n",
      "    \"profile_picture\": \"https://scontent.cdninstagram.com/vp/cf7b71616f4674af678e2a18b3d9e097/5D7D3389/t51.2885-19/s150x150/49791079_756619378047894_8616104119792304128_n.jpg?_nc_ht=scontent.cdninstagram.com\",\n",
      "    \"username\": \"ecmyhre\"\n",
      "   }\n",
      "  },\n",
      "  \"user_has_liked\": true,\n",
      "  \"likes\": {\n",
      "   \"count\": 168\n",
      "  },\n",
      "  \"tags\": [],\n",
      "  \"filter\": \"Normal\",\n",
      "  \"comments\": {\n",
      "   \"count\": 3\n",
      "  },\n",
      "  \"type\": \"image\",\n",
      "  \"link\": \"https://www.instagram.com/p/4F2h_RHICf/\",\n",
      "  \"location\": null,\n",
      "  \"attribution\": null,\n",
      "  \"users_in_photo\": []\n",
      " },\n",
      " {\n",
      "  \"id\": \"1008305335382606231_212661823\",\n",
      "  \"user\": {\n",
      "   \"id\": \"212661823\",\n",
      "   \"full_name\": \"Eric\",\n",
      "   \"profile_picture\": \"https://scontent.cdninstagram.com/vp/cf7b71616f4674af678e2a18b3d9e097/5D7D3389/t51.2885-19/s150x150/49791079_756619378047894_8616104119792304128_n.jpg?_nc_ht=scontent.cdninstagram.com\",\n",
      "   \"username\": \"ecmyhre\"\n",
      "  },\n",
      "  \"images\": {\n",
      "   \"thumbnail\": {\n",
      "    \"width\": 150,\n",
      "    \"height\": 150,\n",
      "    \"url\": \"https://scontent.cdninstagram.com/vp/3a6e28891ed103787e4c2079f5238e1d/5D7DB305/t51.2885-15/e15/s150x150/29092725_1902905709728872_7075162951698612224_n.jpg?_nc_ht=scontent.cdninstagram.com\"\n",
      "   },\n",
      "   \"low_resolution\": {\n",
      "    \"width\": 320,\n",
      "    \"height\": 320,\n",
      "    \"url\": \"https://scontent.cdninstagram.com/vp/76e2848f26ea767acc794e994a805429/5D7AE57D/t51.2885-15/e15/s320x320/29092725_1902905709728872_7075162951698612224_n.jpg?_nc_ht=scontent.cdninstagram.com\"\n",
      "   },\n",
      "   \"standard_resolution\": {\n",
      "    \"width\": 640,\n",
      "    \"height\": 640,\n",
      "    \"url\": \"https://scontent.cdninstagram.com/vp/62f8d8576e4c6b0f705886be1b07998d/5D7AA2EE/t51.2885-15/e15/29092725_1902905709728872_7075162951698612224_n.jpg?_nc_ht=scontent.cdninstagram.com\"\n",
      "   }\n",
      "  },\n",
      "  \"created_time\": \"1434419384\",\n",
      "  \"caption\": {\n",
      "   \"id\": \"17867516854053824\",\n",
      "   \"text\": \"Berg. so hot right now.\",\n",
      "   \"created_time\": \"1434419384\",\n",
      "   \"from\": {\n",
      "    \"id\": \"212661823\",\n",
      "    \"full_name\": \"Eric\",\n",
      "    \"profile_picture\": \"https://scontent.cdninstagram.com/vp/cf7b71616f4674af678e2a18b3d9e097/5D7D3389/t51.2885-19/s150x150/49791079_756619378047894_8616104119792304128_n.jpg?_nc_ht=scontent.cdninstagram.com\",\n",
      "    \"username\": \"ecmyhre\"\n",
      "   }\n",
      "  },\n",
      "  \"user_has_liked\": true,\n",
      "  \"likes\": {\n",
      "   \"count\": 307\n",
      "  },\n",
      "  \"tags\": [],\n",
      "  \"filter\": \"Normal\",\n",
      "  \"comments\": {\n",
      "   \"count\": 20\n",
      "  },\n",
      "  \"type\": \"image\",\n",
      "  \"link\": \"https://www.instagram.com/p/3-OFw8nIGX/\",\n",
      "  \"location\": null,\n",
      "  \"attribution\": null,\n",
      "  \"users_in_photo\": []\n",
      " },\n",
      " {\n",
      "  \"id\": \"1000824782353892250_212661823\",\n",
      "  \"user\": {\n",
      "   \"id\": \"212661823\",\n",
      "   \"full_name\": \"Eric\",\n",
      "   \"profile_picture\": \"https://scontent.cdninstagram.com/vp/cf7b71616f4674af678e2a18b3d9e097/5D7D3389/t51.2885-19/s150x150/49791079_756619378047894_8616104119792304128_n.jpg?_nc_ht=scontent.cdninstagram.com\",\n",
      "   \"username\": \"ecmyhre\"\n",
      "  },\n",
      "  \"images\": {\n",
      "   \"thumbnail\": {\n",
      "    \"width\": 150,\n",
      "    \"height\": 150,\n",
      "    \"url\": \"https://scontent.cdninstagram.com/vp/32140543cf9a7133ffc766f51b0ef899/5D8526A7/t51.2885-15/e15/s150x150/29093104_2003127789949396_4987008160859422720_n.jpg?_nc_ht=scontent.cdninstagram.com\"\n",
      "   },\n",
      "   \"low_resolution\": {\n",
      "    \"width\": 320,\n",
      "    \"height\": 320,\n",
      "    \"url\": \"https://scontent.cdninstagram.com/vp/84ec73e58cba8607ca6f042a427c572a/5D7ED9DF/t51.2885-15/e15/s320x320/29093104_2003127789949396_4987008160859422720_n.jpg?_nc_ht=scontent.cdninstagram.com\"\n",
      "   },\n",
      "   \"standard_resolution\": {\n",
      "    \"width\": 640,\n",
      "    \"height\": 640,\n",
      "    \"url\": \"https://scontent.cdninstagram.com/vp/81d8e9fd194cda00482ae2dc24eff897/5D60A84C/t51.2885-15/e15/29093104_2003127789949396_4987008160859422720_n.jpg?_nc_ht=scontent.cdninstagram.com\"\n",
      "   }\n",
      "  },\n",
      "  \"created_time\": \"1433527632\",\n",
      "  \"caption\": {\n",
      "   \"id\": \"17851452682053824\",\n",
      "   \"text\": \"We are all prestigious as fuck degree holding individuals now. #smarter #better #faster #stronger #thingsgotweirdthisweekend\",\n",
      "   \"created_time\": \"1433527632\",\n",
      "   \"from\": {\n",
      "    \"id\": \"212661823\",\n",
      "    \"full_name\": \"Eric\",\n",
      "    \"profile_picture\": \"https://scontent.cdninstagram.com/vp/cf7b71616f4674af678e2a18b3d9e097/5D7D3389/t51.2885-19/s150x150/49791079_756619378047894_8616104119792304128_n.jpg?_nc_ht=scontent.cdninstagram.com\",\n",
      "    \"username\": \"ecmyhre\"\n",
      "   }\n",
      "  },\n",
      "  \"user_has_liked\": true,\n",
      "  \"likes\": {\n",
      "   \"count\": 129\n",
      "  },\n",
      "  \"tags\": [\n",
      "   \"stronger\",\n",
      "   \"better\",\n",
      "   \"smarter\",\n",
      "   \"thingsgotweirdthisweekend\",\n",
      "   \"faster\"\n",
      "  ],\n",
      "  \"filter\": \"Normal\",\n",
      "  \"comments\": {\n",
      "   \"count\": 1\n",
      "  },\n",
      "  \"type\": \"image\",\n",
      "  \"link\": \"https://www.instagram.com/p/3jpNZCnIOa/\",\n",
      "  \"location\": null,\n",
      "  \"attribution\": null,\n",
      "  \"users_in_photo\": [\n",
      "   {\n",
      "    \"user\": {\n",
      "     \"username\": \"ccconnerrr\"\n",
      "    },\n",
      "    \"position\": {\n",
      "     \"x\": 0.5426666666666661,\n",
      "     \"y\": 0.38533333333333303\n",
      "    }\n",
      "   },\n",
      "   {\n",
      "    \"user\": {\n",
      "     \"username\": \"ossarg\"\n",
      "    },\n",
      "    \"position\": {\n",
      "     \"x\": 0.6533333333333331,\n",
      "     \"y\": 0.34800000000000003\n",
      "    }\n",
      "   },\n",
      "   {\n",
      "    \"user\": {\n",
      "     \"username\": \"tdoele\"\n",
      "    },\n",
      "    \"position\": {\n",
      "     \"x\": 0.5346666666666661,\n",
      "     \"y\": 0.74\n",
      "    }\n",
      "   },\n",
      "   {\n",
      "    \"user\": {\n",
      "     \"username\": \"srjohannsen\"\n",
      "    },\n",
      "    \"position\": {\n",
      "     \"x\": 0.776,\n",
      "     \"y\": 0.350666666666666\n",
      "    }\n",
      "   },\n",
      "   {\n",
      "    \"user\": {\n",
      "     \"username\": \"rosslefkowitz\"\n",
      "    },\n",
      "    \"position\": {\n",
      "     \"x\": 0.19733333333333303,\n",
      "     \"y\": 0.41733333333333306\n",
      "    }\n",
      "   },\n",
      "   {\n",
      "    \"user\": {\n",
      "     \"username\": \"meilzonwheelz\"\n",
      "    },\n",
      "    \"position\": {\n",
      "     \"x\": 0.23466666666666602,\n",
      "     \"y\": 0.689333333333333\n",
      "    }\n",
      "   },\n",
      "   {\n",
      "    \"user\": {\n",
      "     \"username\": \"sam_dejean\"\n",
      "    },\n",
      "    \"position\": {\n",
      "     \"x\": 0.464,\n",
      "     \"y\": 0.5760000000000001\n",
      "    }\n",
      "   },\n",
      "   {\n",
      "    \"user\": {\n",
      "     \"username\": \"aladdin_d3\"\n",
      "    },\n",
      "    \"position\": {\n",
      "     \"x\": 0.6000000000000001,\n",
      "     \"y\": 0.436\n",
      "    }\n",
      "   },\n",
      "   {\n",
      "    \"user\": {\n",
      "     \"username\": \"jaikliment\"\n",
      "    },\n",
      "    \"position\": {\n",
      "     \"x\": 0.72,\n",
      "     \"y\": 0.493333333333333\n",
      "    }\n",
      "   }\n",
      "  ]\n",
      " },\n",
      " {\n",
      "  \"id\": \"995891632041394702_212661823\",\n",
      "  \"user\": {\n",
      "   \"id\": \"212661823\",\n",
      "   \"full_name\": \"Eric\",\n",
      "   \"profile_picture\": \"https://scontent.cdninstagram.com/vp/cf7b71616f4674af678e2a18b3d9e097/5D7D3389/t51.2885-19/s150x150/49791079_756619378047894_8616104119792304128_n.jpg?_nc_ht=scontent.cdninstagram.com\",\n",
      "   \"username\": \"ecmyhre\"\n",
      "  },\n",
      "  \"images\": {\n",
      "   \"thumbnail\": {\n",
      "    \"width\": 150,\n",
      "    \"height\": 150,\n",
      "    \"url\": \"https://scontent.cdninstagram.com/vp/6adf5291ce9025447bd38632ea6d56aa/5D971B8F/t51.2885-15/e15/s150x150/28763961_407981026328785_6852091640358633472_n.jpg?_nc_ht=scontent.cdninstagram.com\"\n",
      "   },\n",
      "   \"low_resolution\": {\n",
      "    \"width\": 320,\n",
      "    \"height\": 320,\n",
      "    \"url\": \"https://scontent.cdninstagram.com/vp/2665c91269a37e5972fb3f63c6b2eff7/5D94E27F/t51.2885-15/e15/s320x320/28763961_407981026328785_6852091640358633472_n.jpg?_nc_ht=scontent.cdninstagram.com\"\n",
      "   },\n",
      "   \"standard_resolution\": {\n",
      "    \"width\": 640,\n",
      "    \"height\": 640,\n",
      "    \"url\": \"https://scontent.cdninstagram.com/vp/ca5a8f9b796399658da1ebbcd59e94ca/5D925EEE/t51.2885-15/e15/28763961_407981026328785_6852091640358633472_n.jpg?_nc_ht=scontent.cdninstagram.com\"\n",
      "   }\n",
      "  },\n",
      "  \"created_time\": \"1432939555\",\n",
      "  \"caption\": {\n",
      "   \"id\": \"17867514964053824\",\n",
      "   \"text\": \"\\u263a\\ufe0f\\u263a\\ufe0f\\u263a\\ufe0f\\u263a\\ufe0f\\u263a\\ufe0f\",\n",
      "   \"created_time\": \"1432939555\",\n",
      "   \"from\": {\n",
      "    \"id\": \"212661823\",\n",
      "    \"full_name\": \"Eric\",\n",
      "    \"profile_picture\": \"https://scontent.cdninstagram.com/vp/cf7b71616f4674af678e2a18b3d9e097/5D7D3389/t51.2885-19/s150x150/49791079_756619378047894_8616104119792304128_n.jpg?_nc_ht=scontent.cdninstagram.com\",\n",
      "    \"username\": \"ecmyhre\"\n",
      "   }\n",
      "  },\n",
      "  \"user_has_liked\": true,\n",
      "  \"likes\": {\n",
      "   \"count\": 140\n",
      "  },\n",
      "  \"tags\": [],\n",
      "  \"filter\": \"Normal\",\n",
      "  \"comments\": {\n",
      "   \"count\": 2\n",
      "  },\n",
      "  \"type\": \"image\",\n",
      "  \"link\": \"https://www.instagram.com/p/3SHimynIIO/\",\n",
      "  \"location\": {\n",
      "   \"latitude\": 39.68145,\n",
      "   \"longitude\": -75.752388833044,\n",
      "   \"name\": \"University of Delaware\",\n",
      "   \"id\": 213519809\n",
      "  },\n",
      "  \"attribution\": null,\n",
      "  \"users_in_photo\": []\n",
      " },\n",
      " {\n",
      "  \"id\": \"995502095351972595_212661823\",\n",
      "  \"user\": {\n",
      "   \"id\": \"212661823\",\n",
      "   \"full_name\": \"Eric\",\n",
      "   \"profile_picture\": \"https://scontent.cdninstagram.com/vp/cf7b71616f4674af678e2a18b3d9e097/5D7D3389/t51.2885-19/s150x150/49791079_756619378047894_8616104119792304128_n.jpg?_nc_ht=scontent.cdninstagram.com\",\n",
      "   \"username\": \"ecmyhre\"\n",
      "  },\n",
      "  \"images\": {\n",
      "   \"thumbnail\": {\n",
      "    \"width\": 150,\n",
      "    \"height\": 150,\n",
      "    \"url\": \"https://scontent.cdninstagram.com/vp/6a114fd277e10007eaf1541f0f4a28be/5D9C1DA0/t51.2885-15/e15/s150x150/28763236_159840978066855_1042299725635649536_n.jpg?_nc_ht=scontent.cdninstagram.com\"\n",
      "   },\n",
      "   \"low_resolution\": {\n",
      "    \"width\": 320,\n",
      "    \"height\": 320,\n",
      "    \"url\": \"https://scontent.cdninstagram.com/vp/c5a55c37af5de84f30f8a8aac2245b87/5D964750/t51.2885-15/e15/s320x320/28763236_159840978066855_1042299725635649536_n.jpg?_nc_ht=scontent.cdninstagram.com\"\n",
      "   },\n",
      "   \"standard_resolution\": {\n",
      "    \"width\": 640,\n",
      "    \"height\": 640,\n",
      "    \"url\": \"https://scontent.cdninstagram.com/vp/cb8b0a839236b9c20fb350ab9f7f8bfa/5D78D2C1/t51.2885-15/e15/28763236_159840978066855_1042299725635649536_n.jpg?_nc_ht=scontent.cdninstagram.com\"\n",
      "   }\n",
      "  },\n",
      "  \"created_time\": \"1432893119\",\n",
      "  \"caption\": null,\n",
      "  \"user_has_liked\": true,\n",
      "  \"likes\": {\n",
      "   \"count\": 58\n",
      "  },\n",
      "  \"tags\": [],\n",
      "  \"filter\": \"Normal\",\n",
      "  \"comments\": {\n",
      "   \"count\": 0\n",
      "  },\n",
      "  \"type\": \"image\",\n",
      "  \"link\": \"https://www.instagram.com/p/3Qu-GenILz/\",\n",
      "  \"location\": null,\n",
      "  \"attribution\": null,\n",
      "  \"users_in_photo\": []\n",
      " },\n",
      " {\n",
      "  \"id\": \"990868263172604713_212661823\",\n",
      "  \"user\": {\n",
      "   \"id\": \"212661823\",\n",
      "   \"full_name\": \"Eric\",\n",
      "   \"profile_picture\": \"https://scontent.cdninstagram.com/vp/cf7b71616f4674af678e2a18b3d9e097/5D7D3389/t51.2885-19/s150x150/49791079_756619378047894_8616104119792304128_n.jpg?_nc_ht=scontent.cdninstagram.com\",\n",
      "   \"username\": \"ecmyhre\"\n",
      "  },\n",
      "  \"images\": {\n",
      "   \"thumbnail\": {\n",
      "    \"width\": 150,\n",
      "    \"height\": 150,\n",
      "    \"url\": \"https://scontent.cdninstagram.com/vp/9ee892e3f00753dec852f3ad0942d83a/5D7D7959/t51.2885-15/e15/s150x150/29416264_1996661437260028_7181075002677002240_n.jpg?_nc_ht=scontent.cdninstagram.com\"\n",
      "   },\n",
      "   \"low_resolution\": {\n",
      "    \"width\": 320,\n",
      "    \"height\": 320,\n",
      "    \"url\": \"https://scontent.cdninstagram.com/vp/36c705604fcb4f752b8455aa724ed2e6/5D7E4221/t51.2885-15/e15/s320x320/29416264_1996661437260028_7181075002677002240_n.jpg?_nc_ht=scontent.cdninstagram.com\"\n",
      "   },\n",
      "   \"standard_resolution\": {\n",
      "    \"width\": 640,\n",
      "    \"height\": 640,\n",
      "    \"url\": \"https://scontent.cdninstagram.com/vp/0c35aefc7bc8f00167c36405cff7b483/5D8589B2/t51.2885-15/e15/29416264_1996661437260028_7181075002677002240_n.jpg?_nc_ht=scontent.cdninstagram.com\"\n",
      "   }\n",
      "  },\n",
      "  \"created_time\": \"1432340723\",\n",
      "  \"caption\": {\n",
      "   \"id\": \"17851447021053824\",\n",
      "   \"text\": \"Today looked like this #tombroketheboat\",\n",
      "   \"created_time\": \"1432340723\",\n",
      "   \"from\": {\n",
      "    \"id\": \"212661823\",\n",
      "    \"full_name\": \"Eric\",\n",
      "    \"profile_picture\": \"https://scontent.cdninstagram.com/vp/cf7b71616f4674af678e2a18b3d9e097/5D7D3389/t51.2885-19/s150x150/49791079_756619378047894_8616104119792304128_n.jpg?_nc_ht=scontent.cdninstagram.com\",\n",
      "    \"username\": \"ecmyhre\"\n",
      "   }\n",
      "  },\n",
      "  \"user_has_liked\": true,\n",
      "  \"likes\": {\n",
      "   \"count\": 65\n",
      "  },\n",
      "  \"tags\": [\n",
      "   \"tombroketheboat\"\n",
      "  ],\n",
      "  \"filter\": \"Perpetua\",\n",
      "  \"comments\": {\n",
      "   \"count\": 0\n",
      "  },\n",
      "  \"type\": \"image\",\n",
      "  \"link\": \"https://www.instagram.com/p/3ARW99nIMp/\",\n",
      "  \"location\": null,\n",
      "  \"attribution\": null,\n",
      "  \"users_in_photo\": [\n",
      "   {\n",
      "    \"user\": {\n",
      "     \"username\": \"meilzonwheelz\"\n",
      "    },\n",
      "    \"position\": {\n",
      "     \"x\": 0.638666666666666,\n",
      "     \"y\": 0.452\n",
      "    }\n",
      "   },\n",
      "   {\n",
      "    \"user\": {\n",
      "     \"username\": \"sam_dejean\"\n",
      "    },\n",
      "    \"position\": {\n",
      "     \"x\": 0.298666666666666,\n",
      "     \"y\": 0.6213333333333331\n",
      "    }\n",
      "   },\n",
      "   {\n",
      "    \"user\": {\n",
      "     \"username\": \"aladdin_d3\"\n",
      "    },\n",
      "    \"position\": {\n",
      "     \"x\": 0.732,\n",
      "     \"y\": 0.668\n",
      "    }\n",
      "   }\n",
      "  ]\n",
      " }\n",
      "]\n"
     ]
    }
   ],
   "source": [
    "print(json.dumps(recent_posts['data'], indent=1))"
   ]
  },
  {
   "cell_type": "code",
   "execution_count": 13,
   "metadata": {},
   "outputs": [
    {
     "name": "stdout",
     "output_type": "stream",
     "text": [
      "{\n",
      " \"id\": \"1940934739557126877_212661823\",\n",
      " \"user\": {\n",
      "  \"id\": \"212661823\",\n",
      "  \"full_name\": \"Eric\",\n",
      "  \"profile_picture\": \"https://scontent.cdninstagram.com/vp/cf7b71616f4674af678e2a18b3d9e097/5D7D3389/t51.2885-19/s150x150/49791079_756619378047894_8616104119792304128_n.jpg?_nc_ht=scontent.cdninstagram.com\",\n",
      "  \"username\": \"ecmyhre\"\n",
      " },\n",
      " \"images\": {\n",
      "  \"thumbnail\": {\n",
      "   \"width\": 150,\n",
      "   \"height\": 150,\n",
      "   \"url\": \"https://scontent.cdninstagram.com/vp/94d8d909835022b17858fa0f897e16f9/5D62ACC8/t51.2885-15/e35/s150x150/46965490_230358987873689_3246312774713462137_n.jpg?_nc_ht=scontent.cdninstagram.com\"\n",
      "  },\n",
      "  \"low_resolution\": {\n",
      "   \"width\": 320,\n",
      "   \"height\": 320,\n",
      "   \"url\": \"https://scontent.cdninstagram.com/vp/478e8aac67389f8e476e88526afb1ef6/5D79EC38/t51.2885-15/e35/s320x320/46965490_230358987873689_3246312774713462137_n.jpg?_nc_ht=scontent.cdninstagram.com\"\n",
      "  },\n",
      "  \"standard_resolution\": {\n",
      "   \"width\": 640,\n",
      "   \"height\": 640,\n",
      "   \"url\": \"https://scontent.cdninstagram.com/vp/51723ac1dfa50d7123da81f75165f1c9/5D91B06F/t51.2885-15/sh0.08/e35/s640x640/46965490_230358987873689_3246312774713462137_n.jpg?_nc_ht=scontent.cdninstagram.com\"\n",
      "  }\n",
      " },\n",
      " \"created_time\": \"1545597473\",\n",
      " \"caption\": {\n",
      "  \"id\": \"17994679921124977\",\n",
      "  \"text\": \"Be gay, do crimes.\",\n",
      "  \"created_time\": \"1545597473\",\n",
      "  \"from\": {\n",
      "   \"id\": \"212661823\",\n",
      "   \"full_name\": \"Eric\",\n",
      "   \"profile_picture\": \"https://scontent.cdninstagram.com/vp/cf7b71616f4674af678e2a18b3d9e097/5D7D3389/t51.2885-19/s150x150/49791079_756619378047894_8616104119792304128_n.jpg?_nc_ht=scontent.cdninstagram.com\",\n",
      "   \"username\": \"ecmyhre\"\n",
      "  }\n",
      " },\n",
      " \"user_has_liked\": true,\n",
      " \"likes\": {\n",
      "  \"count\": 113\n",
      " },\n",
      " \"tags\": [],\n",
      " \"filter\": \"Normal\",\n",
      " \"comments\": {\n",
      "  \"count\": 2\n",
      " },\n",
      " \"type\": \"image\",\n",
      " \"link\": \"https://www.instagram.com/p/BrvldyzhJLd/\",\n",
      " \"location\": null,\n",
      " \"attribution\": null,\n",
      " \"users_in_photo\": []\n",
      "}\n"
     ]
    }
   ],
   "source": [
    "print(json.dumps(recent_posts['data'][0], indent=1))"
   ]
  },
  {
   "cell_type": "code",
   "execution_count": 15,
   "metadata": {},
   "outputs": [
    {
     "name": "stdout",
     "output_type": "stream",
     "text": [
      "Iteration 1, loss = 2.08212650\n",
      "Iteration 2, loss = 1.03684958\n",
      "Iteration 3, loss = 0.46502758\n",
      "Iteration 4, loss = 0.29285682\n",
      "Iteration 5, loss = 0.22862621\n",
      "Iteration 6, loss = 0.18877491\n",
      "Iteration 7, loss = 0.15163667\n",
      "Iteration 8, loss = 0.13317189\n",
      "Iteration 9, loss = 0.11696284\n",
      "Iteration 10, loss = 0.09268670\n",
      "Iteration 11, loss = 0.08840361\n",
      "Iteration 12, loss = 0.08064708\n",
      "Iteration 13, loss = 0.06800582\n",
      "Iteration 14, loss = 0.06649765\n",
      "Iteration 15, loss = 0.05651331\n",
      "Iteration 16, loss = 0.05649585\n",
      "Iteration 17, loss = 0.06339016\n",
      "Iteration 18, loss = 0.06884457\n",
      "Training loss did not improve more than tol=0.000100 for two consecutive epochs. Stopping.\n"
     ]
    },
    {
     "data": {
      "text/plain": [
       "MLPClassifier(activation='relu', alpha=0.0001, batch_size='auto', beta_1=0.9,\n",
       "       beta_2=0.999, early_stopping=False, epsilon=1e-08,\n",
       "       hidden_layer_sizes=(100,), learning_rate='constant',\n",
       "       learning_rate_init=0.1, max_iter=100, momentum=0.9,\n",
       "       nesterovs_momentum=True, power_t=0.5, random_state=1, shuffle=True,\n",
       "       solver='adam', tol=0.0001, validation_fraction=0.1, verbose=10,\n",
       "       warm_start=False)"
      ]
     },
     "execution_count": 15,
     "metadata": {},
     "output_type": "execute_result"
    },
    {
     "name": "stdout",
     "output_type": "stream",
     "text": [
      "\n",
      "Training set score: 0.9806978470675576\n",
      "Test set score: 0.9577777777777777\n"
     ]
    }
   ],
   "source": [
    "from sklearn import datasets, metrics\n",
    "from sklearn.neural_network import MLPClassifier\n",
    "from sklearn.model_selection import train_test_split\n",
    "\n",
    "digits = datasets.load_digits()\n",
    "\n",
    "# Rescale the data and split into training and test sets\n",
    "X, y = digits.data / 255., digits.target\n",
    "X_train, X_test, y_train, y_test = train_test_split(X, y, test_size=0.25, random_state=42)\n",
    "\n",
    "\n",
    "mlp = MLPClassifier(hidden_layer_sizes=(100,), max_iter=100, alpha=1e-4,\n",
    "                    solver='adam', verbose=10, tol=1e-4, random_state=1,\n",
    "                    learning_rate_init=.1)\n",
    "\n",
    "mlp.fit(X_train, y_train)\n",
    "print()\n",
    "print(\"Training set score: {0}\".format(mlp.score(X_train, y_train)))\n",
    "print(\"Test set score: {0}\".format(mlp.score(X_test, y_test)))"
   ]
  },
  {
   "cell_type": "code",
   "execution_count": 16,
   "metadata": {},
   "outputs": [
    {
     "data": {
      "text/plain": [
       "<matplotlib.image.AxesImage at 0x1f87cccab70>"
      ]
     },
     "execution_count": 16,
     "metadata": {},
     "output_type": "execute_result"
    },
    {
     "data": {
      "text/plain": [
       "[]"
      ]
     },
     "execution_count": 16,
     "metadata": {},
     "output_type": "execute_result"
    },
    {
     "data": {
      "text/plain": [
       "[]"
      ]
     },
     "execution_count": 16,
     "metadata": {},
     "output_type": "execute_result"
    },
    {
     "data": {
      "text/plain": [
       "<matplotlib.image.AxesImage at 0x1f87cce3128>"
      ]
     },
     "execution_count": 16,
     "metadata": {},
     "output_type": "execute_result"
    },
    {
     "data": {
      "text/plain": [
       "[]"
      ]
     },
     "execution_count": 16,
     "metadata": {},
     "output_type": "execute_result"
    },
    {
     "data": {
      "text/plain": [
       "[]"
      ]
     },
     "execution_count": 16,
     "metadata": {},
     "output_type": "execute_result"
    },
    {
     "data": {
      "text/plain": [
       "<matplotlib.image.AxesImage at 0x1f87cce3400>"
      ]
     },
     "execution_count": 16,
     "metadata": {},
     "output_type": "execute_result"
    },
    {
     "data": {
      "text/plain": [
       "[]"
      ]
     },
     "execution_count": 16,
     "metadata": {},
     "output_type": "execute_result"
    },
    {
     "data": {
      "text/plain": [
       "[]"
      ]
     },
     "execution_count": 16,
     "metadata": {},
     "output_type": "execute_result"
    },
    {
     "data": {
      "text/plain": [
       "<matplotlib.image.AxesImage at 0x1f87cce3710>"
      ]
     },
     "execution_count": 16,
     "metadata": {},
     "output_type": "execute_result"
    },
    {
     "data": {
      "text/plain": [
       "[]"
      ]
     },
     "execution_count": 16,
     "metadata": {},
     "output_type": "execute_result"
    },
    {
     "data": {
      "text/plain": [
       "[]"
      ]
     },
     "execution_count": 16,
     "metadata": {},
     "output_type": "execute_result"
    },
    {
     "data": {
      "text/plain": [
       "<matplotlib.image.AxesImage at 0x1f87cce3518>"
      ]
     },
     "execution_count": 16,
     "metadata": {},
     "output_type": "execute_result"
    },
    {
     "data": {
      "text/plain": [
       "[]"
      ]
     },
     "execution_count": 16,
     "metadata": {},
     "output_type": "execute_result"
    },
    {
     "data": {
      "text/plain": [
       "[]"
      ]
     },
     "execution_count": 16,
     "metadata": {},
     "output_type": "execute_result"
    },
    {
     "data": {
      "text/plain": [
       "<matplotlib.image.AxesImage at 0x1f87cce3cc0>"
      ]
     },
     "execution_count": 16,
     "metadata": {},
     "output_type": "execute_result"
    },
    {
     "data": {
      "text/plain": [
       "[]"
      ]
     },
     "execution_count": 16,
     "metadata": {},
     "output_type": "execute_result"
    },
    {
     "data": {
      "text/plain": [
       "[]"
      ]
     },
     "execution_count": 16,
     "metadata": {},
     "output_type": "execute_result"
    },
    {
     "data": {
      "text/plain": [
       "<matplotlib.image.AxesImage at 0x1f87cce3f60>"
      ]
     },
     "execution_count": 16,
     "metadata": {},
     "output_type": "execute_result"
    },
    {
     "data": {
      "text/plain": [
       "[]"
      ]
     },
     "execution_count": 16,
     "metadata": {},
     "output_type": "execute_result"
    },
    {
     "data": {
      "text/plain": [
       "[]"
      ]
     },
     "execution_count": 16,
     "metadata": {},
     "output_type": "execute_result"
    },
    {
     "data": {
      "text/plain": [
       "<matplotlib.image.AxesImage at 0x1f87cceb278>"
      ]
     },
     "execution_count": 16,
     "metadata": {},
     "output_type": "execute_result"
    },
    {
     "data": {
      "text/plain": [
       "[]"
      ]
     },
     "execution_count": 16,
     "metadata": {},
     "output_type": "execute_result"
    },
    {
     "data": {
      "text/plain": [
       "[]"
      ]
     },
     "execution_count": 16,
     "metadata": {},
     "output_type": "execute_result"
    },
    {
     "data": {
      "text/plain": [
       "<matplotlib.image.AxesImage at 0x1f87cceb588>"
      ]
     },
     "execution_count": 16,
     "metadata": {},
     "output_type": "execute_result"
    },
    {
     "data": {
      "text/plain": [
       "[]"
      ]
     },
     "execution_count": 16,
     "metadata": {},
     "output_type": "execute_result"
    },
    {
     "data": {
      "text/plain": [
       "[]"
      ]
     },
     "execution_count": 16,
     "metadata": {},
     "output_type": "execute_result"
    },
    {
     "data": {
      "text/plain": [
       "<matplotlib.image.AxesImage at 0x1f87cceb860>"
      ]
     },
     "execution_count": 16,
     "metadata": {},
     "output_type": "execute_result"
    },
    {
     "data": {
      "text/plain": [
       "[]"
      ]
     },
     "execution_count": 16,
     "metadata": {},
     "output_type": "execute_result"
    },
    {
     "data": {
      "text/plain": [
       "[]"
      ]
     },
     "execution_count": 16,
     "metadata": {},
     "output_type": "execute_result"
    },
    {
     "data": {
      "text/plain": [
       "<matplotlib.image.AxesImage at 0x1f87cceb780>"
      ]
     },
     "execution_count": 16,
     "metadata": {},
     "output_type": "execute_result"
    },
    {
     "data": {
      "text/plain": [
       "[]"
      ]
     },
     "execution_count": 16,
     "metadata": {},
     "output_type": "execute_result"
    },
    {
     "data": {
      "text/plain": [
       "[]"
      ]
     },
     "execution_count": 16,
     "metadata": {},
     "output_type": "execute_result"
    },
    {
     "data": {
      "text/plain": [
       "<matplotlib.image.AxesImage at 0x1f87ccebe10>"
      ]
     },
     "execution_count": 16,
     "metadata": {},
     "output_type": "execute_result"
    },
    {
     "data": {
      "text/plain": [
       "[]"
      ]
     },
     "execution_count": 16,
     "metadata": {},
     "output_type": "execute_result"
    },
    {
     "data": {
      "text/plain": [
       "[]"
      ]
     },
     "execution_count": 16,
     "metadata": {},
     "output_type": "execute_result"
    },
    {
     "data": {
      "text/plain": [
       "<matplotlib.image.AxesImage at 0x1f87ccebf28>"
      ]
     },
     "execution_count": 16,
     "metadata": {},
     "output_type": "execute_result"
    },
    {
     "data": {
      "text/plain": [
       "[]"
      ]
     },
     "execution_count": 16,
     "metadata": {},
     "output_type": "execute_result"
    },
    {
     "data": {
      "text/plain": [
       "[]"
      ]
     },
     "execution_count": 16,
     "metadata": {},
     "output_type": "execute_result"
    },
    {
     "data": {
      "text/plain": [
       "<matplotlib.image.AxesImage at 0x1f87ccf3400>"
      ]
     },
     "execution_count": 16,
     "metadata": {},
     "output_type": "execute_result"
    },
    {
     "data": {
      "text/plain": [
       "[]"
      ]
     },
     "execution_count": 16,
     "metadata": {},
     "output_type": "execute_result"
    },
    {
     "data": {
      "text/plain": [
       "[]"
      ]
     },
     "execution_count": 16,
     "metadata": {},
     "output_type": "execute_result"
    },
    {
     "data": {
      "text/plain": [
       "<matplotlib.image.AxesImage at 0x1f87ccf36d8>"
      ]
     },
     "execution_count": 16,
     "metadata": {},
     "output_type": "execute_result"
    },
    {
     "data": {
      "text/plain": [
       "[]"
      ]
     },
     "execution_count": 16,
     "metadata": {},
     "output_type": "execute_result"
    },
    {
     "data": {
      "text/plain": [
       "[]"
      ]
     },
     "execution_count": 16,
     "metadata": {},
     "output_type": "execute_result"
    },
    {
     "data": {
      "text/plain": [
       "<matplotlib.image.AxesImage at 0x1f87ccf39b0>"
      ]
     },
     "execution_count": 16,
     "metadata": {},
     "output_type": "execute_result"
    },
    {
     "data": {
      "text/plain": [
       "[]"
      ]
     },
     "execution_count": 16,
     "metadata": {},
     "output_type": "execute_result"
    },
    {
     "data": {
      "text/plain": [
       "[]"
      ]
     },
     "execution_count": 16,
     "metadata": {},
     "output_type": "execute_result"
    },
    {
     "data": {
      "text/plain": [
       "<matplotlib.image.AxesImage at 0x1f87ccf3c88>"
      ]
     },
     "execution_count": 16,
     "metadata": {},
     "output_type": "execute_result"
    },
    {
     "data": {
      "text/plain": [
       "[]"
      ]
     },
     "execution_count": 16,
     "metadata": {},
     "output_type": "execute_result"
    },
    {
     "data": {
      "text/plain": [
       "[]"
      ]
     },
     "execution_count": 16,
     "metadata": {},
     "output_type": "execute_result"
    },
    {
     "data": {
      "text/plain": [
       "<matplotlib.image.AxesImage at 0x1f87ccf3e80>"
      ]
     },
     "execution_count": 16,
     "metadata": {},
     "output_type": "execute_result"
    },
    {
     "data": {
      "text/plain": [
       "[]"
      ]
     },
     "execution_count": 16,
     "metadata": {},
     "output_type": "execute_result"
    },
    {
     "data": {
      "text/plain": [
       "[]"
      ]
     },
     "execution_count": 16,
     "metadata": {},
     "output_type": "execute_result"
    },
    {
     "data": {
      "text/plain": [
       "<matplotlib.image.AxesImage at 0x1f87cd021d0>"
      ]
     },
     "execution_count": 16,
     "metadata": {},
     "output_type": "execute_result"
    },
    {
     "data": {
      "text/plain": [
       "[]"
      ]
     },
     "execution_count": 16,
     "metadata": {},
     "output_type": "execute_result"
    },
    {
     "data": {
      "text/plain": [
       "[]"
      ]
     },
     "execution_count": 16,
     "metadata": {},
     "output_type": "execute_result"
    },
    {
     "data": {
      "text/plain": [
       "<matplotlib.image.AxesImage at 0x1f87cd02550>"
      ]
     },
     "execution_count": 16,
     "metadata": {},
     "output_type": "execute_result"
    },
    {
     "data": {
      "text/plain": [
       "[]"
      ]
     },
     "execution_count": 16,
     "metadata": {},
     "output_type": "execute_result"
    },
    {
     "data": {
      "text/plain": [
       "[]"
      ]
     },
     "execution_count": 16,
     "metadata": {},
     "output_type": "execute_result"
    },
    {
     "data": {
      "text/plain": [
       "<matplotlib.image.AxesImage at 0x1f87cd02828>"
      ]
     },
     "execution_count": 16,
     "metadata": {},
     "output_type": "execute_result"
    },
    {
     "data": {
      "text/plain": [
       "[]"
      ]
     },
     "execution_count": 16,
     "metadata": {},
     "output_type": "execute_result"
    },
    {
     "data": {
      "text/plain": [
       "[]"
      ]
     },
     "execution_count": 16,
     "metadata": {},
     "output_type": "execute_result"
    },
    {
     "data": {
      "text/plain": [
       "<matplotlib.image.AxesImage at 0x1f87cd02b00>"
      ]
     },
     "execution_count": 16,
     "metadata": {},
     "output_type": "execute_result"
    },
    {
     "data": {
      "text/plain": [
       "[]"
      ]
     },
     "execution_count": 16,
     "metadata": {},
     "output_type": "execute_result"
    },
    {
     "data": {
      "text/plain": [
       "[]"
      ]
     },
     "execution_count": 16,
     "metadata": {},
     "output_type": "execute_result"
    },
    {
     "data": {
      "text/plain": [
       "<matplotlib.image.AxesImage at 0x1f87cd02dd8>"
      ]
     },
     "execution_count": 16,
     "metadata": {},
     "output_type": "execute_result"
    },
    {
     "data": {
      "text/plain": [
       "[]"
      ]
     },
     "execution_count": 16,
     "metadata": {},
     "output_type": "execute_result"
    },
    {
     "data": {
      "text/plain": [
       "[]"
      ]
     },
     "execution_count": 16,
     "metadata": {},
     "output_type": "execute_result"
    },
    {
     "data": {
      "text/plain": [
       "<matplotlib.image.AxesImage at 0x1f87cd02da0>"
      ]
     },
     "execution_count": 16,
     "metadata": {},
     "output_type": "execute_result"
    },
    {
     "data": {
      "text/plain": [
       "[]"
      ]
     },
     "execution_count": 16,
     "metadata": {},
     "output_type": "execute_result"
    },
    {
     "data": {
      "text/plain": [
       "[]"
      ]
     },
     "execution_count": 16,
     "metadata": {},
     "output_type": "execute_result"
    },
    {
     "data": {
      "text/plain": [
       "<matplotlib.image.AxesImage at 0x1f87cd0b3c8>"
      ]
     },
     "execution_count": 16,
     "metadata": {},
     "output_type": "execute_result"
    },
    {
     "data": {
      "text/plain": [
       "[]"
      ]
     },
     "execution_count": 16,
     "metadata": {},
     "output_type": "execute_result"
    },
    {
     "data": {
      "text/plain": [
       "[]"
      ]
     },
     "execution_count": 16,
     "metadata": {},
     "output_type": "execute_result"
    },
    {
     "data": {
      "text/plain": [
       "<matplotlib.image.AxesImage at 0x1f87cd0b6a0>"
      ]
     },
     "execution_count": 16,
     "metadata": {},
     "output_type": "execute_result"
    },
    {
     "data": {
      "text/plain": [
       "[]"
      ]
     },
     "execution_count": 16,
     "metadata": {},
     "output_type": "execute_result"
    },
    {
     "data": {
      "text/plain": [
       "[]"
      ]
     },
     "execution_count": 16,
     "metadata": {},
     "output_type": "execute_result"
    },
    {
     "data": {
      "text/plain": [
       "<matplotlib.image.AxesImage at 0x1f87cd0b978>"
      ]
     },
     "execution_count": 16,
     "metadata": {},
     "output_type": "execute_result"
    },
    {
     "data": {
      "text/plain": [
       "[]"
      ]
     },
     "execution_count": 16,
     "metadata": {},
     "output_type": "execute_result"
    },
    {
     "data": {
      "text/plain": [
       "[]"
      ]
     },
     "execution_count": 16,
     "metadata": {},
     "output_type": "execute_result"
    },
    {
     "data": {
      "text/plain": [
       "<matplotlib.image.AxesImage at 0x1f87cd0bc50>"
      ]
     },
     "execution_count": 16,
     "metadata": {},
     "output_type": "execute_result"
    },
    {
     "data": {
      "text/plain": [
       "[]"
      ]
     },
     "execution_count": 16,
     "metadata": {},
     "output_type": "execute_result"
    },
    {
     "data": {
      "text/plain": [
       "[]"
      ]
     },
     "execution_count": 16,
     "metadata": {},
     "output_type": "execute_result"
    },
    {
     "data": {
      "text/plain": [
       "<matplotlib.image.AxesImage at 0x1f87cd0bf28>"
      ]
     },
     "execution_count": 16,
     "metadata": {},
     "output_type": "execute_result"
    },
    {
     "data": {
      "text/plain": [
       "[]"
      ]
     },
     "execution_count": 16,
     "metadata": {},
     "output_type": "execute_result"
    },
    {
     "data": {
      "text/plain": [
       "[]"
      ]
     },
     "execution_count": 16,
     "metadata": {},
     "output_type": "execute_result"
    },
    {
     "data": {
      "text/plain": [
       "<matplotlib.image.AxesImage at 0x1f87cd14208>"
      ]
     },
     "execution_count": 16,
     "metadata": {},
     "output_type": "execute_result"
    },
    {
     "data": {
      "text/plain": [
       "[]"
      ]
     },
     "execution_count": 16,
     "metadata": {},
     "output_type": "execute_result"
    },
    {
     "data": {
      "text/plain": [
       "[]"
      ]
     },
     "execution_count": 16,
     "metadata": {},
     "output_type": "execute_result"
    },
    {
     "data": {
      "text/plain": [
       "<matplotlib.image.AxesImage at 0x1f87cd14518>"
      ]
     },
     "execution_count": 16,
     "metadata": {},
     "output_type": "execute_result"
    },
    {
     "data": {
      "text/plain": [
       "[]"
      ]
     },
     "execution_count": 16,
     "metadata": {},
     "output_type": "execute_result"
    },
    {
     "data": {
      "text/plain": [
       "[]"
      ]
     },
     "execution_count": 16,
     "metadata": {},
     "output_type": "execute_result"
    },
    {
     "data": {
      "text/plain": [
       "<matplotlib.image.AxesImage at 0x1f87cd147b8>"
      ]
     },
     "execution_count": 16,
     "metadata": {},
     "output_type": "execute_result"
    },
    {
     "data": {
      "text/plain": [
       "[]"
      ]
     },
     "execution_count": 16,
     "metadata": {},
     "output_type": "execute_result"
    },
    {
     "data": {
      "text/plain": [
       "[]"
      ]
     },
     "execution_count": 16,
     "metadata": {},
     "output_type": "execute_result"
    },
    {
     "data": {
      "text/plain": [
       "<matplotlib.image.AxesImage at 0x1f87cd14a90>"
      ]
     },
     "execution_count": 16,
     "metadata": {},
     "output_type": "execute_result"
    },
    {
     "data": {
      "text/plain": [
       "[]"
      ]
     },
     "execution_count": 16,
     "metadata": {},
     "output_type": "execute_result"
    },
    {
     "data": {
      "text/plain": [
       "[]"
      ]
     },
     "execution_count": 16,
     "metadata": {},
     "output_type": "execute_result"
    },
    {
     "data": {
      "text/plain": [
       "<matplotlib.image.AxesImage at 0x1f87cd14da0>"
      ]
     },
     "execution_count": 16,
     "metadata": {},
     "output_type": "execute_result"
    },
    {
     "data": {
      "text/plain": [
       "[]"
      ]
     },
     "execution_count": 16,
     "metadata": {},
     "output_type": "execute_result"
    },
    {
     "data": {
      "text/plain": [
       "[]"
      ]
     },
     "execution_count": 16,
     "metadata": {},
     "output_type": "execute_result"
    },
    {
     "data": {
      "text/plain": [
       "<matplotlib.image.AxesImage at 0x1f87cd14748>"
      ]
     },
     "execution_count": 16,
     "metadata": {},
     "output_type": "execute_result"
    },
    {
     "data": {
      "text/plain": [
       "[]"
      ]
     },
     "execution_count": 16,
     "metadata": {},
     "output_type": "execute_result"
    },
    {
     "data": {
      "text/plain": [
       "[]"
      ]
     },
     "execution_count": 16,
     "metadata": {},
     "output_type": "execute_result"
    },
    {
     "data": {
      "text/plain": [
       "<matplotlib.image.AxesImage at 0x1f87cd1e390>"
      ]
     },
     "execution_count": 16,
     "metadata": {},
     "output_type": "execute_result"
    },
    {
     "data": {
      "text/plain": [
       "[]"
      ]
     },
     "execution_count": 16,
     "metadata": {},
     "output_type": "execute_result"
    },
    {
     "data": {
      "text/plain": [
       "[]"
      ]
     },
     "execution_count": 16,
     "metadata": {},
     "output_type": "execute_result"
    },
    {
     "data": {
      "text/plain": [
       "<matplotlib.image.AxesImage at 0x1f87cd1e048>"
      ]
     },
     "execution_count": 16,
     "metadata": {},
     "output_type": "execute_result"
    },
    {
     "data": {
      "text/plain": [
       "[]"
      ]
     },
     "execution_count": 16,
     "metadata": {},
     "output_type": "execute_result"
    },
    {
     "data": {
      "text/plain": [
       "[]"
      ]
     },
     "execution_count": 16,
     "metadata": {},
     "output_type": "execute_result"
    },
    {
     "data": {
      "text/plain": [
       "<matplotlib.image.AxesImage at 0x1f87cd1e940>"
      ]
     },
     "execution_count": 16,
     "metadata": {},
     "output_type": "execute_result"
    },
    {
     "data": {
      "text/plain": [
       "[]"
      ]
     },
     "execution_count": 16,
     "metadata": {},
     "output_type": "execute_result"
    },
    {
     "data": {
      "text/plain": [
       "[]"
      ]
     },
     "execution_count": 16,
     "metadata": {},
     "output_type": "execute_result"
    },
    {
     "data": {
      "text/plain": [
       "<matplotlib.image.AxesImage at 0x1f87cd1ea20>"
      ]
     },
     "execution_count": 16,
     "metadata": {},
     "output_type": "execute_result"
    },
    {
     "data": {
      "text/plain": [
       "[]"
      ]
     },
     "execution_count": 16,
     "metadata": {},
     "output_type": "execute_result"
    },
    {
     "data": {
      "text/plain": [
       "[]"
      ]
     },
     "execution_count": 16,
     "metadata": {},
     "output_type": "execute_result"
    },
    {
     "data": {
      "text/plain": [
       "<matplotlib.image.AxesImage at 0x1f87cd1eeb8>"
      ]
     },
     "execution_count": 16,
     "metadata": {},
     "output_type": "execute_result"
    },
    {
     "data": {
      "text/plain": [
       "[]"
      ]
     },
     "execution_count": 16,
     "metadata": {},
     "output_type": "execute_result"
    },
    {
     "data": {
      "text/plain": [
       "[]"
      ]
     },
     "execution_count": 16,
     "metadata": {},
     "output_type": "execute_result"
    },
    {
     "data": {
      "text/plain": [
       "<matplotlib.image.AxesImage at 0x1f87cd1ee80>"
      ]
     },
     "execution_count": 16,
     "metadata": {},
     "output_type": "execute_result"
    },
    {
     "data": {
      "text/plain": [
       "[]"
      ]
     },
     "execution_count": 16,
     "metadata": {},
     "output_type": "execute_result"
    },
    {
     "data": {
      "text/plain": [
       "[]"
      ]
     },
     "execution_count": 16,
     "metadata": {},
     "output_type": "execute_result"
    },
    {
     "data": {
      "text/plain": [
       "<matplotlib.image.AxesImage at 0x1f87cd264e0>"
      ]
     },
     "execution_count": 16,
     "metadata": {},
     "output_type": "execute_result"
    },
    {
     "data": {
      "text/plain": [
       "[]"
      ]
     },
     "execution_count": 16,
     "metadata": {},
     "output_type": "execute_result"
    },
    {
     "data": {
      "text/plain": [
       "[]"
      ]
     },
     "execution_count": 16,
     "metadata": {},
     "output_type": "execute_result"
    },
    {
     "data": {
      "text/plain": [
       "<matplotlib.image.AxesImage at 0x1f87cd267b8>"
      ]
     },
     "execution_count": 16,
     "metadata": {},
     "output_type": "execute_result"
    },
    {
     "data": {
      "text/plain": [
       "[]"
      ]
     },
     "execution_count": 16,
     "metadata": {},
     "output_type": "execute_result"
    },
    {
     "data": {
      "text/plain": [
       "[]"
      ]
     },
     "execution_count": 16,
     "metadata": {},
     "output_type": "execute_result"
    },
    {
     "data": {
      "text/plain": [
       "<matplotlib.image.AxesImage at 0x1f87cd26a90>"
      ]
     },
     "execution_count": 16,
     "metadata": {},
     "output_type": "execute_result"
    },
    {
     "data": {
      "text/plain": [
       "[]"
      ]
     },
     "execution_count": 16,
     "metadata": {},
     "output_type": "execute_result"
    },
    {
     "data": {
      "text/plain": [
       "[]"
      ]
     },
     "execution_count": 16,
     "metadata": {},
     "output_type": "execute_result"
    },
    {
     "data": {
      "text/plain": [
       "<matplotlib.image.AxesImage at 0x1f87cd26d68>"
      ]
     },
     "execution_count": 16,
     "metadata": {},
     "output_type": "execute_result"
    },
    {
     "data": {
      "text/plain": [
       "[]"
      ]
     },
     "execution_count": 16,
     "metadata": {},
     "output_type": "execute_result"
    },
    {
     "data": {
      "text/plain": [
       "[]"
      ]
     },
     "execution_count": 16,
     "metadata": {},
     "output_type": "execute_result"
    },
    {
     "data": {
      "text/plain": [
       "<matplotlib.image.AxesImage at 0x1f87cd26cf8>"
      ]
     },
     "execution_count": 16,
     "metadata": {},
     "output_type": "execute_result"
    },
    {
     "data": {
      "text/plain": [
       "[]"
      ]
     },
     "execution_count": 16,
     "metadata": {},
     "output_type": "execute_result"
    },
    {
     "data": {
      "text/plain": [
       "[]"
      ]
     },
     "execution_count": 16,
     "metadata": {},
     "output_type": "execute_result"
    },
    {
     "data": {
      "text/plain": [
       "<matplotlib.image.AxesImage at 0x1f87cd36358>"
      ]
     },
     "execution_count": 16,
     "metadata": {},
     "output_type": "execute_result"
    },
    {
     "data": {
      "text/plain": [
       "[]"
      ]
     },
     "execution_count": 16,
     "metadata": {},
     "output_type": "execute_result"
    },
    {
     "data": {
      "text/plain": [
       "[]"
      ]
     },
     "execution_count": 16,
     "metadata": {},
     "output_type": "execute_result"
    },
    {
     "data": {
      "text/plain": [
       "<matplotlib.image.AxesImage at 0x1f87cd365f8>"
      ]
     },
     "execution_count": 16,
     "metadata": {},
     "output_type": "execute_result"
    },
    {
     "data": {
      "text/plain": [
       "[]"
      ]
     },
     "execution_count": 16,
     "metadata": {},
     "output_type": "execute_result"
    },
    {
     "data": {
      "text/plain": [
       "[]"
      ]
     },
     "execution_count": 16,
     "metadata": {},
     "output_type": "execute_result"
    },
    {
     "data": {
      "text/plain": [
       "<matplotlib.image.AxesImage at 0x1f87cd36908>"
      ]
     },
     "execution_count": 16,
     "metadata": {},
     "output_type": "execute_result"
    },
    {
     "data": {
      "text/plain": [
       "[]"
      ]
     },
     "execution_count": 16,
     "metadata": {},
     "output_type": "execute_result"
    },
    {
     "data": {
      "text/plain": [
       "[]"
      ]
     },
     "execution_count": 16,
     "metadata": {},
     "output_type": "execute_result"
    },
    {
     "data": {
      "text/plain": [
       "<matplotlib.image.AxesImage at 0x1f87cd36be0>"
      ]
     },
     "execution_count": 16,
     "metadata": {},
     "output_type": "execute_result"
    },
    {
     "data": {
      "text/plain": [
       "[]"
      ]
     },
     "execution_count": 16,
     "metadata": {},
     "output_type": "execute_result"
    },
    {
     "data": {
      "text/plain": [
       "[]"
      ]
     },
     "execution_count": 16,
     "metadata": {},
     "output_type": "execute_result"
    },
    {
     "data": {
      "text/plain": [
       "<matplotlib.image.AxesImage at 0x1f87cd36860>"
      ]
     },
     "execution_count": 16,
     "metadata": {},
     "output_type": "execute_result"
    },
    {
     "data": {
      "text/plain": [
       "[]"
      ]
     },
     "execution_count": 16,
     "metadata": {},
     "output_type": "execute_result"
    },
    {
     "data": {
      "text/plain": [
       "[]"
      ]
     },
     "execution_count": 16,
     "metadata": {},
     "output_type": "execute_result"
    },
    {
     "data": {
      "text/plain": [
       "<matplotlib.image.AxesImage at 0x1f87cd3e1d0>"
      ]
     },
     "execution_count": 16,
     "metadata": {},
     "output_type": "execute_result"
    },
    {
     "data": {
      "text/plain": [
       "[]"
      ]
     },
     "execution_count": 16,
     "metadata": {},
     "output_type": "execute_result"
    },
    {
     "data": {
      "text/plain": [
       "[]"
      ]
     },
     "execution_count": 16,
     "metadata": {},
     "output_type": "execute_result"
    },
    {
     "data": {
      "text/plain": [
       "<matplotlib.image.AxesImage at 0x1f87cd3e4a8>"
      ]
     },
     "execution_count": 16,
     "metadata": {},
     "output_type": "execute_result"
    },
    {
     "data": {
      "text/plain": [
       "[]"
      ]
     },
     "execution_count": 16,
     "metadata": {},
     "output_type": "execute_result"
    },
    {
     "data": {
      "text/plain": [
       "[]"
      ]
     },
     "execution_count": 16,
     "metadata": {},
     "output_type": "execute_result"
    },
    {
     "data": {
      "text/plain": [
       "<matplotlib.image.AxesImage at 0x1f87cd3e748>"
      ]
     },
     "execution_count": 16,
     "metadata": {},
     "output_type": "execute_result"
    },
    {
     "data": {
      "text/plain": [
       "[]"
      ]
     },
     "execution_count": 16,
     "metadata": {},
     "output_type": "execute_result"
    },
    {
     "data": {
      "text/plain": [
       "[]"
      ]
     },
     "execution_count": 16,
     "metadata": {},
     "output_type": "execute_result"
    },
    {
     "data": {
      "text/plain": [
       "<matplotlib.image.AxesImage at 0x1f87cd3ea58>"
      ]
     },
     "execution_count": 16,
     "metadata": {},
     "output_type": "execute_result"
    },
    {
     "data": {
      "text/plain": [
       "[]"
      ]
     },
     "execution_count": 16,
     "metadata": {},
     "output_type": "execute_result"
    },
    {
     "data": {
      "text/plain": [
       "[]"
      ]
     },
     "execution_count": 16,
     "metadata": {},
     "output_type": "execute_result"
    },
    {
     "data": {
      "text/plain": [
       "<matplotlib.image.AxesImage at 0x1f87cd3ecf8>"
      ]
     },
     "execution_count": 16,
     "metadata": {},
     "output_type": "execute_result"
    },
    {
     "data": {
      "text/plain": [
       "[]"
      ]
     },
     "execution_count": 16,
     "metadata": {},
     "output_type": "execute_result"
    },
    {
     "data": {
      "text/plain": [
       "[]"
      ]
     },
     "execution_count": 16,
     "metadata": {},
     "output_type": "execute_result"
    },
    {
     "data": {
      "text/plain": [
       "<matplotlib.image.AxesImage at 0x1f87cd3ec88>"
      ]
     },
     "execution_count": 16,
     "metadata": {},
     "output_type": "execute_result"
    },
    {
     "data": {
      "text/plain": [
       "[]"
      ]
     },
     "execution_count": 16,
     "metadata": {},
     "output_type": "execute_result"
    },
    {
     "data": {
      "text/plain": [
       "[]"
      ]
     },
     "execution_count": 16,
     "metadata": {},
     "output_type": "execute_result"
    },
    {
     "data": {
      "text/plain": [
       "<matplotlib.image.AxesImage at 0x1f87cd472b0>"
      ]
     },
     "execution_count": 16,
     "metadata": {},
     "output_type": "execute_result"
    },
    {
     "data": {
      "text/plain": [
       "[]"
      ]
     },
     "execution_count": 16,
     "metadata": {},
     "output_type": "execute_result"
    },
    {
     "data": {
      "text/plain": [
       "[]"
      ]
     },
     "execution_count": 16,
     "metadata": {},
     "output_type": "execute_result"
    },
    {
     "data": {
      "text/plain": [
       "<matplotlib.image.AxesImage at 0x1f87cd475f8>"
      ]
     },
     "execution_count": 16,
     "metadata": {},
     "output_type": "execute_result"
    },
    {
     "data": {
      "text/plain": [
       "[]"
      ]
     },
     "execution_count": 16,
     "metadata": {},
     "output_type": "execute_result"
    },
    {
     "data": {
      "text/plain": [
       "[]"
      ]
     },
     "execution_count": 16,
     "metadata": {},
     "output_type": "execute_result"
    },
    {
     "data": {
      "text/plain": [
       "<matplotlib.image.AxesImage at 0x1f87cd478d0>"
      ]
     },
     "execution_count": 16,
     "metadata": {},
     "output_type": "execute_result"
    },
    {
     "data": {
      "text/plain": [
       "[]"
      ]
     },
     "execution_count": 16,
     "metadata": {},
     "output_type": "execute_result"
    },
    {
     "data": {
      "text/plain": [
       "[]"
      ]
     },
     "execution_count": 16,
     "metadata": {},
     "output_type": "execute_result"
    },
    {
     "data": {
      "text/plain": [
       "<matplotlib.image.AxesImage at 0x1f87cd47ba8>"
      ]
     },
     "execution_count": 16,
     "metadata": {},
     "output_type": "execute_result"
    },
    {
     "data": {
      "text/plain": [
       "[]"
      ]
     },
     "execution_count": 16,
     "metadata": {},
     "output_type": "execute_result"
    },
    {
     "data": {
      "text/plain": [
       "[]"
      ]
     },
     "execution_count": 16,
     "metadata": {},
     "output_type": "execute_result"
    },
    {
     "data": {
      "text/plain": [
       "<matplotlib.image.AxesImage at 0x1f87cd47da0>"
      ]
     },
     "execution_count": 16,
     "metadata": {},
     "output_type": "execute_result"
    },
    {
     "data": {
      "text/plain": [
       "[]"
      ]
     },
     "execution_count": 16,
     "metadata": {},
     "output_type": "execute_result"
    },
    {
     "data": {
      "text/plain": [
       "[]"
      ]
     },
     "execution_count": 16,
     "metadata": {},
     "output_type": "execute_result"
    },
    {
     "data": {
      "text/plain": [
       "<matplotlib.image.AxesImage at 0x1f87cd47828>"
      ]
     },
     "execution_count": 16,
     "metadata": {},
     "output_type": "execute_result"
    },
    {
     "data": {
      "text/plain": [
       "[]"
      ]
     },
     "execution_count": 16,
     "metadata": {},
     "output_type": "execute_result"
    },
    {
     "data": {
      "text/plain": [
       "[]"
      ]
     },
     "execution_count": 16,
     "metadata": {},
     "output_type": "execute_result"
    },
    {
     "data": {
      "text/plain": [
       "<matplotlib.image.AxesImage at 0x1f87cd53438>"
      ]
     },
     "execution_count": 16,
     "metadata": {},
     "output_type": "execute_result"
    },
    {
     "data": {
      "text/plain": [
       "[]"
      ]
     },
     "execution_count": 16,
     "metadata": {},
     "output_type": "execute_result"
    },
    {
     "data": {
      "text/plain": [
       "[]"
      ]
     },
     "execution_count": 16,
     "metadata": {},
     "output_type": "execute_result"
    },
    {
     "data": {
      "text/plain": [
       "<matplotlib.image.AxesImage at 0x1f87cd53748>"
      ]
     },
     "execution_count": 16,
     "metadata": {},
     "output_type": "execute_result"
    },
    {
     "data": {
      "text/plain": [
       "[]"
      ]
     },
     "execution_count": 16,
     "metadata": {},
     "output_type": "execute_result"
    },
    {
     "data": {
      "text/plain": [
       "[]"
      ]
     },
     "execution_count": 16,
     "metadata": {},
     "output_type": "execute_result"
    },
    {
     "data": {
      "text/plain": [
       "<matplotlib.image.AxesImage at 0x1f87cd53a20>"
      ]
     },
     "execution_count": 16,
     "metadata": {},
     "output_type": "execute_result"
    },
    {
     "data": {
      "text/plain": [
       "[]"
      ]
     },
     "execution_count": 16,
     "metadata": {},
     "output_type": "execute_result"
    },
    {
     "data": {
      "text/plain": [
       "[]"
      ]
     },
     "execution_count": 16,
     "metadata": {},
     "output_type": "execute_result"
    },
    {
     "data": {
      "text/plain": [
       "<matplotlib.image.AxesImage at 0x1f87cd53cf8>"
      ]
     },
     "execution_count": 16,
     "metadata": {},
     "output_type": "execute_result"
    },
    {
     "data": {
      "text/plain": [
       "[]"
      ]
     },
     "execution_count": 16,
     "metadata": {},
     "output_type": "execute_result"
    },
    {
     "data": {
      "text/plain": [
       "[]"
      ]
     },
     "execution_count": 16,
     "metadata": {},
     "output_type": "execute_result"
    },
    {
     "data": {
      "text/plain": [
       "<matplotlib.image.AxesImage at 0x1f87cd53f98>"
      ]
     },
     "execution_count": 16,
     "metadata": {},
     "output_type": "execute_result"
    },
    {
     "data": {
      "text/plain": [
       "[]"
      ]
     },
     "execution_count": 16,
     "metadata": {},
     "output_type": "execute_result"
    },
    {
     "data": {
      "text/plain": [
       "[]"
      ]
     },
     "execution_count": 16,
     "metadata": {},
     "output_type": "execute_result"
    },
    {
     "data": {
      "text/plain": [
       "<matplotlib.image.AxesImage at 0x1f87cd5b2e8>"
      ]
     },
     "execution_count": 16,
     "metadata": {},
     "output_type": "execute_result"
    },
    {
     "data": {
      "text/plain": [
       "[]"
      ]
     },
     "execution_count": 16,
     "metadata": {},
     "output_type": "execute_result"
    },
    {
     "data": {
      "text/plain": [
       "[]"
      ]
     },
     "execution_count": 16,
     "metadata": {},
     "output_type": "execute_result"
    },
    {
     "data": {
      "text/plain": [
       "<matplotlib.image.AxesImage at 0x1f87cd5b5c0>"
      ]
     },
     "execution_count": 16,
     "metadata": {},
     "output_type": "execute_result"
    },
    {
     "data": {
      "text/plain": [
       "[]"
      ]
     },
     "execution_count": 16,
     "metadata": {},
     "output_type": "execute_result"
    },
    {
     "data": {
      "text/plain": [
       "[]"
      ]
     },
     "execution_count": 16,
     "metadata": {},
     "output_type": "execute_result"
    },
    {
     "data": {
      "text/plain": [
       "<matplotlib.image.AxesImage at 0x1f87cd5b898>"
      ]
     },
     "execution_count": 16,
     "metadata": {},
     "output_type": "execute_result"
    },
    {
     "data": {
      "text/plain": [
       "[]"
      ]
     },
     "execution_count": 16,
     "metadata": {},
     "output_type": "execute_result"
    },
    {
     "data": {
      "text/plain": [
       "[]"
      ]
     },
     "execution_count": 16,
     "metadata": {},
     "output_type": "execute_result"
    },
    {
     "data": {
      "text/plain": [
       "<matplotlib.image.AxesImage at 0x1f87cd5bb38>"
      ]
     },
     "execution_count": 16,
     "metadata": {},
     "output_type": "execute_result"
    },
    {
     "data": {
      "text/plain": [
       "[]"
      ]
     },
     "execution_count": 16,
     "metadata": {},
     "output_type": "execute_result"
    },
    {
     "data": {
      "text/plain": [
       "[]"
      ]
     },
     "execution_count": 16,
     "metadata": {},
     "output_type": "execute_result"
    },
    {
     "data": {
      "text/plain": [
       "<matplotlib.image.AxesImage at 0x1f87cd5be10>"
      ]
     },
     "execution_count": 16,
     "metadata": {},
     "output_type": "execute_result"
    },
    {
     "data": {
      "text/plain": [
       "[]"
      ]
     },
     "execution_count": 16,
     "metadata": {},
     "output_type": "execute_result"
    },
    {
     "data": {
      "text/plain": [
       "[]"
      ]
     },
     "execution_count": 16,
     "metadata": {},
     "output_type": "execute_result"
    },
    {
     "data": {
      "text/plain": [
       "<matplotlib.image.AxesImage at 0x1f87cd660f0>"
      ]
     },
     "execution_count": 16,
     "metadata": {},
     "output_type": "execute_result"
    },
    {
     "data": {
      "text/plain": [
       "[]"
      ]
     },
     "execution_count": 16,
     "metadata": {},
     "output_type": "execute_result"
    },
    {
     "data": {
      "text/plain": [
       "[]"
      ]
     },
     "execution_count": 16,
     "metadata": {},
     "output_type": "execute_result"
    },
    {
     "data": {
      "text/plain": [
       "<matplotlib.image.AxesImage at 0x1f87cd66358>"
      ]
     },
     "execution_count": 16,
     "metadata": {},
     "output_type": "execute_result"
    },
    {
     "data": {
      "text/plain": [
       "[]"
      ]
     },
     "execution_count": 16,
     "metadata": {},
     "output_type": "execute_result"
    },
    {
     "data": {
      "text/plain": [
       "[]"
      ]
     },
     "execution_count": 16,
     "metadata": {},
     "output_type": "execute_result"
    },
    {
     "data": {
      "text/plain": [
       "<matplotlib.image.AxesImage at 0x1f87cd663c8>"
      ]
     },
     "execution_count": 16,
     "metadata": {},
     "output_type": "execute_result"
    },
    {
     "data": {
      "text/plain": [
       "[]"
      ]
     },
     "execution_count": 16,
     "metadata": {},
     "output_type": "execute_result"
    },
    {
     "data": {
      "text/plain": [
       "[]"
      ]
     },
     "execution_count": 16,
     "metadata": {},
     "output_type": "execute_result"
    },
    {
     "data": {
      "text/plain": [
       "<matplotlib.image.AxesImage at 0x1f87cd66080>"
      ]
     },
     "execution_count": 16,
     "metadata": {},
     "output_type": "execute_result"
    },
    {
     "data": {
      "text/plain": [
       "[]"
      ]
     },
     "execution_count": 16,
     "metadata": {},
     "output_type": "execute_result"
    },
    {
     "data": {
      "text/plain": [
       "[]"
      ]
     },
     "execution_count": 16,
     "metadata": {},
     "output_type": "execute_result"
    },
    {
     "data": {
      "text/plain": [
       "<matplotlib.image.AxesImage at 0x1f87cd66cc0>"
      ]
     },
     "execution_count": 16,
     "metadata": {},
     "output_type": "execute_result"
    },
    {
     "data": {
      "text/plain": [
       "[]"
      ]
     },
     "execution_count": 16,
     "metadata": {},
     "output_type": "execute_result"
    },
    {
     "data": {
      "text/plain": [
       "[]"
      ]
     },
     "execution_count": 16,
     "metadata": {},
     "output_type": "execute_result"
    },
    {
     "data": {
      "text/plain": [
       "<matplotlib.image.AxesImage at 0x1f87cd66f28>"
      ]
     },
     "execution_count": 16,
     "metadata": {},
     "output_type": "execute_result"
    },
    {
     "data": {
      "text/plain": [
       "[]"
      ]
     },
     "execution_count": 16,
     "metadata": {},
     "output_type": "execute_result"
    },
    {
     "data": {
      "text/plain": [
       "[]"
      ]
     },
     "execution_count": 16,
     "metadata": {},
     "output_type": "execute_result"
    },
    {
     "data": {
      "text/plain": [
       "<matplotlib.image.AxesImage at 0x1f87c8e5ac8>"
      ]
     },
     "execution_count": 16,
     "metadata": {},
     "output_type": "execute_result"
    },
    {
     "data": {
      "text/plain": [
       "[]"
      ]
     },
     "execution_count": 16,
     "metadata": {},
     "output_type": "execute_result"
    },
    {
     "data": {
      "text/plain": [
       "[]"
      ]
     },
     "execution_count": 16,
     "metadata": {},
     "output_type": "execute_result"
    },
    {
     "data": {
      "text/plain": [
       "<matplotlib.image.AxesImage at 0x1f87cd6e550>"
      ]
     },
     "execution_count": 16,
     "metadata": {},
     "output_type": "execute_result"
    },
    {
     "data": {
      "text/plain": [
       "[]"
      ]
     },
     "execution_count": 16,
     "metadata": {},
     "output_type": "execute_result"
    },
    {
     "data": {
      "text/plain": [
       "[]"
      ]
     },
     "execution_count": 16,
     "metadata": {},
     "output_type": "execute_result"
    },
    {
     "data": {
      "text/plain": [
       "<matplotlib.image.AxesImage at 0x1f87cd6e860>"
      ]
     },
     "execution_count": 16,
     "metadata": {},
     "output_type": "execute_result"
    },
    {
     "data": {
      "text/plain": [
       "[]"
      ]
     },
     "execution_count": 16,
     "metadata": {},
     "output_type": "execute_result"
    },
    {
     "data": {
      "text/plain": [
       "[]"
      ]
     },
     "execution_count": 16,
     "metadata": {},
     "output_type": "execute_result"
    },
    {
     "data": {
      "text/plain": [
       "<matplotlib.image.AxesImage at 0x1f87cd6eb38>"
      ]
     },
     "execution_count": 16,
     "metadata": {},
     "output_type": "execute_result"
    },
    {
     "data": {
      "text/plain": [
       "[]"
      ]
     },
     "execution_count": 16,
     "metadata": {},
     "output_type": "execute_result"
    },
    {
     "data": {
      "text/plain": [
       "[]"
      ]
     },
     "execution_count": 16,
     "metadata": {},
     "output_type": "execute_result"
    },
    {
     "data": {
      "text/plain": [
       "<matplotlib.image.AxesImage at 0x1f87cd6edd8>"
      ]
     },
     "execution_count": 16,
     "metadata": {},
     "output_type": "execute_result"
    },
    {
     "data": {
      "text/plain": [
       "[]"
      ]
     },
     "execution_count": 16,
     "metadata": {},
     "output_type": "execute_result"
    },
    {
     "data": {
      "text/plain": [
       "[]"
      ]
     },
     "execution_count": 16,
     "metadata": {},
     "output_type": "execute_result"
    },
    {
     "data": {
      "text/plain": [
       "<matplotlib.image.AxesImage at 0x1f87cd7a128>"
      ]
     },
     "execution_count": 16,
     "metadata": {},
     "output_type": "execute_result"
    },
    {
     "data": {
      "text/plain": [
       "[]"
      ]
     },
     "execution_count": 16,
     "metadata": {},
     "output_type": "execute_result"
    },
    {
     "data": {
      "text/plain": [
       "[]"
      ]
     },
     "execution_count": 16,
     "metadata": {},
     "output_type": "execute_result"
    },
    {
     "data": {
      "text/plain": [
       "<matplotlib.image.AxesImage at 0x1f87cd6eda0>"
      ]
     },
     "execution_count": 16,
     "metadata": {},
     "output_type": "execute_result"
    },
    {
     "data": {
      "text/plain": [
       "[]"
      ]
     },
     "execution_count": 16,
     "metadata": {},
     "output_type": "execute_result"
    },
    {
     "data": {
      "text/plain": [
       "[]"
      ]
     },
     "execution_count": 16,
     "metadata": {},
     "output_type": "execute_result"
    },
    {
     "data": {
      "text/plain": [
       "<matplotlib.image.AxesImage at 0x1f87cd7a6d8>"
      ]
     },
     "execution_count": 16,
     "metadata": {},
     "output_type": "execute_result"
    },
    {
     "data": {
      "text/plain": [
       "[]"
      ]
     },
     "execution_count": 16,
     "metadata": {},
     "output_type": "execute_result"
    },
    {
     "data": {
      "text/plain": [
       "[]"
      ]
     },
     "execution_count": 16,
     "metadata": {},
     "output_type": "execute_result"
    },
    {
     "data": {
      "text/plain": [
       "<matplotlib.image.AxesImage at 0x1f87cd7a9b0>"
      ]
     },
     "execution_count": 16,
     "metadata": {},
     "output_type": "execute_result"
    },
    {
     "data": {
      "text/plain": [
       "[]"
      ]
     },
     "execution_count": 16,
     "metadata": {},
     "output_type": "execute_result"
    },
    {
     "data": {
      "text/plain": [
       "[]"
      ]
     },
     "execution_count": 16,
     "metadata": {},
     "output_type": "execute_result"
    },
    {
     "data": {
      "text/plain": [
       "<matplotlib.image.AxesImage at 0x1f87cd7ac88>"
      ]
     },
     "execution_count": 16,
     "metadata": {},
     "output_type": "execute_result"
    },
    {
     "data": {
      "text/plain": [
       "[]"
      ]
     },
     "execution_count": 16,
     "metadata": {},
     "output_type": "execute_result"
    },
    {
     "data": {
      "text/plain": [
       "[]"
      ]
     },
     "execution_count": 16,
     "metadata": {},
     "output_type": "execute_result"
    },
    {
     "data": {
      "text/plain": [
       "<matplotlib.image.AxesImage at 0x1f87cd7af60>"
      ]
     },
     "execution_count": 16,
     "metadata": {},
     "output_type": "execute_result"
    },
    {
     "data": {
      "text/plain": [
       "[]"
      ]
     },
     "execution_count": 16,
     "metadata": {},
     "output_type": "execute_result"
    },
    {
     "data": {
      "text/plain": [
       "[]"
      ]
     },
     "execution_count": 16,
     "metadata": {},
     "output_type": "execute_result"
    },
    {
     "data": {
      "text/plain": [
       "<matplotlib.image.AxesImage at 0x1f87cd87278>"
      ]
     },
     "execution_count": 16,
     "metadata": {},
     "output_type": "execute_result"
    },
    {
     "data": {
      "text/plain": [
       "[]"
      ]
     },
     "execution_count": 16,
     "metadata": {},
     "output_type": "execute_result"
    },
    {
     "data": {
      "text/plain": [
       "[]"
      ]
     },
     "execution_count": 16,
     "metadata": {},
     "output_type": "execute_result"
    },
    {
     "data": {
      "text/plain": [
       "<matplotlib.image.AxesImage at 0x1f87cd87550>"
      ]
     },
     "execution_count": 16,
     "metadata": {},
     "output_type": "execute_result"
    },
    {
     "data": {
      "text/plain": [
       "[]"
      ]
     },
     "execution_count": 16,
     "metadata": {},
     "output_type": "execute_result"
    },
    {
     "data": {
      "text/plain": [
       "[]"
      ]
     },
     "execution_count": 16,
     "metadata": {},
     "output_type": "execute_result"
    },
    {
     "data": {
      "text/plain": [
       "<matplotlib.image.AxesImage at 0x1f87cd87828>"
      ]
     },
     "execution_count": 16,
     "metadata": {},
     "output_type": "execute_result"
    },
    {
     "data": {
      "text/plain": [
       "[]"
      ]
     },
     "execution_count": 16,
     "metadata": {},
     "output_type": "execute_result"
    },
    {
     "data": {
      "text/plain": [
       "[]"
      ]
     },
     "execution_count": 16,
     "metadata": {},
     "output_type": "execute_result"
    },
    {
     "data": {
      "text/plain": [
       "<matplotlib.image.AxesImage at 0x1f87cd87b00>"
      ]
     },
     "execution_count": 16,
     "metadata": {},
     "output_type": "execute_result"
    },
    {
     "data": {
      "text/plain": [
       "[]"
      ]
     },
     "execution_count": 16,
     "metadata": {},
     "output_type": "execute_result"
    },
    {
     "data": {
      "text/plain": [
       "[]"
      ]
     },
     "execution_count": 16,
     "metadata": {},
     "output_type": "execute_result"
    },
    {
     "data": {
      "text/plain": [
       "<matplotlib.image.AxesImage at 0x1f87cd87780>"
      ]
     },
     "execution_count": 16,
     "metadata": {},
     "output_type": "execute_result"
    },
    {
     "data": {
      "text/plain": [
       "[]"
      ]
     },
     "execution_count": 16,
     "metadata": {},
     "output_type": "execute_result"
    },
    {
     "data": {
      "text/plain": [
       "[]"
      ]
     },
     "execution_count": 16,
     "metadata": {},
     "output_type": "execute_result"
    },
    {
     "data": {
      "text/plain": [
       "<matplotlib.image.AxesImage at 0x1f87cba1ba8>"
      ]
     },
     "execution_count": 16,
     "metadata": {},
     "output_type": "execute_result"
    },
    {
     "data": {
      "text/plain": [
       "[]"
      ]
     },
     "execution_count": 16,
     "metadata": {},
     "output_type": "execute_result"
    },
    {
     "data": {
      "text/plain": [
       "[]"
      ]
     },
     "execution_count": 16,
     "metadata": {},
     "output_type": "execute_result"
    },
    {
     "data": {
      "text/plain": [
       "<matplotlib.image.AxesImage at 0x1f87cd8d3c8>"
      ]
     },
     "execution_count": 16,
     "metadata": {},
     "output_type": "execute_result"
    },
    {
     "data": {
      "text/plain": [
       "[]"
      ]
     },
     "execution_count": 16,
     "metadata": {},
     "output_type": "execute_result"
    },
    {
     "data": {
      "text/plain": [
       "[]"
      ]
     },
     "execution_count": 16,
     "metadata": {},
     "output_type": "execute_result"
    },
    {
     "data": {
      "text/plain": [
       "<matplotlib.image.AxesImage at 0x1f87cd8d630>"
      ]
     },
     "execution_count": 16,
     "metadata": {},
     "output_type": "execute_result"
    },
    {
     "data": {
      "text/plain": [
       "[]"
      ]
     },
     "execution_count": 16,
     "metadata": {},
     "output_type": "execute_result"
    },
    {
     "data": {
      "text/plain": [
       "[]"
      ]
     },
     "execution_count": 16,
     "metadata": {},
     "output_type": "execute_result"
    },
    {
     "data": {
      "text/plain": [
       "<matplotlib.image.AxesImage at 0x1f87cd8d978>"
      ]
     },
     "execution_count": 16,
     "metadata": {},
     "output_type": "execute_result"
    },
    {
     "data": {
      "text/plain": [
       "[]"
      ]
     },
     "execution_count": 16,
     "metadata": {},
     "output_type": "execute_result"
    },
    {
     "data": {
      "text/plain": [
       "[]"
      ]
     },
     "execution_count": 16,
     "metadata": {},
     "output_type": "execute_result"
    },
    {
     "data": {
      "text/plain": [
       "<matplotlib.image.AxesImage at 0x1f87cd8dbe0>"
      ]
     },
     "execution_count": 16,
     "metadata": {},
     "output_type": "execute_result"
    },
    {
     "data": {
      "text/plain": [
       "[]"
      ]
     },
     "execution_count": 16,
     "metadata": {},
     "output_type": "execute_result"
    },
    {
     "data": {
      "text/plain": [
       "[]"
      ]
     },
     "execution_count": 16,
     "metadata": {},
     "output_type": "execute_result"
    },
    {
     "data": {
      "image/png": "[encoded data removed]",
      "text/plain": [
       "<Figure size 1440x1440 with 100 Axes>"
      ]
     },
     "metadata": {},
     "output_type": "display_data"
    }
   ],
   "source": [
    "import matplotlib.pyplot as plt\n",
    "%matplotlib inline\n",
    "\n",
    "fig, axes = plt.subplots(10,10)\n",
    "fig.set_figwidth(20)\n",
    "fig.set_figheight(20)\n",
    "\n",
    "for coef, ax in zip(mlp.coefs_[0].T, axes.ravel()):\n",
    "    ax.matshow(coef.reshape(8, 8), cmap=plt.cm.gray, interpolation='bicubic')\n",
    "    ax.set_xticks(())\n",
    "    ax.set_yticks(())\n",
    "\n",
    "plt.show()"
   ]
  },
  {
   "cell_type": "code",
   "execution_count": 17,
   "metadata": {},
   "outputs": [
    {
     "data": {
      "text/plain": [
       "<matplotlib.image.AxesImage at 0x1f87d6f0128>"
      ]
     },
     "execution_count": 17,
     "metadata": {},
     "output_type": "execute_result"
    },
    {
     "data": {
      "text/plain": [
       "(-0.5, 7.5, 7.5, -0.5)"
      ]
     },
     "execution_count": 17,
     "metadata": {},
     "output_type": "execute_result"
    },
    {
     "data": {
      "image/png": "[encoded data removed]",
      "text/plain": [
       "<Figure size 432x288 with 1 Axes>"
      ]
     },
     "metadata": {},
     "output_type": "display_data"
    },
    {
     "name": "stdout",
     "output_type": "stream",
     "text": [
      "Ground Truth: 6\n",
      "Predicted: 6\n"
     ]
    },
    {
     "data": {
      "text/plain": [
       "<matplotlib.image.AxesImage at 0x1f87cddeeb8>"
      ]
     },
     "execution_count": 17,
     "metadata": {},
     "output_type": "execute_result"
    },
    {
     "data": {
      "text/plain": [
       "(-0.5, 7.5, 7.5, -0.5)"
      ]
     },
     "execution_count": 17,
     "metadata": {},
     "output_type": "execute_result"
    },
    {
     "data": {
      "image/png": "[encoded data removed]",
      "text/plain": [
       "<Figure size 432x288 with 1 Axes>"
      ]
     },
     "metadata": {},
     "output_type": "display_data"
    },
    {
     "name": "stdout",
     "output_type": "stream",
     "text": [
      "Ground Truth: 9\n",
      "Predicted: 9\n"
     ]
    },
    {
     "data": {
      "text/plain": [
       "<matplotlib.image.AxesImage at 0x1f87ce1deb8>"
      ]
     },
     "execution_count": 17,
     "metadata": {},
     "output_type": "execute_result"
    },
    {
     "data": {
      "text/plain": [
       "(-0.5, 7.5, 7.5, -0.5)"
      ]
     },
     "execution_count": 17,
     "metadata": {},
     "output_type": "execute_result"
    },
    {
     "data": {
      "image/png": "[encoded data removed]",
      "text/plain": [
       "<Figure size 432x288 with 1 Axes>"
      ]
     },
     "metadata": {},
     "output_type": "display_data"
    },
    {
     "name": "stdout",
     "output_type": "stream",
     "text": [
      "Ground Truth: 3\n",
      "Predicted: 3\n"
     ]
    },
    {
     "data": {
      "text/plain": [
       "<matplotlib.image.AxesImage at 0x1f87ce64518>"
      ]
     },
     "execution_count": 17,
     "metadata": {},
     "output_type": "execute_result"
    },
    {
     "data": {
      "text/plain": [
       "(-0.5, 7.5, 7.5, -0.5)"
      ]
     },
     "execution_count": 17,
     "metadata": {},
     "output_type": "execute_result"
    },
    {
     "data": {
      "image/png": "[encoded data removed]",
      "text/plain": [
       "<Figure size 432x288 with 1 Axes>"
      ]
     },
     "metadata": {},
     "output_type": "display_data"
    },
    {
     "name": "stdout",
     "output_type": "stream",
     "text": [
      "Ground Truth: 7\n",
      "Predicted: 7\n"
     ]
    },
    {
     "data": {
      "text/plain": [
       "<matplotlib.image.AxesImage at 0x1f87ceafba8>"
      ]
     },
     "execution_count": 17,
     "metadata": {},
     "output_type": "execute_result"
    },
    {
     "data": {
      "text/plain": [
       "(-0.5, 7.5, 7.5, -0.5)"
      ]
     },
     "execution_count": 17,
     "metadata": {},
     "output_type": "execute_result"
    },
    {
     "data": {
      "image/png": "[encoded data removed]",
      "text/plain": [
       "<Figure size 432x288 with 1 Axes>"
      ]
     },
     "metadata": {},
     "output_type": "display_data"
    },
    {
     "name": "stdout",
     "output_type": "stream",
     "text": [
      "Ground Truth: 2\n",
      "Predicted: 2\n"
     ]
    }
   ],
   "source": [
    "import numpy as np \n",
    "predicted = mlp.predict(X_test)\n",
    "\n",
    "for i in range(5):\n",
    "    image = np.reshape(X_test[i], (8,8))\n",
    "    plt.imshow(image, cmap=plt.cm.gray_r, interpolation='nearest')\n",
    "    plt.axis('off')\n",
    "    plt.show()\n",
    "    print('Ground Truth: {0}'.format(y_test[i]))\n",
    "    print('Predicted: {0}'.format(predicted[i]))"
   ]
  },
  {
   "cell_type": "code",
   "execution_count": null,
   "metadata": {},
   "outputs": [],
   "source": []
  }
 ],
 "metadata": {
  "kernelspec": {
   "display_name": "Python 3",
   "language": "python",
   "name": "python3"
  },
  "language_info": {
   "codemirror_mode": {
    "name": "ipython",
    "version": 3
   },
   "file_extension": ".py",
   "mimetype": "text/x-python",
   "name": "python",
   "nbconvert_exporter": "python",
   "pygments_lexer": "ipython3",
   "version": "3.6.5"
  }
 },
 "nbformat": 4,
 "nbformat_minor": 2
}
